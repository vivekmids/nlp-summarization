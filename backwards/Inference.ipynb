{
 "cells": [
  {
   "cell_type": "code",
   "execution_count": 1,
   "metadata": {},
   "outputs": [],
   "source": [
    "import pickle\n",
    "from matplotlib import pyplot "
   ]
  },
  {
   "cell_type": "code",
   "execution_count": 2,
   "metadata": {},
   "outputs": [],
   "source": [
    "hist = pickle.load(open( 'history.pkl' , \"rb\" ))"
   ]
  },
  {
   "cell_type": "code",
   "execution_count": 3,
   "metadata": {},
   "outputs": [
    {
     "data": {
      "image/png": "[encoded data removed]",
      "text/plain": [
       "<Figure size 432x288 with 1 Axes>"
      ]
     },
     "metadata": {
      "needs_background": "light"
     },
     "output_type": "display_data"
    }
   ],
   "source": [
    "\n",
    "pyplot.plot(hist['loss'], label='train') \n",
    "pyplot.plot(hist['val_loss'], label='test') \n",
    "pyplot.legend() \n",
    "pyplot.show()"
   ]
  },
  {
   "cell_type": "code",
   "execution_count": 63,
   "metadata": {},
   "outputs": [
    {
     "data": {
      "text/plain": [
       "{'loss': [1.509650233445081,\n",
       "  1.2613790182766849,\n",
       "  1.1610319341085495,\n",
       "  1.102450034273304,\n",
       "  1.0593217975068867,\n",
       "  1.0241696116661594,\n",
       "  0.994967396591195,\n",
       "  0.970517106815318],\n",
       " 'val_loss': [1.3510063410758648,\n",
       "  1.2217275852962013,\n",
       "  1.162791070033668,\n",
       "  1.1311378056943726,\n",
       "  1.1080633458195295,\n",
       "  1.0919181404836007,\n",
       "  1.081178777546279,\n",
       "  1.0749989974400207]}"
      ]
     },
     "execution_count": 63,
     "metadata": {},
     "output_type": "execute_result"
    }
   ],
   "source": [
    "hist"
   ]
  },
  {
   "cell_type": "code",
   "execution_count": 4,
   "metadata": {},
   "outputs": [
    {
     "name": "stdout",
     "output_type": "stream",
     "text": [
      "Loading training data.\n",
      "Training data loaded. Shape is (1387290, 2)\n",
      "Starting to build the embedding index.\n",
      "Built embeddings index. Found 400000 word vectors.\n",
      "Building text\n",
      "Found 212813 unique tokens.\n",
      "Text built. Lengths of x_data, encoder_emb, x_word_index, x_index_word are [1387290, 212814, 212813, 212813]\n",
      "Building headlines \n",
      "Found 78682 unique tokens.\n",
      "Headlines built. Lengths of y_data, decoder_emb, y_word_index, y_index_word are [1387290, 78683, 78682, 78682]\n",
      "Test Train Dev split done. Length of x_train, y_train,x_dev, y_dev, x_test, y_test are [971103, 971103, 278845, 278845, 137342, 137342]\n"
     ]
    }
   ],
   "source": [
    "import numpy as np\n",
    "import pandas as pd \n",
    "import pickle\n",
    "from time import time\n",
    "from sklearn.model_selection import train_test_split\n",
    "import tensorflow as tf\n",
    "from tensorflow.keras.preprocessing.text import Tokenizer \n",
    "from tensorflow.keras.preprocessing.sequence import pad_sequences\n",
    "#cleanfilename = 'cleandatamini.pkl'\n",
    "cleanfilename = 'cleandata.pkl'\n",
    "modelfilename = 'model.json'\n",
    "weightsfilename = 'model.h5'\n",
    "historyfilename = 'history.pkl'\n",
    "\n",
    "\n",
    "# In[2]:\n",
    "\n",
    "\n",
    "print('Loading training data.')\n",
    "\n",
    "\n",
    "# In[3]:\n",
    "\n",
    "\n",
    "clean_data = pickle.load( open( cleanfilename , \"rb\" ) )\n",
    "\n",
    "\n",
    "# In[4]:\n",
    "\n",
    "\n",
    "print('Training data loaded. Shape is', clean_data.shape)\n",
    "\n",
    "\n",
    "# In[27]:\n",
    "\n",
    "\n",
    "print('Starting to build the embedding index.')\n",
    "\n",
    "\n",
    "# In[28]:\n",
    "\n",
    "\n",
    "embeddings_index = {}\n",
    "f = open('data/glove/glove.6B/glove.6B.300d.txt')\n",
    "for line in f:\n",
    "    values = line.split()\n",
    "    word = values[0]\n",
    "    coefs = np.asarray(values[1:], dtype='float32')\n",
    "    embeddings_index[word] = coefs\n",
    "f.close()\n",
    "\n",
    "\n",
    "# In[29]:\n",
    "\n",
    "\n",
    "print('Built embeddings index. Found %s word vectors.' % len(embeddings_index))\n",
    "\n",
    "\n",
    "# In[30]:\n",
    "\n",
    "\n",
    "def doc2seq(texts, MAX_SEQUENCE_LENGTH, EMBEDDING_DIM):\n",
    "    tokenizer = Tokenizer(filters='\"#$%&()*+-/<=>@[\\\\]^_`{|}~\\t\\n')\n",
    "    tokenizer.fit_on_texts(texts)\n",
    "    sequences = tokenizer.texts_to_sequences(texts)\n",
    "\n",
    "    word_index = tokenizer.word_index\n",
    "    index_word = tokenizer.index_word\n",
    "    print('Found %s unique tokens.' % len(word_index))\n",
    "\n",
    "    data = pad_sequences(sequences, maxlen=MAX_SEQUENCE_LENGTH, padding = 'post')\n",
    "    \n",
    "    embedding_matrix = np.zeros((len(word_index) + 1, EMBEDDING_DIM))\n",
    "    for word, i in word_index.items():\n",
    "        embedding_vector = embeddings_index.get(word)\n",
    "        if embedding_vector is not None:\n",
    "            # words not found in embedding index will be all-zeros.\n",
    "            embedding_matrix[i] = embedding_vector\n",
    "    return data, embedding_matrix, word_index, index_word\n",
    "\n",
    "\n",
    "# In[31]:\n",
    "\n",
    "\n",
    "print('Building text')\n",
    "\n",
    "\n",
    "# In[32]:\n",
    "\n",
    "\n",
    "MAX_TEXT_LENGTH = 100\n",
    "EMBEDDING_DIM = 300\n",
    "data = clean_data.text\n",
    "\n",
    "x_data, encoder_emb, x_word_index, x_index_word = doc2seq(data, MAX_TEXT_LENGTH, EMBEDDING_DIM)\n",
    "\n",
    "\n",
    "# In[33]:\n",
    "\n",
    "\n",
    "print('Text built. Lengths of x_data, encoder_emb, x_word_index, x_index_word are', \n",
    "      list(map(lambda a:len(a), [x_data, encoder_emb, x_word_index, x_index_word ])))\n",
    "\n",
    "\n",
    "# In[34]:\n",
    "\n",
    "\n",
    "print('Building headlines ')\n",
    "\n",
    "\n",
    "# In[35]:\n",
    "\n",
    "\n",
    "MAX_HEADLINE_LENGTH = 30\n",
    "EMBEDDING_DIM = 300\n",
    "data = clean_data.headline\n",
    "\n",
    "y_data, decoder_emb, y_word_index, y_index_word = doc2seq(data, MAX_HEADLINE_LENGTH, EMBEDDING_DIM)\n",
    "\n",
    "\n",
    "# In[36]:\n",
    "\n",
    "\n",
    "print('Headlines built. Lengths of y_data, decoder_emb, y_word_index, y_index_word are', \n",
    "      list(map(lambda a:len(a), [y_data, decoder_emb, y_word_index, y_index_word])))\n",
    "\n",
    "\n",
    "# In[37]:\n",
    "\n",
    "\n",
    "x_train, x_test_temp, y_train, y_test_temp = train_test_split(x_data, y_data, \n",
    "                                                            test_size=0.3, random_state=0) \n",
    "\n",
    "\n",
    "# In[38]:\n",
    "\n",
    "\n",
    "x_dev, x_test, y_dev, y_test = train_test_split(x_test_temp, y_test_temp, \n",
    "                                                            test_size=0.33, random_state=0) \n",
    "\n",
    "\n",
    "# In[39]:\n",
    "\n",
    "\n",
    "print('Test Train Dev split done. Length of x_train, y_train,x_dev, y_dev, x_test, y_test are', \n",
    "     list(map(len, [x_train, y_train,x_dev, y_dev, x_test, y_test])))\n"
   ]
  },
  {
   "cell_type": "code",
   "execution_count": 5,
   "metadata": {},
   "outputs": [],
   "source": [
    "from tensorflow.keras.layers import Input, LSTM, Dense, Concatenate, TimeDistributed, Embedding\n",
    "from tensorflow.keras.models import Model\n",
    "from attention_keras.layers.attention import AttentionLayer\n",
    "from tensorflow.keras.utils import multi_gpu_model"
   ]
  },
  {
   "cell_type": "code",
   "execution_count": 6,
   "metadata": {},
   "outputs": [],
   "source": [
    "MAX_TEXT_LENGTH = 100\n",
    "MAX_HEADLINE_LENGTH = 30\n",
    "EMBEDDING_DIM = 300\n",
    "hidden_units = 300"
   ]
  },
  {
   "cell_type": "code",
   "execution_count": 7,
   "metadata": {},
   "outputs": [],
   "source": [
    "def create_model():\n",
    "    enc_embedding_layer = Embedding(len(x_word_index) + 1,\n",
    "                                EMBEDDING_DIM,\n",
    "                                weights=[encoder_emb],\n",
    "                                input_length=MAX_TEXT_LENGTH,\n",
    "                                trainable=False,\n",
    "                                name='EncoderEmbeddingLayer')\n",
    "\n",
    "\n",
    "    dec_embedding_layer = Embedding(len(y_word_index) + 1,\n",
    "                                EMBEDDING_DIM,\n",
    "                                weights=[decoder_emb],\n",
    "                                input_length=MAX_HEADLINE_LENGTH,\n",
    "                                trainable=False,\n",
    "                                name='DecoderEmbeddingLayer')\n",
    "\n",
    "\n",
    "    # Encoder \n",
    "\n",
    "    # Encoder input \n",
    "    # 2D (sequence_length, None), where sequence length is the MAX_LEN unified by padding in preprocessing\n",
    "    encoder_inputs = Input(shape=(MAX_TEXT_LENGTH,), name=\"EncoderInput\") \n",
    "    enc_emb = enc_embedding_layer(encoder_inputs) \n",
    "\n",
    "\n",
    "    #LSTM 1 \n",
    "    encoder_lstm1 = LSTM(hidden_units,return_sequences=True,return_state=True,go_backwards=True, name='EncLSTM1') \n",
    "    encoder_output1, state_h1, state_c1 = encoder_lstm1(enc_emb) \n",
    "\n",
    "    #LSTM 2 \n",
    "    encoder_lstm2 = LSTM(hidden_units,return_sequences=True,return_state=True,go_backwards=True, name='EncLSTM2') \n",
    "    encoder_output2, state_h2, state_c2 = encoder_lstm2(encoder_output1) \n",
    "\n",
    "    #LSTM 3 \n",
    "    encoder_lstm3=LSTM(hidden_units, return_state=True, return_sequences=True,go_backwards=True, name='EncLSTM3') \n",
    "    encoder_output3, state_h3, state_c3= encoder_lstm3(encoder_output2) \n",
    "\n",
    "    #LSTM 4 \n",
    "    encoder_lstm4=LSTM(hidden_units, return_state=True, return_sequences=True,go_backwards=True, name='EncLSTM4') \n",
    "    encoder_outputs, state_h, state_c= encoder_lstm4(encoder_output3) \n",
    "\n",
    "    # Decoder \n",
    "\n",
    "    decoder_inputs = Input(shape=(None,), name = 'DecoderInput') \n",
    "    #dec_emb_layer = Embedding(y_voc_size, latent_dim,trainable=True) \n",
    "    dec_emb = dec_embedding_layer(decoder_inputs) \n",
    "\n",
    "    #LSTM using encoder_states as initial state\n",
    "    decoder_lstm = LSTM(hidden_units, return_sequences=True, return_state=True, name='DecLSTM1') \n",
    "    decoder_outputs,decoder_fwd_state, decoder_back_state = decoder_lstm(dec_emb,initial_state=[state_h, state_c]) \n",
    "\n",
    "    #Attention Layer\n",
    "    attn_layer = AttentionLayer(name='attention_layer') \n",
    "    attn_out, attn_states = attn_layer([encoder_outputs, decoder_outputs]) \n",
    "\n",
    "    # Concat attention output and decoder LSTM output \n",
    "    decoder_concat_input = Concatenate(axis=-1, name='concat_layer')([decoder_outputs, attn_out])\n",
    "\n",
    "    #Dense layer\n",
    "    decoder_dense = TimeDistributed(Dense(len(y_word_index)+1, activation='softmax')) \n",
    "    decoder_outputs = decoder_dense(decoder_concat_input) \n",
    "\n",
    "    return Model([encoder_inputs, decoder_inputs], decoder_outputs)\n",
    "\n",
    "\n"
   ]
  },
  {
   "cell_type": "code",
   "execution_count": 8,
   "metadata": {},
   "outputs": [
    {
     "name": "stdout",
     "output_type": "stream",
     "text": [
      "Model: \"model\"\n",
      "__________________________________________________________________________________________________\n",
      "Layer (type)                    Output Shape         Param #     Connected to                     \n",
      "==================================================================================================\n",
      "EncoderInput (InputLayer)       [(None, 100)]        0                                            \n",
      "__________________________________________________________________________________________________\n",
      "EncoderEmbeddingLayer (Embeddin (None, 100, 300)     63844200    EncoderInput[0][0]               \n",
      "__________________________________________________________________________________________________\n",
      "EncLSTM1 (LSTM)                 [(None, 100, 300), ( 721200      EncoderEmbeddingLayer[0][0]      \n",
      "__________________________________________________________________________________________________\n",
      "EncLSTM2 (LSTM)                 [(None, 100, 300), ( 721200      EncLSTM1[0][0]                   \n",
      "__________________________________________________________________________________________________\n",
      "DecoderInput (InputLayer)       [(None, None)]       0                                            \n",
      "__________________________________________________________________________________________________\n",
      "EncLSTM3 (LSTM)                 [(None, 100, 300), ( 721200      EncLSTM2[0][0]                   \n",
      "__________________________________________________________________________________________________\n",
      "DecoderEmbeddingLayer (Embeddin (None, None, 300)    23604900    DecoderInput[0][0]               \n",
      "__________________________________________________________________________________________________\n",
      "EncLSTM4 (LSTM)                 [(None, 100, 300), ( 721200      EncLSTM3[0][0]                   \n",
      "__________________________________________________________________________________________________\n",
      "DecLSTM1 (LSTM)                 [(None, None, 300),  721200      DecoderEmbeddingLayer[0][0]      \n",
      "                                                                 EncLSTM4[0][1]                   \n",
      "                                                                 EncLSTM4[0][2]                   \n",
      "__________________________________________________________________________________________________\n",
      "attention_layer (AttentionLayer ((None, None, 300),  180300      EncLSTM4[0][0]                   \n",
      "                                                                 DecLSTM1[0][0]                   \n",
      "__________________________________________________________________________________________________\n",
      "concat_layer (Concatenate)      (None, None, 600)    0           DecLSTM1[0][0]                   \n",
      "                                                                 attention_layer[0][0]            \n",
      "__________________________________________________________________________________________________\n",
      "time_distributed (TimeDistribut (None, None, 78683)  47288483    concat_layer[0][0]               \n",
      "==================================================================================================\n",
      "Total params: 138,523,883\n",
      "Trainable params: 51,074,783\n",
      "Non-trainable params: 87,449,100\n",
      "__________________________________________________________________________________________________\n"
     ]
    }
   ],
   "source": [
    "strategy = tf.distribute.MirroredStrategy()\n",
    "with strategy.scope():\n",
    "    parallel_model = create_model() \n",
    "    parallel_model.compile(optimizer='adam', loss='sparse_categorical_crossentropy')\n",
    "\n",
    "parallel_model.summary()"
   ]
  },
  {
   "cell_type": "code",
   "execution_count": 9,
   "metadata": {},
   "outputs": [
    {
     "name": "stdout",
     "output_type": "stream",
     "text": [
      "Loaded model from disk\n"
     ]
    }
   ],
   "source": [
    "parallel_model.load_weights(\"model_fd_111519_300units_punct.h5\")\n",
    "print(\"Loaded model from disk\")"
   ]
  },
  {
   "cell_type": "code",
   "execution_count": 55,
   "metadata": {},
   "outputs": [
    {
     "data": {
      "text/plain": [
       "[<tensorflow.python.keras.engine.input_layer.InputLayer at 0x7ff948797898>,\n",
       " <tensorflow.python.keras.layers.embeddings.Embedding at 0x7ff9487975f8>,\n",
       " <tensorflow.python.keras.layers.recurrent_v2.LSTM at 0x7ff8cd607ac8>,\n",
       " <tensorflow.python.keras.layers.recurrent_v2.LSTM at 0x7ff7af21d5c0>,\n",
       " <tensorflow.python.keras.engine.input_layer.InputLayer at 0x7ff7afdb7588>,\n",
       " <tensorflow.python.keras.layers.recurrent_v2.LSTM at 0x7ff7bbdb9400>,\n",
       " <tensorflow.python.keras.layers.embeddings.Embedding at 0x7ff948797940>,\n",
       " <tensorflow.python.keras.layers.recurrent_v2.LSTM at 0x7ff7afca4278>,\n",
       " <tensorflow.python.keras.layers.recurrent_v2.LSTM at 0x7ff7af996358>,\n",
       " <attention_keras.layers.attention.AttentionLayer at 0x7ff7af74b5f8>,\n",
       " <tensorflow.python.keras.layers.merge.Concatenate at 0x7ff7af4c2e48>,\n",
       " <tensorflow.python.keras.layers.wrappers.TimeDistributed at 0x7ff7af367a58>]"
      ]
     },
     "execution_count": 55,
     "metadata": {},
     "output_type": "execute_result"
    }
   ],
   "source": [
    "parallel_model.layers"
   ]
  },
  {
   "cell_type": "code",
   "execution_count": 33,
   "metadata": {},
   "outputs": [
    {
     "data": {
      "text/plain": [
       "[<tf.Tensor 'EncLSTM4/Identity:0' shape=(None, 100, 300) dtype=float32>,\n",
       " <tf.Tensor 'EncLSTM4/Identity_1:0' shape=(None, 300) dtype=float32>,\n",
       " <tf.Tensor 'EncLSTM4/Identity_2:0' shape=(None, 300) dtype=float32>]"
      ]
     },
     "execution_count": 33,
     "metadata": {},
     "output_type": "execute_result"
    }
   ],
   "source": [
    "parallel_model.get_layer('EncLSTM4').output"
   ]
  },
  {
   "cell_type": "code",
   "execution_count": 40,
   "metadata": {},
   "outputs": [
    {
     "data": {
      "text/plain": [
       "[<tf.Tensor 'EncLSTM4/Identity:0' shape=(None, 100, 300) dtype=float32>,\n",
       " <tf.Tensor 'EncLSTM4/Identity_1:0' shape=(None, 300) dtype=float32>,\n",
       " <tf.Tensor 'EncLSTM4/Identity_2:0' shape=(None, 300) dtype=float32>]"
      ]
     },
     "execution_count": 40,
     "metadata": {},
     "output_type": "execute_result"
    }
   ],
   "source": [
    "parallel_model.get_layer('EncLSTM4').output"
   ]
  },
  {
   "cell_type": "code",
   "execution_count": 38,
   "metadata": {},
   "outputs": [
    {
     "data": {
      "text/plain": [
       "<tensorflow.python.keras.layers.embeddings.Embedding at 0x7ff948797940>"
      ]
     },
     "execution_count": 38,
     "metadata": {},
     "output_type": "execute_result"
    }
   ],
   "source": [
    "parallel_model.get_layer('DecoderEmbeddingLayer')"
   ]
  },
  {
   "cell_type": "code",
   "execution_count": 44,
   "metadata": {},
   "outputs": [],
   "source": [
    "encoder_inputs = parallel_model.input[0]\n",
    "encoder_model = Model(inputs = encoder_inputs, outputs = parallel_model.get_layer('EncLSTM4').output)"
   ]
  },
  {
   "cell_type": "code",
   "execution_count": 57,
   "metadata": {},
   "outputs": [],
   "source": [
    "decoder_state_input_h = Input(shape=(hidden_units,))\n",
    "decoder_state_input_c = Input(shape=(hidden_units,))\n",
    "decoder_hidden_state_input = Input(shape=(MAX_TEXT_LENGTH,hidden_units))\n",
    "\n",
    "# Get the embeddings of the decoder sequence\n",
    "dec_emb2= parallel_model.get_layer('DecoderEmbeddingLayer')(parallel_model.input[1])\n",
    "\n",
    "# To predict the next word in the sequence, set the initial states to the states from the previous time step\n",
    "decoder_outputs2, state_h2, state_c2 = parallel_model.get_layer('DecLSTM1')(dec_emb2, initial_state=[decoder_state_input_h, decoder_state_input_c])\n",
    "\n",
    "#attention inference\n",
    "attn_out_inf, attn_states_inf = parallel_model.get_layer('attention_layer')([decoder_hidden_state_input, decoder_outputs2])\n",
    "decoder_inf_concat = Concatenate(axis=-1, name='concat')([decoder_outputs2, attn_out_inf])\n",
    "\n",
    "# A dense softmax layer to generate prob dist. over the target vocabulary\n",
    "decoder_outputs2 = parallel_model.layers[-1](decoder_inf_concat) #This is the time distributed layer\n",
    "\n",
    "# Final decoder model\n",
    "decoder_model = Model(\n",
    "[parallel_model.input[1]] + [decoder_hidden_state_input,decoder_state_input_h, decoder_state_input_c],\n",
    "[decoder_outputs2] + [state_h2, state_c2])"
   ]
  },
  {
   "cell_type": "code",
   "execution_count": null,
   "metadata": {},
   "outputs": [],
   "source": []
  },
  {
   "cell_type": "code",
   "execution_count": 10,
   "metadata": {},
   "outputs": [
    {
     "ename": "NameError",
     "evalue": "name 'encoder_inputs' is not defined",
     "output_type": "error",
     "traceback": [
      "\u001b[0;31m---------------------------------------------------------------------------\u001b[0m",
      "\u001b[0;31mNameError\u001b[0m                                 Traceback (most recent call last)",
      "\u001b[0;32m<ipython-input-10-b4ab86fe347e>\u001b[0m in \u001b[0;36m<module>\u001b[0;34m\u001b[0m\n\u001b[1;32m      1\u001b[0m \u001b[0;31m# encoder inference\u001b[0m\u001b[0;34m\u001b[0m\u001b[0;34m\u001b[0m\u001b[0;34m\u001b[0m\u001b[0m\n\u001b[0;32m----> 2\u001b[0;31m \u001b[0mencoder_model\u001b[0m \u001b[0;34m=\u001b[0m \u001b[0mModel\u001b[0m\u001b[0;34m(\u001b[0m\u001b[0minputs\u001b[0m\u001b[0;34m=\u001b[0m\u001b[0mencoder_inputs\u001b[0m\u001b[0;34m,\u001b[0m\u001b[0moutputs\u001b[0m\u001b[0;34m=\u001b[0m\u001b[0;34m[\u001b[0m\u001b[0mencoder_outputs\u001b[0m\u001b[0;34m,\u001b[0m \u001b[0mstate_h\u001b[0m\u001b[0;34m,\u001b[0m \u001b[0mstate_c\u001b[0m\u001b[0;34m]\u001b[0m\u001b[0;34m)\u001b[0m\u001b[0;34m\u001b[0m\u001b[0;34m\u001b[0m\u001b[0m\n\u001b[0m\u001b[1;32m      3\u001b[0m \u001b[0;34m\u001b[0m\u001b[0m\n\u001b[1;32m      4\u001b[0m \u001b[0;31m# decoder inference\u001b[0m\u001b[0;34m\u001b[0m\u001b[0;34m\u001b[0m\u001b[0;34m\u001b[0m\u001b[0m\n\u001b[1;32m      5\u001b[0m \u001b[0;31m# Below tensors will hold the states of the previous time step\u001b[0m\u001b[0;34m\u001b[0m\u001b[0;34m\u001b[0m\u001b[0;34m\u001b[0m\u001b[0m\n",
      "\u001b[0;31mNameError\u001b[0m: name 'encoder_inputs' is not defined"
     ]
    }
   ],
   "source": [
    "# encoder inference\n",
    "encoder_inputs = Input(shape=(MAX_TEXT_LENGTH,), name=\"EncoderInput\") \n",
    "encoder_model = Model(inputs=encoder_inputs,outputs=[encoder_outputs, state_h, state_c])\n",
    "\n",
    "# decoder inference\n",
    "# Below tensors will hold the states of the previous time step\n",
    "decoder_state_input_h = Input(shape=(hidden_units,))\n",
    "decoder_state_input_c = Input(shape=(hidden_units,))\n",
    "decoder_hidden_state_input = Input(shape=(MAX_TEXT_LENGTH,hidden_units))\n",
    "\n",
    "# Get the embeddings of the decoder sequence\n",
    "dec_emb2= dec_embedding_layer(decoder_inputs)\n",
    "\n",
    "# To predict the next word in the sequence, set the initial states to the states from the previous time step\n",
    "decoder_outputs2, state_h2, state_c2 = decoder_lstm(dec_emb2, initial_state=[decoder_state_input_h, decoder_state_input_c])\n",
    "\n",
    "#attention inference\n",
    "attn_out_inf, attn_states_inf = attn_layer([decoder_hidden_state_input, decoder_outputs2])\n",
    "decoder_inf_concat = Concatenate(axis=-1, name='concat')([decoder_outputs2, attn_out_inf])\n",
    "\n",
    "# A dense softmax layer to generate prob dist. over the target vocabulary\n",
    "decoder_outputs2 = decoder_dense(decoder_inf_concat)\n",
    "\n",
    "# Final decoder model\n",
    "decoder_model = Model(\n",
    "[decoder_inputs] + [decoder_hidden_state_input,decoder_state_input_h, decoder_state_input_c],\n",
    "[decoder_outputs2] + [state_h2, state_c2])"
   ]
  },
  {
   "cell_type": "code",
   "execution_count": 58,
   "metadata": {},
   "outputs": [],
   "source": [
    "def seq2summary(input_seq):\n",
    "    newString=''\n",
    "    for i in input_seq:\n",
    "        if(i!=0 ):\n",
    "            newString=newString+y_index_word[i]+' '\n",
    "    return newString\n",
    "\n",
    "def seq2text(input_seq):\n",
    "    newString=''\n",
    "    for i in input_seq:\n",
    "        if(i!=0):\n",
    "            newString=newString+x_index_word[i]+' '\n",
    "    return newString"
   ]
  },
  {
   "cell_type": "code",
   "execution_count": 59,
   "metadata": {},
   "outputs": [],
   "source": [
    "def decode_sequence(input_seq):\n",
    "    # Encode the input as state vectors.\n",
    "    e_out, e_h, e_c = encoder_model.predict(input_seq)\n",
    "\n",
    "    # Generate empty target sequence of length 1.\n",
    "    target_seq = np.zeros((1,1))\n",
    "\n",
    "    # Chose the 'start' word as the first word of the target sequence\n",
    "    target_seq[0, 0] = y_word_index.get('START', 0)\n",
    "\n",
    "    stop_condition = False\n",
    "    decoded_sentence = ''\n",
    "    while not stop_condition:\n",
    "        output_tokens, h, c = decoder_model.predict([target_seq] + [e_out, e_h, e_c])\n",
    "        #print(output_tokens)\n",
    "        #print(h)\n",
    "        #print(c)\n",
    "\n",
    "        # Sample a token\n",
    "        sampled_token_index = np.argmax(output_tokens[0, -1, :])\n",
    "        #print(sampled_token_index)\n",
    "        sampled_token = y_index_word.get(sampled_token_index, '.')\n",
    "\n",
    "        if(sampled_token!='END'):\n",
    "            decoded_sentence += ' '+sampled_token\n",
    "\n",
    "            # Exit condition: either hit max length or find stop word.\n",
    "            if (sampled_token == 'END' or len(decoded_sentence.split()) >= (MAX_HEADLINE_LENGTH-1)):\n",
    "                stop_condition = True\n",
    "\n",
    "        # Update the target sequence (of length 1).\n",
    "        target_seq = np.zeros((1,1))\n",
    "        target_seq[0, 0] = sampled_token_index\n",
    "\n",
    "        # Update internal states\n",
    "        e_h, e_c = h, c\n",
    "\n",
    "    return decoded_sentence"
   ]
  },
  {
   "cell_type": "code",
   "execution_count": 61,
   "metadata": {},
   "outputs": [],
   "source": [
    "def decode_sequence_beam(input_seq, beam=3):\n",
    "    # Encode the input as state vectors.\n",
    "    e_out, e_h, e_c = encoder_model.predict(input_seq)\n",
    "\n",
    "    top_sentences = {}\n",
    "    \n",
    "    def top_tokens(last_token, out, h, c):\n",
    "        output_tokens, h_new, c_new = decoder_model.predict([[last_token]] + [out, h, c])\n",
    "        top_token_indexes = np.argsort(output_tokens[0, -1, :])[-beam:]\n",
    "        top_probabilities = output_tokens[0,-1, top_token_indexes]\n",
    "        return top_token_indexes, top_probabilities, h_new, c_new\n",
    "        \n",
    "    #first set of tokens when feeding encoder states and 0 as the first token to the decoder.\n",
    "    first_tokens, first_probabilities, h, c = top_tokens(0, e_out, e_h, e_c)\n",
    "    for first_token, first_probability in zip(first_tokens, first_probabilities):\n",
    "        #initialize top sentences, their corresponding probabilities and states\n",
    "        top_sentences[y_index_word.get(first_token, '')] = (first_probability, e_h, e_c)\n",
    "    \n",
    "    \n",
    "    #loop to iterate over next tokens\n",
    "    len = 1\n",
    "    while len < MAX_HEADLINE_LENGTH:\n",
    "        candidate_sentences = {}\n",
    "        for sentence, (probability, h, c) in top_sentences.items():\n",
    "            last_word = sentence.split()[-1] #pick the last word in the sentence as next word\n",
    "            if(last_word != '.'):\n",
    "                token = y_word_index.get(last_word, 0) \n",
    "                next_tokens, next_probabilities, h_next, c_next = top_tokens(token, e_out, h, c)\n",
    "                for next_token, next_probability in zip(next_tokens, next_probabilities):\n",
    "                    new_sentence = sentence.strip() + ' ' + y_index_word.get(next_token, '')\n",
    "                    candidate_sentences[new_sentence.strip()] = (probability * next_probability, h_next, c_next)\n",
    "            else:\n",
    "                candidate_sentences[sentence] = (probability, h, c)\n",
    "\n",
    "        #print('Candidate sentences')\n",
    "        #print(candidate_sentences.keys())\n",
    "        \n",
    "        #remove low probability candidates\n",
    "        low_probability_candidates = sorted(candidate_sentences, key=lambda k: candidate_sentences.get(k)[0])[:-beam]\n",
    "        for low_probability_candidate in low_probability_candidates:\n",
    "            candidate_sentences.pop(low_probability_candidate)\n",
    "        \n",
    "        #Now all candidates left have highest probabilities.\n",
    "        top_sentences = candidate_sentences\n",
    "        len = len + 1\n",
    "        #print('Sentences at the bottom of the loop')\n",
    "        #print(top_sentences.keys())\n",
    "        \n",
    "\n",
    "    return top_sentences"
   ]
  },
  {
   "cell_type": "code",
   "execution_count": 46,
   "metadata": {},
   "outputs": [],
   "source": [
    "############\n",
    "##### helpful functions to help with formatting when printing: \n",
    "############\n",
    "def printmd(string):\n",
    "    display(Markdown(string)) #just a pretty print \n",
    "\n",
    "############\n",
    "##### function for BLEU \n",
    "#############\n",
    "\n",
    "from nltk.translate.bleu_score import sentence_bleu\n",
    "# reference: https://machinelearningmastery.com/calculate-bleu-score-for-text-python/\n",
    "\n",
    "def calc_indiv_BLEU(id_text, text_df, headline_df): \n",
    "    # This function will take the following as inputs: \n",
    "    # id_text: the index you are interested in \n",
    "    # gen_text_df: the sequences that hold the full text \n",
    "    # headline_df: the sequences that hold the headline text \n",
    "    \n",
    "    # -- Step 1: generate the decoded sequence from a given sample of text\n",
    "    gen_output = decode_sequence(text_df[id_text].reshape(1,-1))\n",
    "    split_output = gen_output.split(\" \")\n",
    "    candidate = [item for item in split_output if (item!=\".\" and item!=\"\")] #get rid of empty spaces and periods \n",
    "    # -- Step 2: generate the true headline summary from our labelled headline text\n",
    "    gen_ref = seq2summary(headline_df[id_text])\n",
    "    split_ref = gen_ref.split(\" \")\n",
    "    #get rid of empty spaces and periods (there shouldn't be any as we already cleaned the headline, but just in case)\n",
    "    reference = [item for item in split_ref if (item!=\".\" and item!=\"\")] \n",
    "    # -- Step 3: calculate BLEU \n",
    "    score = sentence_bleu(gen_ref, gen_output, weights=(1, 0, 0, 0))\n",
    "    # we can alternate weights for cumulative scores afterwards \n",
    "    # For now, BLEU is based on unigram counts \n",
    "    return(score)\n",
    "\n",
    "###############\n",
    "##### function for rouge \n",
    "############### \n",
    "# PULL METRICS.PY FILE!! \n",
    "from metrics import rouge_n_sentence_level\n",
    "# metrics.py is taken from https://github.com/neural-dialogue-metrics/rouge\n",
    "\n",
    "# Other useful links to keep in mind: \n",
    "# https://stackoverflow.com/questions/38045290/text-summarization-evaluation-bleu-vs-rouge\n",
    "\n",
    "def calc_indiv_rouge(id_text, text_df, headline_df, rouge_n): \n",
    "    # This function will take the following as inputs: \n",
    "    # id_text: the index you are interested in \n",
    "    # gen_text_df: the sequences that hold the full text \n",
    "    # headline_df: the sequences that hold the headline text \n",
    "    \n",
    "    # -- Step 1: generate the decoded sequence from a given sample of text\n",
    "    gen_output = decode_sequence(text_df[id_text].reshape(1,-1))\n",
    "    split_output = gen_output.split(\" \")\n",
    "    candidate = [item for item in split_output if (item!=\".\" and item!=\"\")] #get rid of empty spaces and periods \n",
    "    # -- Step 2: generate the true headline summary from our labelled headline text\n",
    "    gen_ref = seq2summary(headline_df[id_text])\n",
    "    split_ref = gen_ref.split(\" \")\n",
    "    #get rid of empty spaces and periods (there shouldn't be any as we already cleaned the headline, but just in case)\n",
    "    reference = [item for item in split_ref if (item!=\".\" and item!=\"\")] \n",
    "    # -- Step 3: calculate rouge\n",
    "    recall, precision, rouge = rouge_n_sentence_level(candidate, reference, rouge_n)\n",
    "    # rouge is actually an f-score of the recall and precision \n",
    "    return(recall, precision, rouge)"
   ]
  },
  {
   "cell_type": "code",
   "execution_count": 47,
   "metadata": {},
   "outputs": [],
   "source": [
    "#############\n",
    "# Evaluation print-out example \n",
    "############# \n",
    "from IPython.display import Markdown, display"
   ]
  },
  {
   "cell_type": "code",
   "execution_count": 48,
   "metadata": {},
   "outputs": [
    {
     "data": {
      "text/markdown": [
       "**Generated summary:** attach the vent hose to the vent . . . . . . . . . . . . . . . . . . . . . ."
      ],
      "text/plain": [
       "<IPython.core.display.Markdown object>"
      ]
     },
     "metadata": {},
     "output_type": "display_data"
    },
    {
     "data": {
      "text/markdown": [
       "**Original summary:**make sure you have a compatible exhaust vent . "
      ],
      "text/plain": [
       "<IPython.core.display.Markdown object>"
      ]
     },
     "metadata": {},
     "output_type": "display_data"
    },
    {
     "data": {
      "text/markdown": [
       "**Text:**the vent on your dryer needs to match up with the one in the wall in your laundry room . most exhaust vents are inches . cm in diameter . if the vent in your dryer does not match the one in your wall , you should be able to purchase a vent adapter or transition pipe at a hardware or home supply store . "
      ],
      "text/plain": [
       "<IPython.core.display.Markdown object>"
      ]
     },
     "metadata": {},
     "output_type": "display_data"
    },
    {
     "name": "stderr",
     "output_type": "stream",
     "text": [
      "/usr/local/lib/python3.6/dist-packages/nltk/translate/bleu_score.py:523: UserWarning: \n",
      "The hypothesis contains 0 counts of 2-gram overlaps.\n",
      "Therefore the BLEU score evaluates to 0, independently of\n",
      "how many N-gram overlaps of lower order it contains.\n",
      "Consider using lower n-gram order or use SmoothingFunction()\n",
      "  warnings.warn(_msg)\n",
      "/usr/local/lib/python3.6/dist-packages/nltk/translate/bleu_score.py:523: UserWarning: \n",
      "The hypothesis contains 0 counts of 3-gram overlaps.\n",
      "Therefore the BLEU score evaluates to 0, independently of\n",
      "how many N-gram overlaps of lower order it contains.\n",
      "Consider using lower n-gram order or use SmoothingFunction()\n",
      "  warnings.warn(_msg)\n",
      "/usr/local/lib/python3.6/dist-packages/nltk/translate/bleu_score.py:523: UserWarning: \n",
      "The hypothesis contains 0 counts of 4-gram overlaps.\n",
      "Therefore the BLEU score evaluates to 0, independently of\n",
      "how many N-gram overlaps of lower order it contains.\n",
      "Consider using lower n-gram order or use SmoothingFunction()\n",
      "  warnings.warn(_msg)\n"
     ]
    },
    {
     "data": {
      "text/markdown": [
       "**BLEU score(Unigram):** 0.14285714285714285"
      ],
      "text/plain": [
       "<IPython.core.display.Markdown object>"
      ]
     },
     "metadata": {},
     "output_type": "display_data"
    },
    {
     "data": {
      "text/markdown": [
       "**ROUGE-**1**-Recall:** 0.125"
      ],
      "text/plain": [
       "<IPython.core.display.Markdown object>"
      ]
     },
     "metadata": {},
     "output_type": "display_data"
    },
    {
     "data": {
      "text/markdown": [
       "**ROUGE-**1**-Precision:** 0.14285714285714285"
      ],
      "text/plain": [
       "<IPython.core.display.Markdown object>"
      ]
     },
     "metadata": {},
     "output_type": "display_data"
    },
    {
     "data": {
      "text/markdown": [
       "**ROUGE-**1**-Fscore:** 0.13333333333333333"
      ],
      "text/plain": [
       "<IPython.core.display.Markdown object>"
      ]
     },
     "metadata": {},
     "output_type": "display_data"
    },
    {
     "name": "stdout",
     "output_type": "stream",
     "text": [
      "_________________________________________________________________\n"
     ]
    },
    {
     "data": {
      "text/markdown": [
       "**Generated summary:** swing your arms . . . . . . . . . . . . . . . . . . . . . . . . . ."
      ],
      "text/plain": [
       "<IPython.core.display.Markdown object>"
      ]
     },
     "metadata": {},
     "output_type": "display_data"
    },
    {
     "data": {
      "text/markdown": [
       "**Original summary:**turn your back knee towards the ball as your front heel touches down . "
      ],
      "text/plain": [
       "<IPython.core.display.Markdown object>"
      ]
     },
     "metadata": {},
     "output_type": "display_data"
    },
    {
     "data": {
      "text/markdown": [
       "**Text:**this initiates a strong , powerful swing . as you start your swing your front foot must be planted firmly on the ground or you will lose balance and power . "
      ],
      "text/plain": [
       "<IPython.core.display.Markdown object>"
      ]
     },
     "metadata": {},
     "output_type": "display_data"
    },
    {
     "data": {
      "text/markdown": [
       "**BLEU score(Unigram):** 0.14705882352941177"
      ],
      "text/plain": [
       "<IPython.core.display.Markdown object>"
      ]
     },
     "metadata": {},
     "output_type": "display_data"
    },
    {
     "data": {
      "text/markdown": [
       "**ROUGE-**1**-Recall:** 0.07692307692307693"
      ],
      "text/plain": [
       "<IPython.core.display.Markdown object>"
      ]
     },
     "metadata": {},
     "output_type": "display_data"
    },
    {
     "data": {
      "text/markdown": [
       "**ROUGE-**1**-Precision:** 0.3333333333333333"
      ],
      "text/plain": [
       "<IPython.core.display.Markdown object>"
      ]
     },
     "metadata": {},
     "output_type": "display_data"
    },
    {
     "data": {
      "text/markdown": [
       "**ROUGE-**1**-Fscore:** 0.125"
      ],
      "text/plain": [
       "<IPython.core.display.Markdown object>"
      ]
     },
     "metadata": {},
     "output_type": "display_data"
    },
    {
     "name": "stdout",
     "output_type": "stream",
     "text": [
      "_________________________________________________________________\n"
     ]
    },
    {
     "data": {
      "text/markdown": [
       "**Generated summary:** rinse the area with water . . . . . . . . . . . . . . . . . . . . . . . ."
      ],
      "text/plain": [
       "<IPython.core.display.Markdown object>"
      ]
     },
     "metadata": {},
     "output_type": "display_data"
    },
    {
     "data": {
      "text/markdown": [
       "**Original summary:**spray with a garden hose . "
      ],
      "text/plain": [
       "<IPython.core.display.Markdown object>"
      ]
     },
     "metadata": {},
     "output_type": "display_data"
    },
    {
     "data": {
      "text/markdown": [
       "**Text:**use a garden hose or bucket of water to rinse off the cleaner . make sure you’ve rinsed it off thoroughly . a chalky film will develop on the awning if the cleaner hasn’t been washed off . allow it to air dry . do not pressure wash an awning . pressure washing can cause damage . "
      ],
      "text/plain": [
       "<IPython.core.display.Markdown object>"
      ]
     },
     "metadata": {},
     "output_type": "display_data"
    },
    {
     "data": {
      "text/markdown": [
       "**BLEU score(Unigram):** 0.14864864864864866"
      ],
      "text/plain": [
       "<IPython.core.display.Markdown object>"
      ]
     },
     "metadata": {},
     "output_type": "display_data"
    },
    {
     "data": {
      "text/markdown": [
       "**ROUGE-**1**-Recall:** 0.2"
      ],
      "text/plain": [
       "<IPython.core.display.Markdown object>"
      ]
     },
     "metadata": {},
     "output_type": "display_data"
    },
    {
     "data": {
      "text/markdown": [
       "**ROUGE-**1**-Precision:** 0.2"
      ],
      "text/plain": [
       "<IPython.core.display.Markdown object>"
      ]
     },
     "metadata": {},
     "output_type": "display_data"
    },
    {
     "data": {
      "text/markdown": [
       "**ROUGE-**1**-Fscore:** 0.20000000000000004"
      ],
      "text/plain": [
       "<IPython.core.display.Markdown object>"
      ]
     },
     "metadata": {},
     "output_type": "display_data"
    },
    {
     "name": "stdout",
     "output_type": "stream",
     "text": [
      "_________________________________________________________________\n"
     ]
    },
    {
     "data": {
      "text/markdown": [
       "**Generated summary:** be patient . . . . . . . . . . . . . . . . . . . . . . . . . . ."
      ],
      "text/plain": [
       "<IPython.core.display.Markdown object>"
      ]
     },
     "metadata": {},
     "output_type": "display_data"
    },
    {
     "data": {
      "text/markdown": [
       "**Original summary:**thank the city council when done making your comments . "
      ],
      "text/plain": [
       "<IPython.core.display.Markdown object>"
      ]
     },
     "metadata": {},
     "output_type": "display_data"
    },
    {
     "data": {
      "text/markdown": [
       "**Text:**conclude when your time is up , whether you have completed your thoughts or not . it is generally all right to finish your sentence or say thank you after the timer goes off , but do not keep going any longer than that . "
      ],
      "text/plain": [
       "<IPython.core.display.Markdown object>"
      ]
     },
     "metadata": {},
     "output_type": "display_data"
    },
    {
     "data": {
      "text/markdown": [
       "**BLEU score(Unigram):** 0.1076923076923077"
      ],
      "text/plain": [
       "<IPython.core.display.Markdown object>"
      ]
     },
     "metadata": {},
     "output_type": "display_data"
    },
    {
     "data": {
      "text/markdown": [
       "**ROUGE-**1**-Recall:** 0.0"
      ],
      "text/plain": [
       "<IPython.core.display.Markdown object>"
      ]
     },
     "metadata": {},
     "output_type": "display_data"
    },
    {
     "data": {
      "text/markdown": [
       "**ROUGE-**1**-Precision:** 0.0"
      ],
      "text/plain": [
       "<IPython.core.display.Markdown object>"
      ]
     },
     "metadata": {},
     "output_type": "display_data"
    },
    {
     "data": {
      "text/markdown": [
       "**ROUGE-**1**-Fscore:** 0.0"
      ],
      "text/plain": [
       "<IPython.core.display.Markdown object>"
      ]
     },
     "metadata": {},
     "output_type": "display_data"
    },
    {
     "name": "stdout",
     "output_type": "stream",
     "text": [
      "_________________________________________________________________\n"
     ]
    },
    {
     "data": {
      "text/markdown": [
       "**Generated summary:** be positive . . . . . . . . . . . . . . . . . . . . . . . . . . ."
      ],
      "text/plain": [
       "<IPython.core.display.Markdown object>"
      ]
     },
     "metadata": {},
     "output_type": "display_data"
    },
    {
     "data": {
      "text/markdown": [
       "**Original summary:**try a friends audit . "
      ],
      "text/plain": [
       "<IPython.core.display.Markdown object>"
      ]
     },
     "metadata": {},
     "output_type": "display_data"
    },
    {
     "data": {
      "text/markdown": [
       "**Text:**when was the last time you did a valuable friends audit what do you mean i hear you cry . i mean have you ever taken the time to re evaluate your friendships are there people around you that are constantly negative , pour cold water over your positive ideas , are miserable and fickle are these the kind of people that can help you to grow in confidence challenge be honest about the value of the friends you have and make some bold decisions . reason to remove yourself from negative influences and environments . "
      ],
      "text/plain": [
       "<IPython.core.display.Markdown object>"
      ]
     },
     "metadata": {},
     "output_type": "display_data"
    },
    {
     "data": {
      "text/markdown": [
       "**BLEU score(Unigram):** 0.0909090909090909"
      ],
      "text/plain": [
       "<IPython.core.display.Markdown object>"
      ]
     },
     "metadata": {},
     "output_type": "display_data"
    },
    {
     "data": {
      "text/markdown": [
       "**ROUGE-**1**-Recall:** 0.0"
      ],
      "text/plain": [
       "<IPython.core.display.Markdown object>"
      ]
     },
     "metadata": {},
     "output_type": "display_data"
    },
    {
     "data": {
      "text/markdown": [
       "**ROUGE-**1**-Precision:** 0.0"
      ],
      "text/plain": [
       "<IPython.core.display.Markdown object>"
      ]
     },
     "metadata": {},
     "output_type": "display_data"
    },
    {
     "data": {
      "text/markdown": [
       "**ROUGE-**1**-Fscore:** 0.0"
      ],
      "text/plain": [
       "<IPython.core.display.Markdown object>"
      ]
     },
     "metadata": {},
     "output_type": "display_data"
    },
    {
     "name": "stdout",
     "output_type": "stream",
     "text": [
      "_________________________________________________________________\n"
     ]
    }
   ],
   "source": [
    "for i in range(10,15):\n",
    "    printmd(\"**Generated summary:**\"+decode_sequence(x_train[i].reshape(1,-1)))\n",
    "    printmd(\"**Original summary:**\"+seq2summary(y_train[i]))\n",
    "    printmd(\"**Text:**\"+seq2text(x_train[i]))\n",
    "    printmd(\"**BLEU score(Unigram):** \"+str(calc_indiv_BLEU(i, x_train, y_train)))\n",
    "    rouge_n = 1 #this can be edited pending how we decide to evaluate ROUGE \n",
    "    printmd(\"**ROUGE-**\"+str(rouge_n)+\"**-Recall:** \"+str(calc_indiv_rouge(i,x_train,y_train,rouge_n)[0]))\n",
    "    printmd(\"**ROUGE-**\"+str(rouge_n)+\"**-Precision:** \"+str(calc_indiv_rouge(i,x_train,y_train,rouge_n)[1]))\n",
    "    printmd(\"**ROUGE-**\"+str(rouge_n)+\"**-Fscore:** \"+str(calc_indiv_rouge(i,x_train,y_train,rouge_n)[2]))\n",
    "    print('_________________________________________________________________')"
   ]
  },
  {
   "cell_type": "code",
   "execution_count": 50,
   "metadata": {},
   "outputs": [],
   "source": [
    "bleu_total= 0\n",
    "for i in range(len(x_train[:10])):\n",
    "    bleu_total += calc_indiv_BLEU(i, x_train, y_train)"
   ]
  },
  {
   "cell_type": "code",
   "execution_count": 51,
   "metadata": {},
   "outputs": [],
   "source": [
    "BLEU = bleu_total/len(x_train[:10])"
   ]
  },
  {
   "cell_type": "code",
   "execution_count": 52,
   "metadata": {},
   "outputs": [
    {
     "name": "stdout",
     "output_type": "stream",
     "text": [
      "0.1393015078330715\n"
     ]
    }
   ],
   "source": [
    "print(BLEU)"
   ]
  },
  {
   "cell_type": "code",
   "execution_count": 59,
   "metadata": {},
   "outputs": [],
   "source": [
    "rouge_recall_total, rouge_precision_total, rouge_f_total= 0,0,0\n",
    "for i in range(len(x_test[:20])):\n",
    "    rouge_recall, rouge_precision, rouge_f = calc_indiv_rouge(i, x_test, y_test,1)\n",
    "    rouge_recall_total += rouge_recall\n",
    "    rouge_precision_total += rouge_precision\n",
    "    rouge_f_total += rouge_f"
   ]
  },
  {
   "cell_type": "code",
   "execution_count": 61,
   "metadata": {},
   "outputs": [
    {
     "data": {
      "text/plain": [
       "0.17671987734487735"
      ]
     },
     "execution_count": 61,
     "metadata": {},
     "output_type": "execute_result"
    }
   ],
   "source": [
    "rouge_recall_total/20"
   ]
  },
  {
   "cell_type": "code",
   "execution_count": 62,
   "metadata": {},
   "outputs": [
    {
     "data": {
      "text/plain": [
       "0.23347222222222222"
      ]
     },
     "execution_count": 62,
     "metadata": {},
     "output_type": "execute_result"
    }
   ],
   "source": [
    "rouge_precision_total/20"
   ]
  },
  {
   "cell_type": "code",
   "execution_count": 63,
   "metadata": {},
   "outputs": [
    {
     "data": {
      "text/plain": [
       "0.18876909038673745"
      ]
     },
     "execution_count": 63,
     "metadata": {},
     "output_type": "execute_result"
    }
   ],
   "source": [
    "rouge_f_total/20"
   ]
  },
  {
   "cell_type": "code",
   "execution_count": 105,
   "metadata": {},
   "outputs": [],
   "source": [
    "res = decode_sequence_beam(x_train[20].reshape(1,-1), 25)"
   ]
  },
  {
   "cell_type": "code",
   "execution_count": 106,
   "metadata": {},
   "outputs": [],
   "source": [
    "l = [(sen, prob) for sen, (prob, _, _) in res.items()]"
   ]
  },
  {
   "cell_type": "code",
   "execution_count": 107,
   "metadata": {},
   "outputs": [
    {
     "data": {
      "text/plain": [
       "[('serve distribute copies .', 0.0013948419),\n",
       " ('serve serve your spouse .', 0.000712558),\n",
       " ('serve complete the filing fee .', 0.00036260893),\n",
       " ('serve file a copy of the form .', 0.0001097252),\n",
       " ('serve file a copy of the complaint .', 6.931366e-05),\n",
       " ('serve complete a copy of the form .', 6.382113e-05),\n",
       " ('serve file a copy of the application .', 5.524569e-05),\n",
       " ('serve file a copy of your complaint .', 5.51969e-05),\n",
       " ('serve file a copy of your copy .', 5.3209587e-05),\n",
       " ('serve serve the other forms of service .', 5.154646e-05),\n",
       " ('serve serve notice on the other side .', 4.7479094e-05),\n",
       " ('serve file a copy of the copy .', 4.422074e-05),\n",
       " ('serve file a copy of the paperwork .', 4.162589e-05),\n",
       " ('serve file a copy of the forms .', 4.0115472e-05),\n",
       " ('serve file a copy of the other forms .', 2.025318e-05),\n",
       " ('serve serve a copy of the other forms .', 1.9995088e-05),\n",
       " ('serve file a copy of the proof of service .', 1.4671594e-05),\n",
       " ('serve serve a copy of the other forms of service .', 4.3389346e-06),\n",
       " ('serve serve a copy of the copy on the other side .', 3.0356684e-06),\n",
       " ('serve file a copy of the other forms of service .', 2.6802363e-06),\n",
       " ('serve file a copy of the copy on the server .', 1.844169e-06),\n",
       " ('serve serve a copy of the copy on the other parent .', 1.1647253e-06),\n",
       " ('serve attach a copy of the copy to the other forms .', 9.2890014e-07),\n",
       " ('serve serve a copy of the copy on the other side of the file .',\n",
       "  3.7431352e-08),\n",
       " ('serve serve a copy of the copy on the other side of the other parent .',\n",
       "  2.3665619e-08)]"
      ]
     },
     "execution_count": 107,
     "metadata": {},
     "output_type": "execute_result"
    }
   ],
   "source": [
    "sorted(l, key = lambda x:-x[1])"
   ]
  },
  {
   "cell_type": "code",
   "execution_count": 60,
   "metadata": {},
   "outputs": [
    {
     "data": {
      "text/plain": [
       "' rinse the area with water . . . . . . . . . . . . . . . . . . . . . . . .'"
      ]
     },
     "execution_count": 60,
     "metadata": {},
     "output_type": "execute_result"
    }
   ],
   "source": [
    "decode_sequence(x_train[12].reshape(1,-1))"
   ]
  },
  {
   "cell_type": "code",
   "execution_count": 62,
   "metadata": {},
   "outputs": [
    {
     "data": {
      "text/plain": [
       "{'rinse rinse off the water .': (0.0046479115,\n",
       "  array([[-3.80333327e-02, -5.64783812e-01, -9.91359234e-01,\n",
       "          -5.76129416e-04, -4.23826844e-01,  9.47763920e-01,\n",
       "           8.53726089e-01,  4.28720236e-01,  9.98469889e-01,\n",
       "           2.96163000e-02,  4.42827586e-03,  2.95132340e-05,\n",
       "          -3.47862049e-04, -2.95305580e-01, -7.32050478e-01,\n",
       "          -8.53147867e-06, -4.08906162e-01, -2.56073922e-01,\n",
       "           2.34136894e-01,  1.07303401e-03,  8.86495888e-01,\n",
       "           7.03465333e-03, -7.10180819e-01, -5.92031240e-01,\n",
       "          -9.41098213e-01,  9.20775682e-02,  9.74844098e-01,\n",
       "          -3.75720789e-03, -9.92533684e-01,  7.70929735e-04,\n",
       "           1.20091559e-02, -1.32603934e-02, -5.16093254e-01,\n",
       "          -9.35792923e-01, -3.61296475e-01, -8.14865232e-01,\n",
       "           1.28670316e-02,  9.90388274e-01,  9.71907079e-01,\n",
       "          -7.63005540e-02,  1.41653746e-01,  5.51589131e-01,\n",
       "          -1.89867225e-02,  3.06950606e-05, -8.12506080e-01,\n",
       "          -1.21283063e-06, -2.85318494e-01,  1.62702298e-03,\n",
       "          -4.86753844e-02,  8.58013034e-01,  5.95447933e-03,\n",
       "           9.89155114e-01,  1.30017120e-02, -1.56951681e-01,\n",
       "           9.99988258e-01,  1.37933166e-04, -1.06337726e-01,\n",
       "          -3.48841995e-01,  9.58992243e-01, -6.71472890e-07,\n",
       "           2.58667707e-01, -2.76620537e-01,  3.38696991e-03,\n",
       "           6.43955350e-01, -1.40347804e-08, -8.02527356e-05,\n",
       "           8.85844752e-02,  8.99502397e-01,  3.38450134e-01,\n",
       "          -9.99429762e-01, -9.74153638e-01,  1.26399755e-04,\n",
       "           9.90153015e-01, -9.74908937e-04, -2.20827833e-02,\n",
       "          -7.22381249e-02, -1.75974946e-02,  9.84865427e-01,\n",
       "          -4.70968693e-01,  7.80431032e-01,  4.88409221e-01,\n",
       "          -9.92923975e-01,  3.25542106e-03,  1.07249122e-07,\n",
       "          -3.98335010e-02,  9.91811156e-01, -6.45163208e-02,\n",
       "           4.05380328e-04,  3.24759893e-02, -9.99968052e-01,\n",
       "           1.38594260e-06,  9.27205086e-01,  8.68161261e-01,\n",
       "          -4.51192975e-01, -9.97047007e-01,  6.93844676e-01,\n",
       "          -2.59035174e-03, -8.15072894e-01, -9.19464707e-01,\n",
       "           4.27406405e-07, -5.92537940e-01,  5.78696728e-02,\n",
       "           8.69007587e-01,  4.11840200e-01,  5.78034967e-02,\n",
       "           9.75083470e-01, -1.65166846e-03,  7.62571037e-01,\n",
       "           2.97870338e-02,  4.69106672e-05, -9.99110878e-01,\n",
       "          -4.24276702e-02, -1.76480666e-01, -2.60988861e-01,\n",
       "          -8.13235715e-03,  3.05366874e-01,  1.21502322e-03,\n",
       "           4.79325801e-01,  6.85393035e-01,  7.22106636e-01,\n",
       "          -5.18959993e-03,  8.54451895e-01, -4.00656670e-01,\n",
       "           2.67996341e-01, -9.03004766e-01,  1.23397610e-03,\n",
       "           2.11085066e-01,  9.99034107e-01, -5.61266870e-06,\n",
       "          -9.99862671e-01,  4.73063946e-01, -9.00433660e-01,\n",
       "           9.44950402e-01,  6.11634552e-02,  1.78775012e-01,\n",
       "          -5.53688705e-01,  3.68012041e-01,  3.12209845e-01,\n",
       "          -8.59476686e-01,  3.51934247e-02,  4.60539013e-03,\n",
       "          -2.10225713e-02, -1.88019371e-03, -3.72649509e-07,\n",
       "          -1.71675473e-01, -9.44734216e-01, -5.44615432e-06,\n",
       "           2.05786720e-01, -8.01644102e-03,  3.54651026e-02,\n",
       "           7.16170549e-01,  6.57629728e-01, -1.85184013e-02,\n",
       "           8.76378417e-01, -8.04569006e-01, -7.60634124e-01,\n",
       "           8.29484779e-04,  7.35384941e-01, -6.27584875e-01,\n",
       "          -3.24978173e-01, -2.13910148e-01, -9.54952717e-01,\n",
       "          -5.94804168e-01,  8.09660256e-01,  9.95067179e-01,\n",
       "           8.35141480e-01, -1.75646767e-01,  1.00741945e-01,\n",
       "           3.71248207e-05,  6.24291599e-04,  3.11841648e-02,\n",
       "          -2.30908990e-05,  1.24891520e-01,  3.48562300e-02,\n",
       "           1.57399774e-02, -9.95253265e-01, -5.04360020e-01,\n",
       "           8.90941501e-01,  1.45694286e-01, -8.96984264e-02,\n",
       "          -6.79909766e-01, -3.98765830e-03,  4.30327654e-03,\n",
       "          -9.55698565e-02, -5.75186545e-03,  5.28746843e-01,\n",
       "           1.49248160e-06,  6.84748229e-04, -4.55595285e-01,\n",
       "           1.56985526e-03,  5.06523029e-05,  2.52244294e-01,\n",
       "          -6.09464228e-01, -7.10768640e-01,  7.96176493e-01,\n",
       "           7.73199022e-01, -5.31682611e-01,  6.84988126e-02,\n",
       "          -9.95959163e-01, -1.49616182e-01, -6.37743855e-03,\n",
       "           3.83246765e-02, -6.37757499e-03, -2.50593200e-03,\n",
       "          -3.12570006e-01,  2.43918657e-01, -9.60817039e-01,\n",
       "          -4.55296040e-01, -5.91134001e-03, -1.71617758e-05,\n",
       "          -8.64014447e-01,  2.47518765e-04, -5.68767250e-01,\n",
       "           6.75111338e-02, -3.92171234e-01, -1.36572216e-02,\n",
       "           1.48027453e-07,  7.11486518e-01,  7.90255845e-01,\n",
       "           2.27194607e-01,  6.34191604e-03,  7.72380769e-01,\n",
       "           1.13112646e-05, -1.11072266e-03,  6.89265580e-05,\n",
       "           1.25260623e-02, -9.99817967e-01, -2.59789377e-01,\n",
       "           3.64475697e-01,  1.79145217e-01,  6.21018112e-01,\n",
       "          -9.95996594e-01, -1.16458663e-03, -4.65503186e-02,\n",
       "           2.74385548e-05,  7.49942511e-02, -3.68173160e-02,\n",
       "          -8.72846186e-01, -9.00840223e-01,  5.91921151e-01,\n",
       "           8.57450783e-01,  3.85941267e-01,  6.56246394e-02,\n",
       "          -3.22410792e-01,  2.71847069e-01, -4.51691340e-05,\n",
       "          -8.94343734e-01,  5.37940785e-02, -7.56286690e-03,\n",
       "           1.90297097e-01,  9.94024515e-01, -3.32583994e-01,\n",
       "          -9.20328677e-01,  9.99654889e-01,  9.99085426e-01,\n",
       "           2.80160855e-08,  9.28869843e-01, -3.75158601e-02,\n",
       "           4.83489316e-03,  8.70989859e-01, -8.95252347e-01,\n",
       "           7.06789136e-01, -7.74236739e-01,  8.09526563e-01,\n",
       "          -7.06910610e-01, -9.99994159e-01,  2.85874784e-01,\n",
       "          -1.93491450e-03,  9.27148176e-06,  2.51483778e-03,\n",
       "           7.23437732e-03,  9.98379946e-01, -4.22421634e-01,\n",
       "           8.94407034e-01,  5.25694251e-01,  6.70173228e-01,\n",
       "           3.13533121e-04,  3.52812320e-01,  5.06806195e-01,\n",
       "           9.99992013e-01,  8.63864481e-01,  6.58065975e-01,\n",
       "           2.54103937e-03, -1.73997656e-02,  2.89360285e-01,\n",
       "           5.71747264e-03, -1.93452671e-01, -2.37336977e-07,\n",
       "          -2.18210439e-03, -1.04476439e-05,  8.80337298e-01,\n",
       "           5.07837415e-01, -6.77241542e-06,  5.57986596e-06,\n",
       "          -7.98462868e-01,  2.69921217e-03, -1.11829230e-08,\n",
       "          -8.78491461e-01,  2.26667449e-01,  2.51943469e-01]], dtype=float32),\n",
       "  array([[-7.15550613e+00, -6.39903665e-01, -3.13358331e+00,\n",
       "          -4.22811270e+00, -1.45549226e+00,  1.85459530e+00,\n",
       "           1.29542887e+00,  4.58405167e-01,  8.08283157e+01,\n",
       "           4.23730965e+01,  8.02898712e+01,  5.22559242e+01,\n",
       "          -9.26025848e+01, -1.68827045e+00, -1.03356159e+00,\n",
       "          -1.26553097e+01, -3.08243179e+00, -2.87063181e-01,\n",
       "           3.81563187e+01,  5.11977613e-01,  1.47327793e+00,\n",
       "           3.22863340e-01, -8.90741646e-01, -6.70821838e+01,\n",
       "          -1.77172816e+00,  2.23083034e-01,  2.18551946e+00,\n",
       "          -1.91769485e+01, -7.99656906e+01,  7.95164261e+01,\n",
       "           6.18362188e+00, -3.24745216e+01, -1.31473696e+00,\n",
       "          -1.70680380e+00, -3.79715741e-01, -1.14534104e+00,\n",
       "           3.95384789e+00,  2.97533154e+00,  2.12815046e+00,\n",
       "          -4.30202866e+00,  1.42614067e-01,  7.65220165e-01,\n",
       "          -7.19884338e+01,  6.84846497e+01, -1.20151234e+00,\n",
       "          -1.86054096e+01, -2.93470085e-01,  3.19838810e+00,\n",
       "          -5.21087151e+01,  1.28934312e+00,  8.71202087e+00,\n",
       "           7.50342712e+01,  8.27710927e-01, -2.15313053e+00,\n",
       "           8.88114262e+00,  6.23808575e+00, -2.25113869e+01,\n",
       "          -6.31663740e-01,  2.23216724e+00, -3.53089409e+01,\n",
       "           7.47575607e+01, -2.89581001e-01,  2.83725491e+01,\n",
       "           7.99396753e-01, -4.50178032e+01, -3.82533956e+00,\n",
       "           7.02300251e-01,  1.16720009e+01,  3.01306963e+00,\n",
       "          -4.36470938e+00, -2.17213202e+00,  3.05693836e+01,\n",
       "           2.78648663e+00, -6.64561081e+01, -1.46307707e+00,\n",
       "          -1.35177813e+01, -5.17490273e+01,  9.42842865e+00,\n",
       "          -4.92976837e+01,  7.32232895e+01,  8.10875626e+01,\n",
       "          -3.06924272e+00,  4.99468498e+01,  6.40603561e+01,\n",
       "          -5.38414574e+01,  9.48252964e+00, -1.66741657e+00,\n",
       "           6.59693575e+00,  7.52004089e+01, -3.59256821e+01,\n",
       "           6.64722519e+01,  1.46409588e+01,  1.32557356e+00,\n",
       "          -7.68622518e-01, -3.27493477e+00,  3.12791562e+00,\n",
       "          -2.52441382e+00, -1.39399838e+00, -3.46309590e+00,\n",
       "           1.21688509e+00, -6.82147741e-01,  4.63719063e+01,\n",
       "           2.19817352e+00,  4.53213304e-01,  4.82129250e+01,\n",
       "           2.18668079e+00, -1.66860723e+00,  2.54407921e+01,\n",
       "           2.59761066e+01,  9.55360870e+01, -9.84775162e+00,\n",
       "          -5.33916702e+01, -5.13635576e-01, -2.67376721e-01,\n",
       "          -8.86735229e+01,  2.13716865e+00,  2.12196083e+01,\n",
       "           5.30641854e-01,  8.40186238e-01,  9.12205100e-01,\n",
       "          -2.13992920e+01,  1.28274655e+00, -9.47200179e-01,\n",
       "           2.75907367e-01, -1.48998046e+00,  7.53918381e+01,\n",
       "           2.40780622e-01,  3.87342224e+01, -6.52007246e+00,\n",
       "          -1.84837456e+01,  2.82409620e+00, -5.48887138e+01,\n",
       "           6.16500702e+01,  6.80854568e+01,  1.80769697e-01,\n",
       "          -9.63986695e-01,  1.52680576e+00,  6.86731186e+01,\n",
       "          -2.03537679e+00,  2.49580860e-01,  1.08521640e+00,\n",
       "          -2.10271142e-02, -1.83046322e+01, -1.25074835e+01,\n",
       "          -1.78609163e-01, -6.19434395e+01, -6.44254327e-01,\n",
       "           8.59378636e-01, -8.62769425e-01,  3.56460921e-02,\n",
       "           1.22305179e+00,  8.54740143e-01, -2.50081774e-02,\n",
       "           1.36070848e+00, -8.19557800e+01, -9.98190880e-01,\n",
       "           4.84911652e+01,  9.40358520e-01, -1.79449577e+01,\n",
       "          -3.38916588e+00, -2.76680917e-01, -5.32756081e+01,\n",
       "          -1.04909503e+00,  1.12606812e+00,  8.81634903e+00,\n",
       "           1.21354198e+00, -3.82942438e+00,  9.05371249e-01,\n",
       "           1.61881164e-01,  6.47076721e+01,  8.03850098e+01,\n",
       "          -1.87957191e+01,  6.93858948e+01,  1.65030670e+01,\n",
       "           6.91608276e+01, -4.42706299e+01, -5.56777954e-01,\n",
       "           3.49955864e+01,  9.66741264e-01, -1.61358986e+01,\n",
       "          -3.93419991e+01, -1.02908754e+01,  2.90530920e+00,\n",
       "          -1.28206491e-01, -4.21539688e+01,  1.29604661e+00,\n",
       "           5.92959862e+01,  8.26179352e+01, -1.26967859e+00,\n",
       "           3.09659219e+00,  1.88226843e+00,  2.57834405e-01,\n",
       "          -6.59477711e+00, -9.08128917e-01,  2.53899145e+00,\n",
       "           2.98576069e+01, -6.04088843e-01,  9.65670645e-02,\n",
       "          -3.42082477e+00, -1.51883200e-01, -8.59361351e-01,\n",
       "           5.73209858e+00, -7.01983643e+00, -5.44904232e+00,\n",
       "          -4.17855530e+01,  5.08184290e+00, -2.30619097e+00,\n",
       "          -4.93433207e-01, -1.66756687e+01, -3.04821229e+00,\n",
       "          -6.17422962e+00,  7.10352783e+01, -6.05302095e+00,\n",
       "           2.57372713e+00, -4.44440693e-01, -6.04564590e+01,\n",
       "           8.70990448e+01,  1.39287817e+00,  1.74168420e+00,\n",
       "           3.20541310e+00,  2.91948128e+00,  6.15075455e+01,\n",
       "           4.03223495e+01, -4.05725813e+00,  4.30694695e+01,\n",
       "           4.59312916e+00, -1.98426342e+01, -8.51814651e+01,\n",
       "           3.82093221e-01,  4.97180824e+01,  1.00882781e+00,\n",
       "          -8.30088711e+00, -5.75790823e-01, -5.67022413e-02,\n",
       "           5.34624529e+00,  3.26757401e-01, -1.64756453e+00,\n",
       "          -1.36719835e+00, -1.47667146e+00,  2.55613732e+00,\n",
       "           2.37760735e+00,  6.61205292e-01,  2.50880451e+01,\n",
       "          -6.31160557e-01,  3.10747087e-01, -5.92873144e+00,\n",
       "          -1.46080005e+00,  2.81200466e+01, -5.74355659e+01,\n",
       "           3.81501160e+01,  2.94074464e+00, -3.91798794e-01,\n",
       "          -2.70372849e+01,  7.91377974e+00,  7.01756744e+01,\n",
       "           1.30558157e+00,  3.42076111e+00, -4.32544994e+00,\n",
       "           1.23348541e+01,  8.11620636e+01, -1.46818054e+00,\n",
       "           3.36957407e+00, -1.46457434e+00,  1.59868824e+00,\n",
       "          -2.90330911e+00, -8.23655167e+01,  7.38680005e-01,\n",
       "          -2.52601299e+01,  8.05747509e-01,  3.96818161e+01,\n",
       "           7.94239578e+01,  6.77528000e+01, -6.81183147e+00,\n",
       "           1.47118449e+00,  3.44583855e+01,  8.11102271e-01,\n",
       "           1.43143165e+00,  3.73558313e-01,  1.96992743e+00,\n",
       "           4.14044266e+01,  1.31859624e+00,  3.94759407e+01,\n",
       "           6.55600607e-01, -2.16720247e+00,  5.11119728e+01,\n",
       "           7.21444702e+01, -1.95964038e-01, -1.07894230e+01,\n",
       "          -5.23341036e+00, -5.24973106e+01,  3.89924164e+01,\n",
       "           5.59816122e-01, -3.10686207e+01,  5.32552242e-01,\n",
       "          -1.17990768e+00,  3.36791801e+01, -4.14833984e+01,\n",
       "          -2.28543448e+00,  4.22937393e+00,  1.03407180e+00]], dtype=float32))}"
      ]
     },
     "execution_count": 62,
     "metadata": {},
     "output_type": "execute_result"
    }
   ],
   "source": [
    "decode_sequence_beam(x_train[12].reshape(1,-1), 1)"
   ]
  },
  {
   "cell_type": "code",
   "execution_count": 79,
   "metadata": {},
   "outputs": [
    {
     "data": {
      "text/plain": [
       "'turn your back knee towards the ball as your front heel touches down . '"
      ]
     },
     "execution_count": 79,
     "metadata": {},
     "output_type": "execute_result"
    }
   ],
   "source": [
    "seq2summary(y_train[11])"
   ]
  },
  {
   "cell_type": "code",
   "execution_count": 80,
   "metadata": {},
   "outputs": [
    {
     "data": {
      "text/plain": [
       "'this initiates a strong , powerful swing . as you start your swing your front foot must be planted firmly on the ground or you will lose balance and power . '"
      ]
     },
     "execution_count": 80,
     "metadata": {},
     "output_type": "execute_result"
    }
   ],
   "source": [
    "seq2text(x_train[11])"
   ]
  }
 ],
 "metadata": {
  "kernelspec": {
   "display_name": "Python 3",
   "language": "python",
   "name": "python3"
  },
  "language_info": {
   "codemirror_mode": {
    "name": "ipython",
    "version": 3
   },
   "file_extension": ".py",
   "mimetype": "text/x-python",
   "name": "python",
   "nbconvert_exporter": "python",
   "pygments_lexer": "ipython3",
   "version": "3.6.8"
  }
 },
 "nbformat": 4,
 "nbformat_minor": 2
}
