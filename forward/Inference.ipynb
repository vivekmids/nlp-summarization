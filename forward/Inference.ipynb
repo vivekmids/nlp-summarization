{
 "cells": [
  {
   "cell_type": "code",
   "execution_count": 1,
   "metadata": {},
   "outputs": [],
   "source": [
    "import pickle\n",
    "from matplotlib import pyplot "
   ]
  },
  {
   "cell_type": "code",
   "execution_count": 2,
   "metadata": {},
   "outputs": [],
   "source": [
    "hist = pickle.load(open( 'history.pkl' , \"rb\" ))"
   ]
  },
  {
   "cell_type": "code",
   "execution_count": 3,
   "metadata": {},
   "outputs": [
    {
     "data": {
      "image/png": "[encoded data removed]",
      "text/plain": [
       "<Figure size 432x288 with 1 Axes>"
      ]
     },
     "metadata": {
      "needs_background": "light"
     },
     "output_type": "display_data"
    }
   ],
   "source": [
    "\n",
    "pyplot.plot(hist['loss'], label='train') \n",
    "pyplot.plot(hist['val_loss'], label='test') \n",
    "pyplot.legend() \n",
    "pyplot.show()"
   ]
  },
  {
   "cell_type": "code",
   "execution_count": 4,
   "metadata": {},
   "outputs": [
    {
     "name": "stdout",
     "output_type": "stream",
     "text": [
      "Loading training data.\n",
      "Training data loaded. Shape is (1387290, 2)\n",
      "Starting to build the embedding index.\n",
      "Built embeddings index. Found 400000 word vectors.\n",
      "Building text\n",
      "Found 212813 unique tokens.\n",
      "Text built. Lengths of x_data, encoder_emb, x_word_index, x_index_word are [1387290, 212814, 212813, 212813]\n",
      "Building headlines \n",
      "Found 78682 unique tokens.\n",
      "Headlines built. Lengths of y_data, decoder_emb, y_word_index, y_index_word are [1387290, 78683, 78682, 78682]\n",
      "Test Train Dev split done. Length of x_train, y_train,x_dev, y_dev, x_test, y_test are [971103, 971103, 278845, 278845, 137342, 137342]\n"
     ]
    }
   ],
   "source": [
    "import numpy as np\n",
    "import pandas as pd \n",
    "import pickle\n",
    "from time import time\n",
    "from sklearn.model_selection import train_test_split\n",
    "import tensorflow as tf\n",
    "from tensorflow.keras.preprocessing.text import Tokenizer \n",
    "from tensorflow.keras.preprocessing.sequence import pad_sequences\n",
    "#cleanfilename = 'cleandatamini.pkl'\n",
    "cleanfilename = 'cleandata.pkl'\n",
    "modelfilename = 'model.json'\n",
    "weightsfilename = 'model.h5'\n",
    "historyfilename = 'history.pkl'\n",
    "\n",
    "\n",
    "# In[2]:\n",
    "\n",
    "\n",
    "print('Loading training data.')\n",
    "\n",
    "\n",
    "# In[3]:\n",
    "\n",
    "\n",
    "clean_data = pickle.load( open( cleanfilename , \"rb\" ) )\n",
    "\n",
    "\n",
    "# In[4]:\n",
    "\n",
    "\n",
    "print('Training data loaded. Shape is', clean_data.shape)\n",
    "\n",
    "\n",
    "# In[27]:\n",
    "\n",
    "\n",
    "print('Starting to build the embedding index.')\n",
    "\n",
    "\n",
    "# In[28]:\n",
    "\n",
    "\n",
    "embeddings_index = {}\n",
    "f = open('data/glove/glove.6B/glove.6B.300d.txt')\n",
    "for line in f:\n",
    "    values = line.split()\n",
    "    word = values[0]\n",
    "    coefs = np.asarray(values[1:], dtype='float32')\n",
    "    embeddings_index[word] = coefs\n",
    "f.close()\n",
    "\n",
    "\n",
    "# In[29]:\n",
    "\n",
    "\n",
    "print('Built embeddings index. Found %s word vectors.' % len(embeddings_index))\n",
    "\n",
    "\n",
    "# In[30]:\n",
    "\n",
    "\n",
    "def doc2seq(texts, MAX_SEQUENCE_LENGTH, EMBEDDING_DIM):\n",
    "    tokenizer = Tokenizer(filters='\"#$%&()*+-/<=>@[\\\\]^_`{|}~\\t\\n')\n",
    "    tokenizer.fit_on_texts(texts)\n",
    "    sequences = tokenizer.texts_to_sequences(texts)\n",
    "\n",
    "    word_index = tokenizer.word_index\n",
    "    index_word = tokenizer.index_word\n",
    "    print('Found %s unique tokens.' % len(word_index))\n",
    "\n",
    "    data = pad_sequences(sequences, maxlen=MAX_SEQUENCE_LENGTH, padding = 'post')\n",
    "    \n",
    "    embedding_matrix = np.zeros((len(word_index) + 1, EMBEDDING_DIM))\n",
    "    for word, i in word_index.items():\n",
    "        embedding_vector = embeddings_index.get(word)\n",
    "        if embedding_vector is not None:\n",
    "            # words not found in embedding index will be all-zeros.\n",
    "            embedding_matrix[i] = embedding_vector\n",
    "    return data, embedding_matrix, word_index, index_word\n",
    "\n",
    "\n",
    "# In[31]:\n",
    "\n",
    "\n",
    "print('Building text')\n",
    "\n",
    "\n",
    "# In[32]:\n",
    "\n",
    "\n",
    "MAX_TEXT_LENGTH = 100\n",
    "EMBEDDING_DIM = 300\n",
    "data = clean_data.text\n",
    "\n",
    "x_data, encoder_emb, x_word_index, x_index_word = doc2seq(data, MAX_TEXT_LENGTH, EMBEDDING_DIM)\n",
    "\n",
    "\n",
    "# In[33]:\n",
    "\n",
    "\n",
    "print('Text built. Lengths of x_data, encoder_emb, x_word_index, x_index_word are', \n",
    "      list(map(lambda a:len(a), [x_data, encoder_emb, x_word_index, x_index_word ])))\n",
    "\n",
    "\n",
    "# In[34]:\n",
    "\n",
    "\n",
    "print('Building headlines ')\n",
    "\n",
    "\n",
    "# In[35]:\n",
    "\n",
    "\n",
    "MAX_HEADLINE_LENGTH = 30\n",
    "EMBEDDING_DIM = 300\n",
    "data = clean_data.headline\n",
    "\n",
    "y_data, decoder_emb, y_word_index, y_index_word = doc2seq(data, MAX_HEADLINE_LENGTH, EMBEDDING_DIM)\n",
    "\n",
    "\n",
    "# In[36]:\n",
    "\n",
    "\n",
    "print('Headlines built. Lengths of y_data, decoder_emb, y_word_index, y_index_word are', \n",
    "      list(map(lambda a:len(a), [y_data, decoder_emb, y_word_index, y_index_word])))\n",
    "\n",
    "\n",
    "# In[37]:\n",
    "\n",
    "\n",
    "x_train, x_test_temp, y_train, y_test_temp = train_test_split(x_data, y_data, \n",
    "                                                            test_size=0.3, random_state=0) \n",
    "\n",
    "\n",
    "# In[38]:\n",
    "\n",
    "\n",
    "x_dev, x_test, y_dev, y_test = train_test_split(x_test_temp, y_test_temp, \n",
    "                                                            test_size=0.33, random_state=0) \n",
    "\n",
    "\n",
    "# In[39]:\n",
    "\n",
    "\n",
    "print('Test Train Dev split done. Length of x_train, y_train,x_dev, y_dev, x_test, y_test are', \n",
    "     list(map(len, [x_train, y_train,x_dev, y_dev, x_test, y_test])))\n"
   ]
  },
  {
   "cell_type": "code",
   "execution_count": 5,
   "metadata": {},
   "outputs": [],
   "source": [
    "from tensorflow.keras.layers import Input, LSTM, Dense, Concatenate, TimeDistributed, Embedding\n",
    "from tensorflow.keras.models import Model\n",
    "from attention_keras.layers.attention import AttentionLayer"
   ]
  },
  {
   "cell_type": "code",
   "execution_count": 6,
   "metadata": {},
   "outputs": [],
   "source": [
    "MAX_TEXT_LENGTH = 100\n",
    "MAX_HEADLINE_LENGTH = 30\n",
    "EMBEDDING_DIM = 300\n",
    "hidden_units = 600"
   ]
  },
  {
   "cell_type": "code",
   "execution_count": 7,
   "metadata": {},
   "outputs": [],
   "source": [
    "def create_model():\n",
    "    enc_embedding_layer = Embedding(len(x_word_index) + 1,\n",
    "                                EMBEDDING_DIM,\n",
    "                                weights=[encoder_emb],\n",
    "                                input_length=MAX_TEXT_LENGTH,\n",
    "                                trainable=False,\n",
    "                                name='EncoderEmbeddingLayer')\n",
    "\n",
    "\n",
    "    dec_embedding_layer = Embedding(len(y_word_index) + 1,\n",
    "                                EMBEDDING_DIM,\n",
    "                                weights=[decoder_emb],\n",
    "                                input_length=MAX_HEADLINE_LENGTH,\n",
    "                                trainable=False,\n",
    "                                name='DecoderEmbeddingLayer')\n",
    "\n",
    "\n",
    "    # Encoder \n",
    "\n",
    "    # Encoder input \n",
    "    # 2D (sequence_length, None), where sequence length is the MAX_LEN unified by padding in preprocessing\n",
    "    encoder_inputs = Input(shape=(MAX_TEXT_LENGTH,), name=\"EncoderInput\") \n",
    "    enc_emb = enc_embedding_layer(encoder_inputs) \n",
    "\n",
    "\n",
    "    #LSTM 1 \n",
    "    encoder_lstm1 = LSTM(hidden_units,return_sequences=True,return_state=True, name='EncLSTM1') \n",
    "    encoder_output1, state_h1, state_c1 = encoder_lstm1(enc_emb) \n",
    "\n",
    "    #LSTM 2 \n",
    "    encoder_lstm2 = LSTM(hidden_units,return_sequences=True,return_state=True, name='EncLSTM2') \n",
    "    encoder_output2, state_h2, state_c2 = encoder_lstm2(encoder_output1) \n",
    "\n",
    "    #LSTM 3 \n",
    "    encoder_lstm3=LSTM(hidden_units, return_state=True, return_sequences=True, name='EncLSTM3') \n",
    "    encoder_output3, state_h3, state_c3= encoder_lstm3(encoder_output2) \n",
    "\n",
    "    #LSTM 4 \n",
    "    encoder_lstm4=LSTM(hidden_units, return_state=True, return_sequences=True, name='EncLSTM4') \n",
    "    encoder_outputs, state_h, state_c= encoder_lstm4(encoder_output3) \n",
    "\n",
    "    # Decoder \n",
    "\n",
    "    decoder_inputs = Input(shape=(None,), name = 'DecoderInput') \n",
    "    #dec_emb_layer = Embedding(y_voc_size, latent_dim,trainable=True) \n",
    "    dec_emb = dec_embedding_layer(decoder_inputs) \n",
    "\n",
    "    #LSTM using encoder_states as initial state\n",
    "    decoder_lstm = LSTM(hidden_units, return_sequences=True, return_state=True, name='DecLSTM1') \n",
    "    decoder_outputs,decoder_fwd_state, decoder_back_state = decoder_lstm(dec_emb,initial_state=[state_h, state_c]) \n",
    "\n",
    "    #Attention Layer\n",
    "    attn_layer = AttentionLayer(name='attention_layer') \n",
    "    attn_out, attn_states = attn_layer([encoder_outputs, decoder_outputs]) \n",
    "\n",
    "    # Concat attention output and decoder LSTM output \n",
    "    decoder_concat_input = Concatenate(axis=-1, name='concat_layer')([decoder_outputs, attn_out])\n",
    "\n",
    "    #Dense layer\n",
    "    decoder_dense = TimeDistributed(Dense(len(y_word_index)+1, activation='softmax')) \n",
    "    decoder_outputs = decoder_dense(decoder_concat_input) \n",
    "\n",
    "    return Model([encoder_inputs, decoder_inputs], decoder_outputs)\n",
    "\n",
    "\n"
   ]
  },
  {
   "cell_type": "code",
   "execution_count": 8,
   "metadata": {},
   "outputs": [
    {
     "name": "stdout",
     "output_type": "stream",
     "text": [
      "Model: \"model\"\n",
      "__________________________________________________________________________________________________\n",
      "Layer (type)                    Output Shape         Param #     Connected to                     \n",
      "==================================================================================================\n",
      "EncoderInput (InputLayer)       [(None, 100)]        0                                            \n",
      "__________________________________________________________________________________________________\n",
      "EncoderEmbeddingLayer (Embeddin (None, 100, 300)     63844200    EncoderInput[0][0]               \n",
      "__________________________________________________________________________________________________\n",
      "EncLSTM1 (LSTM)                 [(None, 100, 600), ( 2162400     EncoderEmbeddingLayer[0][0]      \n",
      "__________________________________________________________________________________________________\n",
      "EncLSTM2 (LSTM)                 [(None, 100, 600), ( 2882400     EncLSTM1[0][0]                   \n",
      "__________________________________________________________________________________________________\n",
      "DecoderInput (InputLayer)       [(None, None)]       0                                            \n",
      "__________________________________________________________________________________________________\n",
      "EncLSTM3 (LSTM)                 [(None, 100, 600), ( 2882400     EncLSTM2[0][0]                   \n",
      "__________________________________________________________________________________________________\n",
      "DecoderEmbeddingLayer (Embeddin (None, None, 300)    23604900    DecoderInput[0][0]               \n",
      "__________________________________________________________________________________________________\n",
      "EncLSTM4 (LSTM)                 [(None, 100, 600), ( 2882400     EncLSTM3[0][0]                   \n",
      "__________________________________________________________________________________________________\n",
      "DecLSTM1 (LSTM)                 [(None, None, 600),  2162400     DecoderEmbeddingLayer[0][0]      \n",
      "                                                                 EncLSTM4[0][1]                   \n",
      "                                                                 EncLSTM4[0][2]                   \n",
      "__________________________________________________________________________________________________\n",
      "attention_layer (AttentionLayer ((None, None, 600),  720600      EncLSTM4[0][0]                   \n",
      "                                                                 DecLSTM1[0][0]                   \n",
      "__________________________________________________________________________________________________\n",
      "concat_layer (Concatenate)      (None, None, 1200)   0           DecLSTM1[0][0]                   \n",
      "                                                                 attention_layer[0][0]            \n",
      "__________________________________________________________________________________________________\n",
      "time_distributed (TimeDistribut (None, None, 78683)  94498283    concat_layer[0][0]               \n",
      "==================================================================================================\n",
      "Total params: 195,639,983\n",
      "Trainable params: 108,190,883\n",
      "Non-trainable params: 87,449,100\n",
      "__________________________________________________________________________________________________\n"
     ]
    }
   ],
   "source": [
    "strategy = tf.distribute.MirroredStrategy()\n",
    "with strategy.scope():\n",
    "    parallel_model = create_model() \n",
    "    parallel_model.compile(optimizer='adam', loss='sparse_categorical_crossentropy')\n",
    "\n",
    "parallel_model.summary()"
   ]
  },
  {
   "cell_type": "code",
   "execution_count": 9,
   "metadata": {},
   "outputs": [
    {
     "name": "stdout",
     "output_type": "stream",
     "text": [
      "Loaded model from disk\n"
     ]
    }
   ],
   "source": [
    "parallel_model.load_weights(\"model_fd_111519_300units_punct.h5\")\n",
    "print(\"Loaded model from disk\")"
   ]
  },
  {
   "cell_type": "code",
   "execution_count": 11,
   "metadata": {},
   "outputs": [],
   "source": [
    "encoder_inputs = parallel_model.input[0]\n",
    "encoder_model = Model(inputs = encoder_inputs, outputs = parallel_model.get_layer('EncLSTM4').output)\n",
    "\n",
    "decoder_state_input_h = Input(shape=(hidden_units,))\n",
    "decoder_state_input_c = Input(shape=(hidden_units,))\n",
    "decoder_hidden_state_input = Input(shape=(MAX_TEXT_LENGTH,hidden_units))\n",
    "\n",
    "# Get the embeddings of the decoder sequence\n",
    "dec_emb2= parallel_model.get_layer('DecoderEmbeddingLayer')(parallel_model.input[1])\n",
    "\n",
    "# To predict the next word in the sequence, set the initial states to the states from the previous time step\n",
    "decoder_outputs2, state_h2, state_c2 = parallel_model.get_layer('DecLSTM1')(dec_emb2, initial_state=[decoder_state_input_h, decoder_state_input_c])\n",
    "\n",
    "#attention inference\n",
    "attn_out_inf, attn_states_inf = parallel_model.get_layer('attention_layer')([decoder_hidden_state_input, decoder_outputs2])\n",
    "decoder_inf_concat = Concatenate(axis=-1, name='concat')([decoder_outputs2, attn_out_inf])\n",
    "\n",
    "# A dense softmax layer to generate prob dist. over the target vocabulary\n",
    "decoder_outputs2 = parallel_model.layers[-1](decoder_inf_concat) #This is the time distributed layer\n",
    "\n",
    "# Final decoder model\n",
    "decoder_model = Model(\n",
    "[parallel_model.input[1]] + [decoder_hidden_state_input,decoder_state_input_h, decoder_state_input_c],\n",
    "[decoder_outputs2] + [state_h2, state_c2])"
   ]
  },
  {
   "cell_type": "code",
   "execution_count": 12,
   "metadata": {},
   "outputs": [],
   "source": [
    "def seq2summary(input_seq):\n",
    "    newString=''\n",
    "    for i in input_seq:\n",
    "        if(i!=0 ):\n",
    "            newString=newString+y_index_word[i]+' '\n",
    "    return newString\n",
    "\n",
    "def seq2text(input_seq):\n",
    "    newString=''\n",
    "    for i in input_seq:\n",
    "        if(i!=0):\n",
    "            newString=newString+x_index_word[i]+' '\n",
    "    return newString"
   ]
  },
  {
   "cell_type": "code",
   "execution_count": 13,
   "metadata": {},
   "outputs": [],
   "source": [
    "def get_top_beam_search_sentences(input_seq, beam=3):\n",
    "    # Encode the input as state vectors.\n",
    "    e_out, e_h, e_c = encoder_model.predict(input_seq)\n",
    "\n",
    "    top_sentences = {}\n",
    "    \n",
    "    def top_tokens(last_token, out, h, c):\n",
    "        output_tokens, h_new, c_new = decoder_model.predict([[last_token]] + [out, h, c])\n",
    "        top_token_indexes = np.argsort(output_tokens[0, -1, :])[-beam:]\n",
    "        top_probabilities = output_tokens[0,-1, top_token_indexes]\n",
    "        return top_token_indexes, top_probabilities, h_new, c_new\n",
    "        \n",
    "    #first set of tokens when feeding encoder states and 0 as the first token to the decoder.\n",
    "    first_tokens, first_probabilities, h, c = top_tokens(0, e_out, e_h, e_c)\n",
    "    for first_token, first_probability in zip(first_tokens, first_probabilities):\n",
    "        #initialize top sentences, their corresponding probabilities and states\n",
    "        top_sentences[y_index_word.get(first_token, '')] = (first_probability, h, c)\n",
    "    \n",
    "    \n",
    "    #loop to iterate over next tokens\n",
    "    len = 1\n",
    "    while len < MAX_HEADLINE_LENGTH:\n",
    "        candidate_sentences = {}\n",
    "        for sentence, (probability, h, c) in top_sentences.items():\n",
    "            last_word = sentence.split()[-1] #pick the last word in the sentence as next word\n",
    "            if(last_word != '.'):\n",
    "                token = y_word_index.get(last_word, 0) \n",
    "                next_tokens, next_probabilities, h_next, c_next = top_tokens(token, e_out, h, c)\n",
    "                for next_token, next_probability in zip(next_tokens, next_probabilities):\n",
    "                    new_sentence = sentence.strip() + ' ' + y_index_word.get(next_token, '')\n",
    "                    candidate_sentences[new_sentence.strip()] = (probability * next_probability, h_next, c_next)\n",
    "            else:\n",
    "                candidate_sentences[sentence] = (probability, h, c)\n",
    "\n",
    "        #print('Candidate sentences')\n",
    "        #print(candidate_sentences.keys())\n",
    "        \n",
    "        #remove low probability candidates\n",
    "        low_probability_candidates = sorted(candidate_sentences, key=lambda k: candidate_sentences.get(k)[0])[:-beam]\n",
    "        for low_probability_candidate in low_probability_candidates:\n",
    "            candidate_sentences.pop(low_probability_candidate)\n",
    "        \n",
    "        #Now all candidates left have highest probabilities.\n",
    "        top_sentences = candidate_sentences\n",
    "        len = len + 1\n",
    "        #print('Sentences at the bottom of the loop')\n",
    "        #print(top_sentences.keys())\n",
    "        \n",
    "\n",
    "    return top_sentences\n",
    "\n",
    "def decode_sequence(input_seq, beam=3):\n",
    "    top_sentences_obj = get_top_beam_search_sentences(input_seq.reshape(1,-1), beam)\n",
    "    l = [(sen, prob) for sen, (prob, _, _) in top_sentences_obj.items()]\n",
    "    return sorted(l, key = lambda x:-x[1])[0][0]"
   ]
  },
  {
   "cell_type": "code",
   "execution_count": 14,
   "metadata": {},
   "outputs": [
    {
     "data": {
      "text/plain": [
       "'eat probiotics .'"
      ]
     },
     "execution_count": 14,
     "metadata": {},
     "output_type": "execute_result"
    }
   ],
   "source": [
    "decode_sequence(x_test[3456])"
   ]
  },
  {
   "cell_type": "code",
   "execution_count": 46,
   "metadata": {},
   "outputs": [],
   "source": [
    "############\n",
    "##### helpful functions to help with formatting when printing: \n",
    "############\n",
    "def printmd(string):\n",
    "    display(Markdown(string)) #just a pretty print \n",
    "\n",
    "############\n",
    "##### function for BLEU \n",
    "#############\n",
    "\n",
    "from nltk.translate.bleu_score import sentence_bleu\n",
    "# reference: https://machinelearningmastery.com/calculate-bleu-score-for-text-python/\n",
    "\n",
    "def calc_indiv_BLEU(id_text, text_df, headline_df): \n",
    "    # This function will take the following as inputs: \n",
    "    # id_text: the index you are interested in \n",
    "    # gen_text_df: the sequences that hold the full text \n",
    "    # headline_df: the sequences that hold the headline text \n",
    "    \n",
    "    # -- Step 1: generate the decoded sequence from a given sample of text\n",
    "    gen_output = decode_sequence(text_df[id_text].reshape(1,-1))\n",
    "    split_output = gen_output.split(\" \")\n",
    "    candidate = [item for item in split_output if (item!=\".\" and item!=\"\")] #get rid of empty spaces and periods \n",
    "    # -- Step 2: generate the true headline summary from our labelled headline text\n",
    "    gen_ref = seq2summary(headline_df[id_text])\n",
    "    split_ref = gen_ref.split(\" \")\n",
    "    #get rid of empty spaces and periods (there shouldn't be any as we already cleaned the headline, but just in case)\n",
    "    reference = [item for item in split_ref if (item!=\".\" and item!=\"\")] \n",
    "    # -- Step 3: calculate BLEU \n",
    "    score = sentence_bleu(gen_ref, gen_output, weights=(1, 0, 0, 0))\n",
    "    # we can alternate weights for cumulative scores afterwards \n",
    "    # For now, BLEU is based on unigram counts \n",
    "    return(score)\n",
    "\n",
    "###############\n",
    "##### function for rouge \n",
    "############### \n",
    "# PULL METRICS.PY FILE!! \n",
    "from metrics import rouge_n_sentence_level\n",
    "# metrics.py is taken from https://github.com/neural-dialogue-metrics/rouge\n",
    "\n",
    "# Other useful links to keep in mind: \n",
    "# https://stackoverflow.com/questions/38045290/text-summarization-evaluation-bleu-vs-rouge\n",
    "\n",
    "def calc_indiv_rouge(id_text, text_df, headline_df, rouge_n): \n",
    "    # This function will take the following as inputs: \n",
    "    # id_text: the index you are interested in \n",
    "    # gen_text_df: the sequences that hold the full text \n",
    "    # headline_df: the sequences that hold the headline text \n",
    "    \n",
    "    # -- Step 1: generate the decoded sequence from a given sample of text\n",
    "    gen_output = decode_sequence(text_df[id_text].reshape(1,-1))\n",
    "    split_output = gen_output.split(\" \")\n",
    "    candidate = [item for item in split_output if (item!=\".\" and item!=\"\")] #get rid of empty spaces and periods \n",
    "    # -- Step 2: generate the true headline summary from our labelled headline text\n",
    "    gen_ref = seq2summary(headline_df[id_text])\n",
    "    split_ref = gen_ref.split(\" \")\n",
    "    #get rid of empty spaces and periods (there shouldn't be any as we already cleaned the headline, but just in case)\n",
    "    reference = [item for item in split_ref if (item!=\".\" and item!=\"\")] \n",
    "    # -- Step 3: calculate rouge\n",
    "    recall, precision, rouge = rouge_n_sentence_level(candidate, reference, rouge_n)\n",
    "    # rouge is actually an f-score of the recall and precision \n",
    "    return(recall, precision, rouge)"
   ]
  },
  {
   "cell_type": "code",
   "execution_count": 47,
   "metadata": {},
   "outputs": [],
   "source": [
    "#############\n",
    "# Evaluation print-out example \n",
    "############# \n",
    "from IPython.display import Markdown, display"
   ]
  },
  {
   "cell_type": "code",
   "execution_count": null,
   "metadata": {},
   "outputs": [],
   "source": [
    "for i in range(10,15):\n",
    "    printmd(\"**Generated summary:**\"+decode_sequence(x_train[i].reshape(1,-1)))\n",
    "    printmd(\"**Original summary:**\"+seq2summary(y_train[i]))\n",
    "    printmd(\"**Text:**\"+seq2text(x_train[i]))\n",
    "    printmd(\"**BLEU score(Unigram):** \"+str(calc_indiv_BLEU(i, x_train, y_train)))\n",
    "    rouge_n = 1 #this can be edited pending how we decide to evaluate ROUGE \n",
    "    printmd(\"**ROUGE-**\"+str(rouge_n)+\"**-Recall:** \"+str(calc_indiv_rouge(i,x_train,y_train,rouge_n)[0]))\n",
    "    printmd(\"**ROUGE-**\"+str(rouge_n)+\"**-Precision:** \"+str(calc_indiv_rouge(i,x_train,y_train,rouge_n)[1]))\n",
    "    printmd(\"**ROUGE-**\"+str(rouge_n)+\"**-Fscore:** \"+str(calc_indiv_rouge(i,x_train,y_train,rouge_n)[2]))\n",
    "    print('_________________________________________________________________')"
   ]
  },
  {
   "cell_type": "code",
   "execution_count": 50,
   "metadata": {},
   "outputs": [],
   "source": [
    "bleu_total= 0\n",
    "for i in range(len(x_train[:10])):\n",
    "    bleu_total += calc_indiv_BLEU(i, x_train, y_train)"
   ]
  },
  {
   "cell_type": "code",
   "execution_count": 51,
   "metadata": {},
   "outputs": [],
   "source": [
    "BLEU = bleu_total/len(x_train[:10])"
   ]
  },
  {
   "cell_type": "code",
   "execution_count": 52,
   "metadata": {},
   "outputs": [
    {
     "name": "stdout",
     "output_type": "stream",
     "text": [
      "0.1393015078330715\n"
     ]
    }
   ],
   "source": [
    "print(BLEU)"
   ]
  },
  {
   "cell_type": "code",
   "execution_count": 59,
   "metadata": {},
   "outputs": [],
   "source": [
    "rouge_recall_total, rouge_precision_total, rouge_f_total= 0,0,0\n",
    "for i in range(len(x_test[:20])):\n",
    "    rouge_recall, rouge_precision, rouge_f = calc_indiv_rouge(i, x_test, y_test,1)\n",
    "    rouge_recall_total += rouge_recall\n",
    "    rouge_precision_total += rouge_precision\n",
    "    rouge_f_total += rouge_f"
   ]
  },
  {
   "cell_type": "code",
   "execution_count": 61,
   "metadata": {},
   "outputs": [
    {
     "data": {
      "text/plain": [
       "0.17671987734487735"
      ]
     },
     "execution_count": 61,
     "metadata": {},
     "output_type": "execute_result"
    }
   ],
   "source": [
    "rouge_recall_total/20"
   ]
  },
  {
   "cell_type": "code",
   "execution_count": 62,
   "metadata": {},
   "outputs": [
    {
     "data": {
      "text/plain": [
       "0.23347222222222222"
      ]
     },
     "execution_count": 62,
     "metadata": {},
     "output_type": "execute_result"
    }
   ],
   "source": [
    "rouge_precision_total/20"
   ]
  },
  {
   "cell_type": "code",
   "execution_count": 63,
   "metadata": {},
   "outputs": [
    {
     "data": {
      "text/plain": [
       "0.18876909038673745"
      ]
     },
     "execution_count": 63,
     "metadata": {},
     "output_type": "execute_result"
    }
   ],
   "source": [
    "rouge_f_total/20"
   ]
  },
  {
   "cell_type": "code",
   "execution_count": 89,
   "metadata": {},
   "outputs": [],
   "source": [
    "res = decode_sequence_beam(x_test[199].reshape(1,-1), 15)"
   ]
  },
  {
   "cell_type": "code",
   "execution_count": 90,
   "metadata": {},
   "outputs": [],
   "source": [
    "l = [(sen, prob) for sen, (prob, _, _) in res.items()]"
   ]
  },
  {
   "cell_type": "code",
   "execution_count": 91,
   "metadata": {},
   "outputs": [
    {
     "data": {
      "text/plain": [
       "[('choose the ingredients that you need for the recipe .', 0.29022956),\n",
       " ('choose the ingredients you need for the recipe .', 0.012860966),\n",
       " ('choose the ingredients that you need .', 0.012043308),\n",
       " ('choose the ingredients that you need for your recipe .', 0.011410826),\n",
       " ('choose the ingredients that need for the recipe .', 0.007939939),\n",
       " ('choose the recipe that you need for the recipe .', 0.0067652366),\n",
       " ('choose your ingredients that you need for the recipe .', 0.0055452096),\n",
       " ('choose the salmon that you need for the recipe .', 0.005466914),\n",
       " ('choose the cheese that you need for the recipe .', 0.005388176),\n",
       " ('choose your ingredients .', 0.0037132106),\n",
       " ('choose the utensil that you need for the recipe .', 0.003289203),\n",
       " ('choose the tomato that you need for the recipe .', 0.0030044427),\n",
       " ('choose the ingredients that you need for the recipe to be .', 0.0028947894),\n",
       " ('choose the ingredients that you need for the recipe to .', 0.0026848372),\n",
       " ('choose the correct ingredients that you need for the recipe .',\n",
       "  0.002670382)]"
      ]
     },
     "execution_count": 91,
     "metadata": {},
     "output_type": "execute_result"
    }
   ],
   "source": [
    "sorted(l, key = lambda x:-x[1])"
   ]
  },
  {
   "cell_type": "code",
   "execution_count": 92,
   "metadata": {},
   "outputs": [
    {
     "data": {
      "text/plain": [
       "' choose the ingredients that you need for the recipe . . . . . . . . . . . . . . . . . . . .'"
      ]
     },
     "execution_count": 92,
     "metadata": {},
     "output_type": "execute_result"
    }
   ],
   "source": [
    "decode_sequence(x_test[199].reshape(1,-1))"
   ]
  },
  {
   "cell_type": "code",
   "execution_count": 93,
   "metadata": {},
   "outputs": [
    {
     "data": {
      "text/plain": [
       "'choose the ingredients that you need for the recipe . '"
      ]
     },
     "execution_count": 93,
     "metadata": {},
     "output_type": "execute_result"
    }
   ],
   "source": [
    "seq2summary(y_test[199])"
   ]
  },
  {
   "cell_type": "code",
   "execution_count": 94,
   "metadata": {},
   "outputs": [
    {
     "data": {
      "text/plain": [
       "'press the a button again and start to make the dish . '"
      ]
     },
     "execution_count": 94,
     "metadata": {},
     "output_type": "execute_result"
    }
   ],
   "source": [
    "seq2text(x_test[199])"
   ]
  },
  {
   "cell_type": "code",
   "execution_count": 17,
   "metadata": {},
   "outputs": [
    {
     "name": "stdout",
     "output_type": "stream",
     "text": [
      "------------Beam Search-------------------------- 3456\n",
      "eat probiotics .\n",
      "------------Greedy Search------------------------\n",
      "eat probiotics .\n",
      "------------Ground Truth-------------------------\n",
      "eat probiotics and prebiotics . \n",
      "------------Document-----------------------------\n",
      "they can also protect your gut from harmful bacteria that irritates your bowels . since it is hard to gauge how many colony forming units of probiotics cfus are in foods , eat a variety of foods known to contain probiotics and prebiotics . to get probiotics in your diet , eat leafy green vegetables kale , spinach , swiss chard , spinach , beet greens , collard greens , mustard greens , broccoli , cauliflower , and cabbage . to get prebiotics , eat chicory root jerusalem artichoke dandelion greens garlic leeks asparagus wheat bran baked wheat flour bananas \n",
      "=================================================\n",
      "------------Beam Search-------------------------- 3457\n",
      "install the fan motor assembly .\n",
      "------------Greedy Search------------------------\n",
      "attach the fan motor assembly .\n",
      "------------Ground Truth-------------------------\n",
      "secure the fan to the joists . \n",
      "------------Document-----------------------------\n",
      "use drywall screws to firmly secure each bracket end to the joist . now that the fan is secure , take the length of flexible duct pipe and attach one end to the degree duct elbow protruding from fan housing using foil duct tape . now is also a good time to run an existing or new electrical cable through the connector on the fan housing . you can secure the cable by tightening the screw on the connector . be aware that you will need to use a three wire cable if your new fan includes a light . \n",
      "=================================================\n",
      "------------Beam Search-------------------------- 3458\n",
      "trust your gut .\n",
      "------------Greedy Search------------------------\n",
      "trust your gut .\n",
      "------------Ground Truth-------------------------\n",
      "trust your partner . \n",
      "------------Document-----------------------------\n",
      "when you do not trust him or her having trust takes two people , and without the other person building trust , too , it is like a fish without water . this is where you have the opportunity to practice vulnerability . trusting another person often comes down to how you feel on the inside . in other words , if you tend to be insecure about things , then this could fall over into your relationship in a negative way . you have every reason to trust until the person actually does something that shows you cannot . \n",
      "=================================================\n",
      "------------Beam Search-------------------------- 3459\n",
      "make sure you have enough cash .\n",
      "------------Greedy Search------------------------\n",
      "have a cash amount of cash in your cash bag .\n",
      "------------Ground Truth-------------------------\n",
      "estimate the total amount of money you will spend on these items . \n",
      "------------Document-----------------------------\n",
      "only bring that amount with you in cash no credit cards , no checks . \n",
      "=================================================\n",
      "------------Beam Search-------------------------- 3460\n",
      "allow your veterinarian to heal .\n",
      "------------Greedy Search------------------------\n",
      "allow the doctor to heal the infection .\n",
      "------------Ground Truth-------------------------\n",
      "treat the infected area . \n",
      "------------Document-----------------------------\n",
      "after your veterinarian has flushed out the abscess and cleansed the infected area , he or she will probably recommend further treatment to ensure optimal healing . if your veterinarian strongly suspects a bacterial infection , he or she may decide to coat the infected area with triple antibiotic ointment until the area is fully healed . ear abscesses are usually left open to heal closing it up could seal in the infection . leaving the abscess open will allow it to continue to drain . \n",
      "=================================================\n",
      "------------Beam Search-------------------------- 3461\n",
      "add a bot .\n",
      "------------Greedy Search------------------------\n",
      "add a contact .\n",
      "------------Ground Truth-------------------------\n",
      "send messages to add contacts . \n",
      "------------Document-----------------------------\n",
      "users to whom you have sent a message . you will find your contact list in this message bar . if the user replies to your message , you can chat with him or her . remember , you can only add up to contacts in a day . however , there is a paid feature of badoo to allow you add more contacts in a day . you need credits to activate this feature and it costs only . you cannot send messages to a user more than times if the user does not reply to your message . \n",
      "=================================================\n",
      "------------Beam Search-------------------------- 3462\n",
      "be aware of the risks .\n",
      "------------Greedy Search------------------------\n",
      "report all suspicious infected to the illness .\n",
      "------------Ground Truth-------------------------\n",
      "cooperate with home isolation or quarantines as necessary . \n",
      "------------Document-----------------------------\n",
      "the cdc may ask that infected people be isolated from others during treatment . this can occur in the home or in a medical facility , depending on the severity of the illness . comply with all instructions given by community leaders . as noted , it is generally a good idea to keep infected persons away from healthy ones . in a pandemic situation , however , the cdc may provide additional instructions for keeping infected persons isolated . \n",
      "=================================================\n",
      "------------Beam Search-------------------------- 3463\n",
      "take a sheet of aluminum foil .\n",
      "------------Greedy Search------------------------\n",
      "take a small amount of glue and cut it in half .\n",
      "------------Ground Truth-------------------------\n",
      "fill in the spaces that you feel need to be filled to make the heart look fuller . \n",
      "------------Document-----------------------------\n",
      "this depends on how big or small you prefer the heart to be . \n",
      "=================================================\n",
      "------------Beam Search-------------------------- 3464\n",
      "keep your room clean .\n",
      "------------Greedy Search------------------------\n",
      "be nice to everyone .\n",
      "------------Ground Truth-------------------------\n",
      "be a good listener . \n",
      "------------Document-----------------------------\n",
      "do not always shower your family members with advice just hear them out at times . that is all they need . \n",
      "=================================================\n",
      "------------Beam Search-------------------------- 3465\n",
      "choose a size .\n",
      "------------Greedy Search------------------------\n",
      "choose the size of the blanket sleeper .\n",
      "------------Ground Truth-------------------------\n",
      "choose a size . \n",
      "------------Document-----------------------------\n",
      "to make a square blanket , you can choose a size that fits the size of the baby . for example , if it is a newborn , make a blanket that is inches . m square , and if the baby is older , make a inch . m square blanket . \n",
      "=================================================\n",
      "------------Beam Search-------------------------- 3466\n",
      "make your bed .\n",
      "------------Greedy Search------------------------\n",
      "make sure you have a box that is compatible with your bed .\n",
      "------------Ground Truth-------------------------\n",
      "bring all of your furniture out and bring it into a separate room so it is out of the way . \n",
      "------------Document-----------------------------\n",
      "this could include your bed , dresser , desk , drawers . . . \n",
      "=================================================\n",
      "------------Beam Search-------------------------- 3467\n",
      "if you do not want to use an existing site , go to a reputable website .\n",
      "------------Greedy Search------------------------\n",
      "if you do not have a web site , go to the website that reads website .\n",
      "------------Ground Truth-------------------------\n",
      "evaluate the website for duplicate content , especially duplicate content accessible via multiple urls . \n",
      "------------Document-----------------------------\n",
      "many e commerce websites have this problem , which can result in a google penalty . \n",
      "=================================================\n",
      "------------Beam Search-------------------------- 3468\n",
      "blow on the camera .\n",
      "------------Greedy Search------------------------\n",
      "blow on your camera .\n",
      "------------Ground Truth-------------------------\n",
      "play the note g . play an a , then add your ring finger . \n",
      "------------Document-----------------------------\n",
      "this note requires less air pressure than previous notes , so make sure that you do not blow too hard . \n",
      "=================================================\n",
      "------------Beam Search-------------------------- 3469\n"
     ]
    },
    {
     "name": "stdout",
     "output_type": "stream",
     "text": [
      "click the star icon .\n",
      "------------Greedy Search------------------------\n",
      "click the star icon .\n",
      "------------Ground Truth-------------------------\n",
      "click on the field next to default web browser . \n",
      "------------Document-----------------------------\n",
      "this should be at the top of the general tab . you can select your preferred web browser from here . \n",
      "=================================================\n",
      "------------Beam Search-------------------------- 3470\n",
      "use dialogue .\n",
      "------------Greedy Search------------------------\n",
      "use dialogue and dialogue .\n",
      "------------Ground Truth-------------------------\n",
      "include stream of consciousness and or dialogue . \n",
      "------------Document-----------------------------\n",
      "when little direct action is taking place , recording the character s thoughts or conversations keeps the reader engaged . when using dialogue , note the speaker’s tone or inflection , any pauses or tics , or unusual words choices . do they gesture while they speak or use meaningful body language are they saying what they really think or hiding their true nature \n",
      "=================================================\n",
      "------------Beam Search-------------------------- 3471\n",
      "set realistic goals .\n",
      "------------Greedy Search------------------------\n",
      "set realistic goals .\n",
      "------------Ground Truth-------------------------\n",
      "discover your motivation type . \n",
      "------------Document-----------------------------\n",
      "the two most common motivation types are promotion focused and prevention focused . you are promotion focused if you are creative , impulsive , and enjoy trying new things . consider fast paced and evolving fields like social media and the tech sector . you are prevention focused if you prefer planning ahead of time and always paying attention to detail . consider a job with set hours in fields like law or data analysis . \n",
      "=================================================\n",
      "------------Beam Search-------------------------- 3472\n",
      "fill the bottle with water .\n",
      "------------Greedy Search------------------------\n",
      "fill a bucket with warm water .\n",
      "------------Ground Truth-------------------------\n",
      "fill the bottle with warm water and soap . \n",
      "------------Document-----------------------------\n",
      "brita water bottles can withstand high temperatures , but be sure not to use water that is nearly boiling . hot water from the faucet is sufficient . use a few drops of mild dishwashing detergent , such as dawn or palmolive to wash the bottle . \n",
      "=================================================\n",
      "------------Beam Search-------------------------- 3473\n",
      "smile .\n",
      "------------Greedy Search------------------------\n",
      "smile ! !\n",
      "------------Ground Truth-------------------------\n",
      "be polite and friendly to all customers , whether they are playing , parents of players , or just enquiring . \n",
      "------------Document-----------------------------\n",
      "remember that a smile can go a long way . \n",
      "=================================================\n",
      "------------Beam Search-------------------------- 3474\n",
      "provide support .\n",
      "------------Greedy Search------------------------\n",
      "provide a team with questions .\n",
      "------------Ground Truth-------------------------\n",
      "offer recommendations . \n",
      "------------Document-----------------------------\n",
      "if you are a consulting professional , ensure that the team has a direction to move in once the assessment is complete . provide suggestions and or alternatives to treatment planning and development . \n",
      "=================================================\n",
      "------------Beam Search-------------------------- 3475\n",
      "write a monologue .\n",
      "------------Greedy Search------------------------\n",
      "write a monologue .\n",
      "------------Ground Truth-------------------------\n",
      "master transitions within the monologue . \n",
      "------------Document-----------------------------\n",
      "a good monologue will have a clear narrative arc , with at least one transition between its parts . instead of ranting or shouting for the entire piece , make a clear transition between the angry part of the monologue , for example , and the calmer , more introspective part of the piece . \n",
      "=================================================\n"
     ]
    }
   ],
   "source": [
    "for i in range (3456, 3476):\n",
    "    print('------------Beam Search--------------------------', i)\n",
    "    print(decode_sequence(x_test[i].reshape(1,-1), 3))\n",
    "    print('------------Greedy Search------------------------')\n",
    "    print(decode_sequence(x_test[i].reshape(1,-1), 1))\n",
    "    print('------------Ground Truth-------------------------')\n",
    "    print(seq2summary(y_test[i]))\n",
    "    print('------------Document-----------------------------')    \n",
    "    print(seq2text(x_test[i]))\n",
    "    print('=================================================')\n"
   ]
  }
 ],
 "metadata": {
  "kernelspec": {
   "display_name": "Python 3",
   "language": "python",
   "name": "python3"
  },
  "language_info": {
   "codemirror_mode": {
    "name": "ipython",
    "version": 3
   },
   "file_extension": ".py",
   "mimetype": "text/x-python",
   "name": "python",
   "nbconvert_exporter": "python",
   "pygments_lexer": "ipython3",
   "version": "3.6.8"
  }
 },
 "nbformat": 4,
 "nbformat_minor": 2
}
