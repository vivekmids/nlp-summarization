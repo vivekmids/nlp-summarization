{
 "cells": [
  {
   "cell_type": "code",
   "execution_count": 5,
   "metadata": {},
   "outputs": [],
   "source": [
    "######\n",
    "# some things to consider: \n",
    "#######\n",
    "\n",
    "\n",
    "# Long doc summaries will be hard and very intensive on resources \n",
    "# there's amazon reviews here: https://www.analyticsvidhya.com/blog/2019/06/comprehensive-guide-text-summarization-using-deep-learning-python/\n",
    "#\n",
    "# Extra preprocessing tips: https://towardsdatascience.com/how-to-implement-seq2seq-lstm-model-in-keras-shortcutnlp-6f355f3e5639\n",
    "# OR we can consider using paragraph summaries instead from wikihowsep (instead of wikihowall)\n"
   ]
  },
  {
   "cell_type": "code",
   "execution_count": 6,
   "metadata": {
    "scrolled": true
   },
   "outputs": [],
   "source": [
    "#####\n",
    "# Packages\n",
    "##### \n",
    "\n",
    "import numpy as np\n",
    "import pandas as pd \n",
    "import tensorflow as tf\n",
    "from tensorflow import keras"
   ]
  },
  {
   "cell_type": "code",
   "execution_count": 7,
   "metadata": {},
   "outputs": [],
   "source": [
    "### \n",
    "# Read in data \n",
    "### \n",
    "\n",
    "#wiki = pd.read_csv('wikihowAll.csv')\n",
    "wiki = pd.read_csv('wikihow/wikihowAll.csv')"
   ]
  },
  {
   "cell_type": "code",
   "execution_count": 8,
   "metadata": {},
   "outputs": [
    {
     "data": {
      "text/html": [
       "<div>\n",
       "<style scoped>\n",
       "    .dataframe tbody tr th:only-of-type {\n",
       "        vertical-align: middle;\n",
       "    }\n",
       "\n",
       "    .dataframe tbody tr th {\n",
       "        vertical-align: top;\n",
       "    }\n",
       "\n",
       "    .dataframe thead th {\n",
       "        text-align: right;\n",
       "    }\n",
       "</style>\n",
       "<table border=\"1\" class=\"dataframe\">\n",
       "  <thead>\n",
       "    <tr style=\"text-align: right;\">\n",
       "      <th></th>\n",
       "      <th>headline</th>\n",
       "      <th>title</th>\n",
       "      <th>text</th>\n",
       "    </tr>\n",
       "  </thead>\n",
       "  <tbody>\n",
       "    <tr>\n",
       "      <th>0</th>\n",
       "      <td>\\nKeep related supplies in the same area.,\\nMa...</td>\n",
       "      <td>How to Be an Organized Artist1</td>\n",
       "      <td>If you're a photographer, keep all the necess...</td>\n",
       "    </tr>\n",
       "    <tr>\n",
       "      <th>1</th>\n",
       "      <td>\\nCreate a sketch in the NeoPopRealist manner ...</td>\n",
       "      <td>How to Create a Neopoprealist Art Work</td>\n",
       "      <td>See the image for how this drawing develops s...</td>\n",
       "    </tr>\n",
       "    <tr>\n",
       "      <th>2</th>\n",
       "      <td>\\nGet a bachelor’s degree.,\\nEnroll in a studi...</td>\n",
       "      <td>How to Be a Visual Effects Artist1</td>\n",
       "      <td>It is possible to become a VFX artist without...</td>\n",
       "    </tr>\n",
       "    <tr>\n",
       "      <th>3</th>\n",
       "      <td>\\nStart with some experience or interest in ar...</td>\n",
       "      <td>How to Become an Art Investor</td>\n",
       "      <td>The best art investors do their research on t...</td>\n",
       "    </tr>\n",
       "    <tr>\n",
       "      <th>4</th>\n",
       "      <td>\\nKeep your reference materials, sketches, art...</td>\n",
       "      <td>How to Be an Organized Artist2</td>\n",
       "      <td>As you start planning for a project or work, ...</td>\n",
       "    </tr>\n",
       "  </tbody>\n",
       "</table>\n",
       "</div>"
      ],
      "text/plain": [
       "                                            headline  \\\n",
       "0  \\nKeep related supplies in the same area.,\\nMa...   \n",
       "1  \\nCreate a sketch in the NeoPopRealist manner ...   \n",
       "2  \\nGet a bachelor’s degree.,\\nEnroll in a studi...   \n",
       "3  \\nStart with some experience or interest in ar...   \n",
       "4  \\nKeep your reference materials, sketches, art...   \n",
       "\n",
       "                                    title  \\\n",
       "0          How to Be an Organized Artist1   \n",
       "1  How to Create a Neopoprealist Art Work   \n",
       "2      How to Be a Visual Effects Artist1   \n",
       "3           How to Become an Art Investor   \n",
       "4          How to Be an Organized Artist2   \n",
       "\n",
       "                                                text  \n",
       "0   If you're a photographer, keep all the necess...  \n",
       "1   See the image for how this drawing develops s...  \n",
       "2   It is possible to become a VFX artist without...  \n",
       "3   The best art investors do their research on t...  \n",
       "4   As you start planning for a project or work, ...  "
      ]
     },
     "execution_count": 8,
     "metadata": {},
     "output_type": "execute_result"
    }
   ],
   "source": [
    "wiki.head()\n",
    "# so we have the headline, title, and the text columns "
   ]
  },
  {
   "cell_type": "code",
   "execution_count": 9,
   "metadata": {},
   "outputs": [
    {
     "data": {
      "text/plain": [
       "'\\nKeep related supplies in the same area.,\\nMake an effort to clean a dedicated workspace after every session.,\\nPlace loose supplies in large, clearly visible containers.,\\nUse clotheslines and clips to hang sketches, photos, and reference material.,\\nUse every inch of the room for storage, especially vertical space.,\\nUse chalkboard paint to make space for drafting ideas right on the walls.,\\nPurchase a label maker to make your organization strategy semi-permanent.,\\nMake a habit of throwing out old, excess, or useless stuff each month.'"
      ]
     },
     "execution_count": 9,
     "metadata": {},
     "output_type": "execute_result"
    }
   ],
   "source": [
    "wiki.loc[0,'headline']\n",
    "# We would ideally want to be able to make this headline from summarization based on the text "
   ]
  },
  {
   "cell_type": "code",
   "execution_count": 10,
   "metadata": {},
   "outputs": [
    {
     "data": {
      "text/plain": [
       "\" If you're a photographer, keep all the necessary lens, cords, and batteries in the same quadrant of your home or studio. Paints should be kept with brushes, cleaner, and canvas, print supplies should be by the ink, etc. Make broader groups and areas for your supplies to make finding them easier, limiting your search to a much smaller area. Some ideas include:\\n\\n\\nEssential supplies area -- the things you use every day.\\nInspiration and reference area.\\nDedicated work area .\\nInfrequent or secondary supplies area, tucked out of the way.;\\n, This doesn't mean cleaning the entire studio, it just means keeping the area immediately around the desk, easel, pottery wheel, etc. clean each night. Discard trash or unnecessary materials and wipe down dirty surfaces. Endeavor to leave the workspace in a way that you can sit down the next day and start working immediately, without having to do any work or tidying.\\n\\n\\nEven if the rest of your studio is a bit disorganized, an organized workspace will help you get down to business every time you want to make art.\\n\\n, As visual people, a lot of artist clutter comes from a desire to keep track of supplies visually instead of tucked out of sight. By using jars, old glasses, vases, and cheap, clear plastic drawers, you can keep things in sight without leaving it strewn about haphazardly. Some ideas, beyond those just mentioned, include:\\n\\n\\nCanvas shoe racks on the back of the door\\nWine racks with cups in each slot to hold pens/pencils.\\nPlastic restaurant squirt bottles for paint, pigment, etc., Simply string up the wires across a wall or along the ceiling and use them to hold essential papers that you don't want to cut or ruin with tacks or tape. Cheap and easy, this is also a good way to handle papers and ideas you touch regularly or need to pin up and down for inspiration., Shelving is an artist's best friend and is a cheap and easy way to get more room in your studio or art space. Don't be afraid to get up high either, especially for infrequently used supplies. The upper reaches of the room are often the most under-utilized, but provide vital space for all your tools and materials., Turning one wall into a chalkboard gives you a perfect space for ideas, sketches, and planning without requiring extra equipment or space. You can even use it for smaller areas. Paint over jars or storage equipment, allowing you to relabel them with chalk as your needs change.\\n\\n, A lot of disorganization comes when you keep moving the location of things, trying to optimize your space by reorganizing frequently. This usually has the opposite effect, leading to lost items and uncertainty when cleaning, but an afternoon with a label maker can solve everything. Instead of spending all of your mental energy looking for or storing things, you can just follow the labels, freeing your mind to think about art., Once a month, do a purge of your studio. If it isn't essential or part of a project, either throw it out or file it away for later. Artists are constantly making new things, experimenting, and making a mess. This is a good thing, but only if you set aside time to declutter. It may not be fun at the moment, but it is a lot more fun than spending 30 minutes digging through junk to find the right paint or an old sketch.\\n\\n\\nDon't be sentimental here. If you haven't used it in the last six months there is little chance you'll use it in the next six months. Toss it.\\n\\n\""
      ]
     },
     "execution_count": 10,
     "metadata": {},
     "output_type": "execute_result"
    }
   ],
   "source": [
    "wiki.loc[0,'text']"
   ]
  },
  {
   "cell_type": "code",
   "execution_count": 11,
   "metadata": {},
   "outputs": [
    {
     "data": {
      "text/plain": [
       "215365"
      ]
     },
     "execution_count": 11,
     "metadata": {},
     "output_type": "execute_result"
    }
   ],
   "source": [
    "# we can first split up the files into train, test, CV \n",
    "# 0.6 for train, 0.2 for cv, 0.2 for test \n",
    "\n",
    "len(wiki) #214365 total articles we can use "
   ]
  },
  {
   "cell_type": "code",
   "execution_count": 12,
   "metadata": {},
   "outputs": [],
   "source": [
    "############\n",
    "#### Preprocessing \n",
    "############ \n",
    "# tips from here: https://www.analyticsvidhya.com/blog/2019/06/comprehensive-guide-text-summarization-using-deep-learning-python/\n",
    "\n",
    "import re           \n",
    "#from bs4 import BeautifulSoup \n",
    "from nltk.corpus import stopwords   \n",
    "from tensorflow.keras.preprocessing.text import Tokenizer \n",
    "from tensorflow.keras.preprocessing.sequence import pad_sequences\n",
    "import math"
   ]
  },
  {
   "cell_type": "code",
   "execution_count": 13,
   "metadata": {},
   "outputs": [
    {
     "data": {
      "text/plain": [
       "headline     818\n",
       "title          1\n",
       "text        1071\n",
       "dtype: int64"
      ]
     },
     "execution_count": 13,
     "metadata": {},
     "output_type": "execute_result"
    }
   ],
   "source": [
    "np.sum(wiki.isna())"
   ]
  },
  {
   "cell_type": "code",
   "execution_count": 14,
   "metadata": {},
   "outputs": [],
   "source": [
    "#Good catch. We can remove NAs with this:\n",
    "#wiki_edited = wiki.dropna()"
   ]
  },
  {
   "cell_type": "code",
   "execution_count": 15,
   "metadata": {},
   "outputs": [],
   "source": [
    "# There are a few samples where the text is actually nan \n",
    "# we need to drop these \n",
    "\n",
    "float_nan_indexes = []\n",
    "for i in range(0,len(wiki)): \n",
    "    if type(wiki.loc[i,'text'])==str: \n",
    "        continue \n",
    "    else: \n",
    "        float_nan_indexes.append(i)"
   ]
  },
  {
   "cell_type": "code",
   "execution_count": 16,
   "metadata": {},
   "outputs": [],
   "source": [
    "wiki_edited = wiki.loc[~wiki.index.isin(float_nan_indexes),:].reset_index(drop=True)"
   ]
  },
  {
   "cell_type": "code",
   "execution_count": null,
   "metadata": {},
   "outputs": [],
   "source": []
  },
  {
   "cell_type": "code",
   "execution_count": 17,
   "metadata": {},
   "outputs": [
    {
     "data": {
      "text/html": [
       "<div>\n",
       "<style scoped>\n",
       "    .dataframe tbody tr th:only-of-type {\n",
       "        vertical-align: middle;\n",
       "    }\n",
       "\n",
       "    .dataframe tbody tr th {\n",
       "        vertical-align: top;\n",
       "    }\n",
       "\n",
       "    .dataframe thead th {\n",
       "        text-align: right;\n",
       "    }\n",
       "</style>\n",
       "<table border=\"1\" class=\"dataframe\">\n",
       "  <thead>\n",
       "    <tr style=\"text-align: right;\">\n",
       "      <th></th>\n",
       "      <th>headline</th>\n",
       "      <th>title</th>\n",
       "      <th>text</th>\n",
       "    </tr>\n",
       "  </thead>\n",
       "  <tbody>\n",
       "    <tr>\n",
       "      <th>0</th>\n",
       "      <td>\\nKeep related supplies in the same area.,\\nMa...</td>\n",
       "      <td>How to Be an Organized Artist1</td>\n",
       "      <td>If you're a photographer, keep all the necess...</td>\n",
       "    </tr>\n",
       "    <tr>\n",
       "      <th>1</th>\n",
       "      <td>\\nCreate a sketch in the NeoPopRealist manner ...</td>\n",
       "      <td>How to Create a Neopoprealist Art Work</td>\n",
       "      <td>See the image for how this drawing develops s...</td>\n",
       "    </tr>\n",
       "    <tr>\n",
       "      <th>2</th>\n",
       "      <td>\\nGet a bachelor’s degree.,\\nEnroll in a studi...</td>\n",
       "      <td>How to Be a Visual Effects Artist1</td>\n",
       "      <td>It is possible to become a VFX artist without...</td>\n",
       "    </tr>\n",
       "    <tr>\n",
       "      <th>3</th>\n",
       "      <td>\\nStart with some experience or interest in ar...</td>\n",
       "      <td>How to Become an Art Investor</td>\n",
       "      <td>The best art investors do their research on t...</td>\n",
       "    </tr>\n",
       "    <tr>\n",
       "      <th>4</th>\n",
       "      <td>\\nKeep your reference materials, sketches, art...</td>\n",
       "      <td>How to Be an Organized Artist2</td>\n",
       "      <td>As you start planning for a project or work, ...</td>\n",
       "    </tr>\n",
       "  </tbody>\n",
       "</table>\n",
       "</div>"
      ],
      "text/plain": [
       "                                            headline  \\\n",
       "0  \\nKeep related supplies in the same area.,\\nMa...   \n",
       "1  \\nCreate a sketch in the NeoPopRealist manner ...   \n",
       "2  \\nGet a bachelor’s degree.,\\nEnroll in a studi...   \n",
       "3  \\nStart with some experience or interest in ar...   \n",
       "4  \\nKeep your reference materials, sketches, art...   \n",
       "\n",
       "                                    title  \\\n",
       "0          How to Be an Organized Artist1   \n",
       "1  How to Create a Neopoprealist Art Work   \n",
       "2      How to Be a Visual Effects Artist1   \n",
       "3           How to Become an Art Investor   \n",
       "4          How to Be an Organized Artist2   \n",
       "\n",
       "                                                text  \n",
       "0   If you're a photographer, keep all the necess...  \n",
       "1   See the image for how this drawing develops s...  \n",
       "2   It is possible to become a VFX artist without...  \n",
       "3   The best art investors do their research on t...  \n",
       "4   As you start planning for a project or work, ...  "
      ]
     },
     "execution_count": 17,
     "metadata": {},
     "output_type": "execute_result"
    }
   ],
   "source": [
    "wiki_edited.head()"
   ]
  },
  {
   "cell_type": "code",
   "execution_count": 18,
   "metadata": {},
   "outputs": [
    {
     "data": {
      "text/plain": [
       "214294"
      ]
     },
     "execution_count": 18,
     "metadata": {},
     "output_type": "execute_result"
    }
   ],
   "source": [
    "len(wiki_edited) #so we have some dropped "
   ]
  },
  {
   "cell_type": "code",
   "execution_count": 19,
   "metadata": {},
   "outputs": [],
   "source": [
    "contraction_mapping = {\"ain't\": \"is not\", \"aren't\": \"are not\",\"can't\": \"cannot\", \"'cause\": \"because\", \"could've\": \"could have\", \"couldn't\": \"could not\",\n",
    "\n",
    "                           \"didn't\": \"did not\", \"doesn't\": \"does not\", \"don't\": \"do not\", \"hadn't\": \"had not\", \"hasn't\": \"has not\", \"haven't\": \"have not\",\n",
    "\n",
    "                           \"he'd\": \"he would\",\"he'll\": \"he will\", \"he's\": \"he is\", \"how'd\": \"how did\", \"how'd'y\": \"how do you\", \"how'll\": \"how will\", \"how's\": \"how is\",\n",
    "\n",
    "                           \"I'd\": \"I would\", \"I'd've\": \"I would have\", \"I'll\": \"I will\", \"I'll've\": \"I will have\",\"I'm\": \"I am\", \"I've\": \"I have\", \"i'd\": \"i would\",\n",
    "\n",
    "                           \"i'd've\": \"i would have\", \"i'll\": \"i will\",  \"i'll've\": \"i will have\",\"i'm\": \"i am\", \"i've\": \"i have\", \"isn't\": \"is not\", \"it'd\": \"it would\",\n",
    "\n",
    "                           \"it'd've\": \"it would have\", \"it'll\": \"it will\", \"it'll've\": \"it will have\",\"it's\": \"it is\", \"let's\": \"let us\", \"ma'am\": \"madam\",\n",
    "\n",
    "                           \"mayn't\": \"may not\", \"might've\": \"might have\",\"mightn't\": \"might not\",\"mightn't've\": \"might not have\", \"must've\": \"must have\",\n",
    "\n",
    "                           \"mustn't\": \"must not\", \"mustn't've\": \"must not have\", \"needn't\": \"need not\", \"needn't've\": \"need not have\",\"o'clock\": \"of the clock\",\n",
    "\n",
    "                           \"oughtn't\": \"ought not\", \"oughtn't've\": \"ought not have\", \"shan't\": \"shall not\", \"sha'n't\": \"shall not\", \"shan't've\": \"shall not have\",\n",
    "\n",
    "                           \"she'd\": \"she would\", \"she'd've\": \"she would have\", \"she'll\": \"she will\", \"she'll've\": \"she will have\", \"she's\": \"she is\",\n",
    "\n",
    "                           \"should've\": \"should have\", \"shouldn't\": \"should not\", \"shouldn't've\": \"should not have\", \"so've\": \"so have\",\"so's\": \"so as\",\n",
    "\n",
    "                           \"this's\": \"this is\",\"that'd\": \"that would\", \"that'd've\": \"that would have\", \"that's\": \"that is\", \"there'd\": \"there would\",\n",
    "\n",
    "                           \"there'd've\": \"there would have\", \"there's\": \"there is\", \"here's\": \"here is\",\"they'd\": \"they would\", \"they'd've\": \"they would have\",\n",
    "\n",
    "                           \"they'll\": \"they will\", \"they'll've\": \"they will have\", \"they're\": \"they are\", \"they've\": \"they have\", \"to've\": \"to have\",\n",
    "\n",
    "                           \"wasn't\": \"was not\", \"we'd\": \"we would\", \"we'd've\": \"we would have\", \"we'll\": \"we will\", \"we'll've\": \"we will have\", \"we're\": \"we are\",\n",
    "\n",
    "                           \"we've\": \"we have\", \"weren't\": \"were not\", \"what'll\": \"what will\", \"what'll've\": \"what will have\", \"what're\": \"what are\",\n",
    "\n",
    "                           \"what's\": \"what is\", \"what've\": \"what have\", \"when's\": \"when is\", \"when've\": \"when have\", \"where'd\": \"where did\", \"where's\": \"where is\",\n",
    "\n",
    "                           \"where've\": \"where have\", \"who'll\": \"who will\", \"who'll've\": \"who will have\", \"who's\": \"who is\", \"who've\": \"who have\",\n",
    "\n",
    "                           \"why's\": \"why is\", \"why've\": \"why have\", \"will've\": \"will have\", \"won't\": \"will not\", \"won't've\": \"will not have\",\n",
    "\n",
    "                           \"would've\": \"would have\", \"wouldn't\": \"would not\", \"wouldn't've\": \"would not have\", \"y'all\": \"you all\",\n",
    "\n",
    "                           \"y'all'd\": \"you all would\",\"y'all'd've\": \"you all would have\",\"y'all're\": \"you all are\",\"y'all've\": \"you all have\",\n",
    "\n",
    "                           \"you'd\": \"you would\", \"you'd've\": \"you would have\", \"you'll\": \"you will\", \"you'll've\": \"you will have\",\n",
    "\n",
    "                           \"you're\": \"you are\", \"you've\": \"you have\"}"
   ]
  },
  {
   "cell_type": "code",
   "execution_count": 20,
   "metadata": {},
   "outputs": [],
   "source": [
    "stop_words = set(stopwords.words('english')) \n",
    "def text_cleaner(text):\n",
    "    newString = text.lower()\n",
    "    #newString = BeautifulSoup(newString, \"lxml\").text\n",
    "    newString = re.sub(r'\\([^)]*\\)', '', newString)\n",
    "    newString = re.sub('\"','', newString)\n",
    "    newString = ' '.join([contraction_mapping[t] if t in contraction_mapping else t for t in newString.split(\" \")])    \n",
    "    newString = re.sub(r\"'s\\b\",\"\",newString)\n",
    "    newString = re.sub(\"[^a-zA-Z]\", \" \", newString) \n",
    "    tokens = [w for w in newString.split() if not w in stop_words]\n",
    "    long_words=[]\n",
    "    for i in tokens:\n",
    "        if len(i)>=3:                  #removing short word\n",
    "            long_words.append(i)   \n",
    "    return (\" \".join(long_words)).strip()"
   ]
  },
  {
   "cell_type": "code",
   "execution_count": 21,
   "metadata": {},
   "outputs": [],
   "source": [
    "cleaned_text = []\n",
    "#index_blah = list(range(0,len(wiki_edited)))\n",
    "for i in wiki_edited.index: \n",
    "    cleaned_text.append(text_cleaner(wiki_edited.loc[i,'text']))\n",
    "    \n"
   ]
  },
  {
   "cell_type": "code",
   "execution_count": 22,
   "metadata": {},
   "outputs": [
    {
     "data": {
      "text/plain": [
       "'see image drawing develops step step however important detail following drawings examine create something unique use lines create image shape sections fill appeared sections different patterns ornaments add text needed example neopoprealism add colored strip top color wish painting mural always requires preparation need equipment effort planning attention detail help succeed painting mural requires suitable location right surface painted surface smooth flat however even rough textured surfaces used neopoprealist mural project exterior projects last years using newer acrylic exterior paint would best choice interior walls use latex paints latex offer easier cleanup lower costs measuring total wall area covered total amount paint calculated since mural painting requires two colors white black figuring actual area painted color necessary allow purchasing right amount one large walls backgrounds may rolled sprayed white paint sprayer details may added brushes paints sensitive high temperatures humidity direct sunlight however interior projects many complications public places keeping mural protected may require attention reason make neopoprealist mural dedicated year anniversary school office consider using varnish mural see sample design give sense proportion unique requirements elements use sketch measure scale distances locations various points subject measuring key features help calculate amount paint feature identified color surface low whole mural painted standing ground stepladder higher work may rent scaffold mark horizontal vertical lines use white paint background begin marking using scaled sketch location key elements objects located foreground everything depends complexity mural confident artistic results may choose draw details freehand careful keep clean transition edges one color another however mistakes touched later always allow fresh color dry proceeding drawing example would painting large patterns use big brushes limbs use small brushes tiny detailed patterns drip run paint color paint appropriate location sharpen lines patterns blurred intended last long time surface require cleaning overcoat mural project clear sealer however able involve percent brain grays matter end primitive crafting patterns even worse doodling called zen doodling create neopoprealist art one needs abilities developed talented people studying using nadia russ neopoprealist instructional books copycats self promotional superficial books teach doodle nothing common visual arts mission'"
      ]
     },
     "execution_count": 22,
     "metadata": {},
     "output_type": "execute_result"
    }
   ],
   "source": [
    "cleaned_text[1] #cleaned up version"
   ]
  },
  {
   "cell_type": "code",
   "execution_count": 23,
   "metadata": {},
   "outputs": [
    {
     "data": {
      "text/plain": [
       "' See the image for how this drawing develops step-by-step. However, there is an important detail: the following drawings are to examine it, and then, to create something unique.\\n\\n\\nUse the lines to create the image shape and sections.\\nFill appeared sections with different patterns/ ornaments.\\nAdd text if needed, for example \"NeoPopRealism is 25!\"\\nAdd a colored strip on the top, any color you wish.;\\n, Painting a mural always requires some preparation. You‘ll need equipment and effort, but planning and attention to detail will help you succeed. Painting a mural requires a suitable location, with the right surface that can be painted.\\n\\nThis surface should be smooth and flat. However, even rough-textured surfaces can be used for your NeoPopRealist mural project.\\n\\n, For exterior projects that last for years, using a newer 100% acrylic exterior paint would be your best choice. For interior walls, use latex paints. Latex offer easier cleanup and lower costs. By measuring the total wall area to be covered, the total amount of paint can be calculated, but since this mural painting requires two colors - white and black - figuring the actual area to be painted each color is necessary to allow purchasing the right amount of each one.\\n\\nLarge walls backgrounds may be rolled or sprayed with a white paint sprayer, where details may be added with brushes.\\nPaints are sensitive to high temperatures, humidity, direct sunlight, however, the interior projects do not have many complications. In public places, keeping the mural protected may require attention. For that reason, if you make your NeoPopRealist mural dedicated to its 25-year anniversary in school or office, you can consider using varnish for your mural.\\n\\n, See sample above. The design will give you a sense of proportion. You will have unique requirements and elements., Use a sketch and measure at scale the distances and locations of various points of your subject. Measuring key features will help you calculate the amount of paint when each feature is identified by its color., If the surface is low, the whole mural can be painted standing on the ground or from a stepladder. For higher work, you may have to rent a scaffold., Mark the horizontal and vertical lines., Use white paint as background., Then begin marking, using your scaled sketch, the location of key elements of objects, located in the foreground. Everything depends on the complexity of your mural. If you are confident in your artistic results, you may choose to draw all of the details in freehand., Be careful, keep clean transition edges from one color (black) to another (white). However, mistakes can be touched up later. Always allow fresh color to dry before proceeding to the drawing., An example would be painting a large patterns use big brushes, limbs, use small brushes for tiny and detailed patterns., If you have a drip or run, paint over it with the color paint appropriate for that location. Sharpen lines and patterns if they are blurred., If it is intended to last a long time or if it is on a surface that require cleaning, overcoat your mural project with a clear sealer., However, if you won\\'t be able to involve more than 16 percent of your brain\\'s grays matter, you\\'ll end up with the primitive crafting of patterns or even worse, with doodling or so-called zen-doodling. But to create the NeoPopRealist ART one needs the abilities, which can be developed in talented people by studying using Nadia Russ\\' Neopoprealist instructional books. Other, the copycats\\' self-promotional superficial books will teach you only how to doodle because they have nothing in common with visual arts and its mission.\\n\\n'"
      ]
     },
     "execution_count": 23,
     "metadata": {},
     "output_type": "execute_result"
    }
   ],
   "source": [
    "wiki_edited.loc[1,'text'] #original version"
   ]
  },
  {
   "cell_type": "code",
   "execution_count": 24,
   "metadata": {},
   "outputs": [
    {
     "data": {
      "text/plain": [
       "\"\\nimport pickle \\n\\nwith open('cleanedupwiki_text.pkl', 'wb') as f:\\n    pickle.dump(cleaned_text, f)\\n    \\n# to read the pickle: \\n#with open('cleanedupwiki_text.pkl', 'rb') as f:\\n    #mynewlist = pickle.load(f)\""
      ]
     },
     "execution_count": 24,
     "metadata": {},
     "output_type": "execute_result"
    }
   ],
   "source": [
    "#######\n",
    "# Saving the cleaned up text just in case \n",
    "####### \n",
    "'''\n",
    "import pickle \n",
    "\n",
    "with open('cleanedupwiki_text.pkl', 'wb') as f:\n",
    "    pickle.dump(cleaned_text, f)\n",
    "    \n",
    "# to read the pickle: \n",
    "#with open('cleanedupwiki_text.pkl', 'rb') as f:\n",
    "    #mynewlist = pickle.load(f)'''"
   ]
  },
  {
   "cell_type": "code",
   "execution_count": 25,
   "metadata": {},
   "outputs": [
    {
     "data": {
      "text/plain": [
       "\"import pickle \\n\\nwith open('cleanedupwiki_text.pkl', 'rb') as f:\\n    cleaned_text = pickle.load(f)\""
      ]
     },
     "execution_count": 25,
     "metadata": {},
     "output_type": "execute_result"
    }
   ],
   "source": [
    "\n",
    "'''import pickle \n",
    "\n",
    "with open('cleanedupwiki_text.pkl', 'rb') as f:\n",
    "    cleaned_text = pickle.load(f)'''"
   ]
  },
  {
   "cell_type": "code",
   "execution_count": 26,
   "metadata": {},
   "outputs": [],
   "source": [
    "# We also have to apply the same preprocessing to the summaries (headline)\n",
    "\n",
    "def summary_cleaner(text):\n",
    "    newString = re.sub('\"','', text)\n",
    "    newString = ' '.join([contraction_mapping[t] if t in contraction_mapping else t for t in newString.split(\" \")])    \n",
    "    newString = re.sub(r\"'s\\b\",\"\",newString)\n",
    "    newString = re.sub(\"[^a-zA-Z]\", \" \", newString)\n",
    "    newString = newString.lower()\n",
    "    tokens=newString.split()\n",
    "    newString=''\n",
    "    for i in tokens:\n",
    "        if len(i)>1:                                 \n",
    "            newString=newString+i+' '  \n",
    "    return newString\n",
    "\n",
    "\n",
    "cleaned_summary = []\n",
    "for t in wiki_edited['headline']:\n",
    "    cleaned_summary.append(summary_cleaner(t))\n"
   ]
  },
  {
   "cell_type": "code",
   "execution_count": 27,
   "metadata": {},
   "outputs": [
    {
     "data": {
      "text/plain": [
       "'keep related supplies in the same area make an effort to clean dedicated workspace after every session place loose supplies in large clearly visible containers use clotheslines and clips to hang sketches photos and reference material use every inch of the room for storage especially vertical space use chalkboard paint to make space for drafting ideas right on the walls purchase label maker to make your organization strategy semi permanent make habit of throwing out old excess or useless stuff each month '"
      ]
     },
     "execution_count": 27,
     "metadata": {},
     "output_type": "execute_result"
    }
   ],
   "source": [
    "cleaned_summary[0]"
   ]
  },
  {
   "cell_type": "code",
   "execution_count": 28,
   "metadata": {},
   "outputs": [
    {
     "data": {
      "text/plain": [
       "'\\nKeep related supplies in the same area.,\\nMake an effort to clean a dedicated workspace after every session.,\\nPlace loose supplies in large, clearly visible containers.,\\nUse clotheslines and clips to hang sketches, photos, and reference material.,\\nUse every inch of the room for storage, especially vertical space.,\\nUse chalkboard paint to make space for drafting ideas right on the walls.,\\nPurchase a label maker to make your organization strategy semi-permanent.,\\nMake a habit of throwing out old, excess, or useless stuff each month.'"
      ]
     },
     "execution_count": 28,
     "metadata": {},
     "output_type": "execute_result"
    }
   ],
   "source": [
    "wiki_edited.loc[0,'headline']"
   ]
  },
  {
   "cell_type": "code",
   "execution_count": 29,
   "metadata": {},
   "outputs": [],
   "source": [
    "wiki_edited['cleaned_text'] = cleaned_text \n",
    "wiki_edited['cleaned_headline'] = cleaned_summary"
   ]
  },
  {
   "cell_type": "code",
   "execution_count": 30,
   "metadata": {},
   "outputs": [
    {
     "data": {
      "text/html": [
       "<div>\n",
       "<style scoped>\n",
       "    .dataframe tbody tr th:only-of-type {\n",
       "        vertical-align: middle;\n",
       "    }\n",
       "\n",
       "    .dataframe tbody tr th {\n",
       "        vertical-align: top;\n",
       "    }\n",
       "\n",
       "    .dataframe thead th {\n",
       "        text-align: right;\n",
       "    }\n",
       "</style>\n",
       "<table border=\"1\" class=\"dataframe\">\n",
       "  <thead>\n",
       "    <tr style=\"text-align: right;\">\n",
       "      <th></th>\n",
       "      <th>headline</th>\n",
       "      <th>title</th>\n",
       "      <th>text</th>\n",
       "      <th>cleaned_text</th>\n",
       "      <th>cleaned_headline</th>\n",
       "    </tr>\n",
       "  </thead>\n",
       "  <tbody>\n",
       "    <tr>\n",
       "      <th>0</th>\n",
       "      <td>\\nKeep related supplies in the same area.,\\nMa...</td>\n",
       "      <td>How to Be an Organized Artist1</td>\n",
       "      <td>If you're a photographer, keep all the necess...</td>\n",
       "      <td>photographer keep necessary lens cords batteri...</td>\n",
       "      <td>keep related supplies in the same area make an...</td>\n",
       "    </tr>\n",
       "    <tr>\n",
       "      <th>1</th>\n",
       "      <td>\\nCreate a sketch in the NeoPopRealist manner ...</td>\n",
       "      <td>How to Create a Neopoprealist Art Work</td>\n",
       "      <td>See the image for how this drawing develops s...</td>\n",
       "      <td>see image drawing develops step step however i...</td>\n",
       "      <td>create sketch in the neopoprealist manner of t...</td>\n",
       "    </tr>\n",
       "    <tr>\n",
       "      <th>2</th>\n",
       "      <td>\\nGet a bachelor’s degree.,\\nEnroll in a studi...</td>\n",
       "      <td>How to Be a Visual Effects Artist1</td>\n",
       "      <td>It is possible to become a VFX artist without...</td>\n",
       "      <td>possible become vfx artist without college deg...</td>\n",
       "      <td>get bachelor degree enroll in studio based pro...</td>\n",
       "    </tr>\n",
       "    <tr>\n",
       "      <th>3</th>\n",
       "      <td>\\nStart with some experience or interest in ar...</td>\n",
       "      <td>How to Become an Art Investor</td>\n",
       "      <td>The best art investors do their research on t...</td>\n",
       "      <td>best art investors research pieces art buy som...</td>\n",
       "      <td>start with some experience or interest in art ...</td>\n",
       "    </tr>\n",
       "    <tr>\n",
       "      <th>4</th>\n",
       "      <td>\\nKeep your reference materials, sketches, art...</td>\n",
       "      <td>How to Be an Organized Artist2</td>\n",
       "      <td>As you start planning for a project or work, ...</td>\n",
       "      <td>start planning project work likely gathering s...</td>\n",
       "      <td>keep your reference materials sketches article...</td>\n",
       "    </tr>\n",
       "  </tbody>\n",
       "</table>\n",
       "</div>"
      ],
      "text/plain": [
       "                                            headline  \\\n",
       "0  \\nKeep related supplies in the same area.,\\nMa...   \n",
       "1  \\nCreate a sketch in the NeoPopRealist manner ...   \n",
       "2  \\nGet a bachelor’s degree.,\\nEnroll in a studi...   \n",
       "3  \\nStart with some experience or interest in ar...   \n",
       "4  \\nKeep your reference materials, sketches, art...   \n",
       "\n",
       "                                    title  \\\n",
       "0          How to Be an Organized Artist1   \n",
       "1  How to Create a Neopoprealist Art Work   \n",
       "2      How to Be a Visual Effects Artist1   \n",
       "3           How to Become an Art Investor   \n",
       "4          How to Be an Organized Artist2   \n",
       "\n",
       "                                                text  \\\n",
       "0   If you're a photographer, keep all the necess...   \n",
       "1   See the image for how this drawing develops s...   \n",
       "2   It is possible to become a VFX artist without...   \n",
       "3   The best art investors do their research on t...   \n",
       "4   As you start planning for a project or work, ...   \n",
       "\n",
       "                                        cleaned_text  \\\n",
       "0  photographer keep necessary lens cords batteri...   \n",
       "1  see image drawing develops step step however i...   \n",
       "2  possible become vfx artist without college deg...   \n",
       "3  best art investors research pieces art buy som...   \n",
       "4  start planning project work likely gathering s...   \n",
       "\n",
       "                                    cleaned_headline  \n",
       "0  keep related supplies in the same area make an...  \n",
       "1  create sketch in the neopoprealist manner of t...  \n",
       "2  get bachelor degree enroll in studio based pro...  \n",
       "3  start with some experience or interest in art ...  \n",
       "4  keep your reference materials sketches article...  "
      ]
     },
     "execution_count": 30,
     "metadata": {},
     "output_type": "execute_result"
    }
   ],
   "source": [
    "wiki_edited.head()"
   ]
  },
  {
   "cell_type": "code",
   "execution_count": 31,
   "metadata": {},
   "outputs": [],
   "source": [
    "# put in _START_ and _END_ tokens \n",
    "wiki_edited['cleaned_headline'] = wiki_edited['cleaned_headline'].apply(lambda x : '_START_ '+ x + ' _END_')"
   ]
  },
  {
   "cell_type": "code",
   "execution_count": 32,
   "metadata": {},
   "outputs": [
    {
     "data": {
      "text/plain": [
       "'_START_ keep related supplies in the same area make an effort to clean dedicated workspace after every session place loose supplies in large clearly visible containers use clotheslines and clips to hang sketches photos and reference material use every inch of the room for storage especially vertical space use chalkboard paint to make space for drafting ideas right on the walls purchase label maker to make your organization strategy semi permanent make habit of throwing out old excess or useless stuff each month  _END_'"
      ]
     },
     "execution_count": 32,
     "metadata": {},
     "output_type": "execute_result"
    }
   ],
   "source": [
    "wiki_edited.loc[0,'cleaned_headline']"
   ]
  },
  {
   "cell_type": "code",
   "execution_count": 33,
   "metadata": {},
   "outputs": [
    {
     "name": "stdout",
     "output_type": "stream",
     "text": [
      "Review: photographer keep necessary lens cords batteries quadrant home studio paints kept brushes cleaner canvas print supplies ink etc make broader groups areas supplies make finding easier limiting search much smaller area ideas include essential supplies area things use every day inspiration reference area dedicated work area infrequent secondary supplies area tucked way mean cleaning entire studio means keeping area immediately around desk easel pottery wheel etc clean night discard trash unnecessary materials wipe dirty surfaces endeavor leave workspace way sit next day start working immediately without work tidying even rest studio bit disorganized organized workspace help get business every time want make art visual people lot artist clutter comes desire keep track supplies visually instead tucked sight using jars old glasses vases cheap clear plastic drawers keep things sight without leaving strewn haphazardly ideas beyond mentioned include canvas shoe racks back door wine racks cups slot hold pens pencils plastic restaurant squirt bottles paint pigment etc simply string wires across wall along ceiling use hold essential papers want cut ruin tacks tape cheap easy also good way handle papers ideas touch regularly need pin inspiration shelving artist best friend cheap easy way get room studio art space afraid get high either especially infrequently used supplies upper reaches room often utilized provide vital space tools materials turning one wall chalkboard gives perfect space ideas sketches planning without requiring extra equipment space even use smaller areas paint jars storage equipment allowing relabel chalk needs change lot disorganization comes keep moving location things trying optimize space reorganizing frequently usually opposite effect leading lost items uncertainty cleaning afternoon label maker solve everything instead spending mental energy looking storing things follow labels freeing mind think art month purge studio essential part project either throw file away later artists constantly making new things experimenting making mess good thing set aside time declutter may fun moment lot fun spending minutes digging junk find right paint old sketch sentimental used last six months little chance use next six months toss\n",
      "Summary: _START_ keep related supplies in the same area make an effort to clean dedicated workspace after every session place loose supplies in large clearly visible containers use clotheslines and clips to hang sketches photos and reference material use every inch of the room for storage especially vertical space use chalkboard paint to make space for drafting ideas right on the walls purchase label maker to make your organization strategy semi permanent make habit of throwing out old excess or useless stuff each month  _END_\n",
      "\n",
      "\n",
      "Review: see image drawing develops step step however important detail following drawings examine create something unique use lines create image shape sections fill appeared sections different patterns ornaments add text needed example neopoprealism add colored strip top color wish painting mural always requires preparation need equipment effort planning attention detail help succeed painting mural requires suitable location right surface painted surface smooth flat however even rough textured surfaces used neopoprealist mural project exterior projects last years using newer acrylic exterior paint would best choice interior walls use latex paints latex offer easier cleanup lower costs measuring total wall area covered total amount paint calculated since mural painting requires two colors white black figuring actual area painted color necessary allow purchasing right amount one large walls backgrounds may rolled sprayed white paint sprayer details may added brushes paints sensitive high temperatures humidity direct sunlight however interior projects many complications public places keeping mural protected may require attention reason make neopoprealist mural dedicated year anniversary school office consider using varnish mural see sample design give sense proportion unique requirements elements use sketch measure scale distances locations various points subject measuring key features help calculate amount paint feature identified color surface low whole mural painted standing ground stepladder higher work may rent scaffold mark horizontal vertical lines use white paint background begin marking using scaled sketch location key elements objects located foreground everything depends complexity mural confident artistic results may choose draw details freehand careful keep clean transition edges one color another however mistakes touched later always allow fresh color dry proceeding drawing example would painting large patterns use big brushes limbs use small brushes tiny detailed patterns drip run paint color paint appropriate location sharpen lines patterns blurred intended last long time surface require cleaning overcoat mural project clear sealer however able involve percent brain grays matter end primitive crafting patterns even worse doodling called zen doodling create neopoprealist art one needs abilities developed talented people studying using nadia russ neopoprealist instructional books copycats self promotional superficial books teach doodle nothing common visual arts mission\n",
      "Summary: _START_ create sketch in the neopoprealist manner of the future mural on small piece of paper using the black ink pen prepare to create your neopoprealist mural prepare your paint begin your project with design produce scaled down version of your finished mural prepare the wall to be painted after you have primed the surface measure the wall paint in the base coat of the background allow the background and base coats to dry draw the lines then fill the appeared section with different repetitive patterns examine the images above paint patterns with brushes of suitable size for the particular portion of work you are painting clean up the lines and shapes as needed seal the mural if needed be inspired and it will help you succeed  _END_\n",
      "\n",
      "\n",
      "Review: possible become vfx artist without college degree path often easier one vfx artists usually major fine arts computer graphics animation choose college reputation strength areas reputation good job placement graduates availability internships another factor consider jobs advertised vfx artists majority given time specify bachelor degree minimum requirement applicants studios offer short term programs people want learn vfx artistry without pursuing college degree enrolling programs expensive financial aid always offered usually cutting edge technology learn although may create hand sketches majority work completed computer using date programs stay informed newest software advances following vfx blogs taking online computer tutorials example vfx artists expected well versed graphics animation programs adobe creative suite javascript clearly list every program work resume hop onto youtube another video service search vfx clip reels demonstrations videos focus particular skill set shading practice challenge mimic difficult tasks even try improve upon models used take many art design classes simply carry sketch pad around work basic animation skills draw consider factors lighting framing even geometry skills come handy creating particular type background even person face make choice become observer world around ask could capture movement leaves situations shadows appear watch creations eye detail look techniques used original approaches see try recreate scenes find particularly interesting research artists see backgrounds contact like gain experience likely find gravitating toward certain aspect design become calling card directors professionals seek type work build specialization start choosing jobs emphasis attend additional training seminars example vfx specialists focus human character faces animal figures city backgrounds\n",
      "Summary: _START_ get bachelor degree enroll in studio based program train on number of vfx computer programs watch online tutorials nurture your artistic side pay close attention to movies television shows and video games develop specialization  _END_\n",
      "\n",
      "\n",
      "Review: best art investors research pieces art buy someone education interest art world likely understand niche market well personal research need contacts people art world auctioneers gallery directors dealers give good investment advice may confuse three terms careful slightly different goal mind looking buy art art collectors buy art investment purposes buy decorate display home consider important part home life art collectors hard time parting pieces collection many collectors end selling pieces art may done necessity collectors often loan works museums occasionally donate museums upon death art investors seek diversify portfolio art investment investment firms put two half three percent investment money art seek good advice often buy paintings older popular historically paintings old masters investments kept decades sold market right investor seeking get six ten percent profit rise per year investments also often made given inheritance future generations family art investment often undertaken wealthy art speculators try invest art believe appreciate value aim buy art low price budding artists beginning careers hope sell work years artists peak careers people collectors willing pay much pieces type investment takes intimate involvement art world liquidity order buy art art investments small part investment portfolio along stocks bonds new businesses figure range begin pick potential pieces get advice investors art dealers study mei moses fine art index get firm grasp art market today although cannot predict popular future tell art tends keep value low risk art volatile market value absolute rule follow paintings successful artists tend get better returns sculpture installation art get information making purchase going buy auction prepared walk away price goes higher investment range beware art auctioneers dealers promise high return paintings many ways like stock brokers financial investment firms may promise anything get sale found trustworthy buy anything ponzi schemes art market bubbles part investment landscape well never bought art auction environment may want seek advice done properly study auction booklet hand learn secret buyers prices quickly inflate fine auction houses would willing teach basics see serious investor arrange payment shipping insurance piece art insured catalogued part estate order art investment retain value kept low humidity avoid marred may choose hang home may want get art collector advice hang care share information children intended inheritance investment need well aware take care art may lose money ruin painting entirely well keeping tabs art world understand rise falls certain schools art appraiser tell investment maturing may clue reached desired profit art buy fit home storing research banks hotels institutions rent fine art rotating basis may able demand thousands dollars per year art hang another building keep mind need make sure art covered insurance policy loss damage make sure renter provides insurance art prepare contract stipulates time allotted fee insurance shipment art unless employ art dealer auction house exact moment art high value take years thousands dollars fees find right buyer\n",
      "Summary: _START_ start with some experience or interest in art understand the difference between art collectors art investors and art speculators figure out what you are willing to pay for art before going to an auction house pay attention to what schools of art are selling well and which are down focus art investments on fine art paintings rather than decorative art reach out to trusted auction houses and dealers when you are looking to buy art buy your investment art when you feel confident of its worth its price and its ability to grow in value study how art is properly stored have your art investments appraised occasionally consider renting out your art investments understand that selling an art investment can take time  _END_\n",
      "\n",
      "\n",
      "Review: start planning project work likely gathering scraps inspiration test sketches everyone strategy nothing maddening digging book internet find cool idea saw three months ago try dedicating notebook preferably insert folders project making bookmark folder project internet browser easily compile online inspiration tacking physical inspiration wall cork board near workspace artists simply dive right large projects almost time instead work related smaller projects called studies prepare larger work might practice face portrait making sketch different composition ideas practice vulnerable difficult part sculpture keep organized way prepare skills ideas supplies needed final project end day artists visual people tucking everything away neatly cleanly may conducive artistic process course neither losing misplacing essential supplies find compromise packing away supplies currently use leaving little bit essential clutter okay inspiration scattered around studio make sure inspiration need current project organized excuse make attempt feel like options perfect cleanliness utter mess middle ground nothing worse spending long night painting realize run white paint halfway section week frequently possible check quantities supplies refill becomes problem simple spreadsheet notebook marked end artistic session quick easy way keep tabs stuff deciding paint mural huge undertaking sketching idea transposing image onto wall painting basic colors adding shading detail four separate manageable projects organization key big projects even feels constraining creativity reality organizing work progress frees mind actually creative instead worrying logistics figure building blocks part project tackling jump around across parts project haphazardly\n",
      "Summary: _START_ keep your reference materials sketches articles photos etc in one easy to find place make studies or practice sketches to organize effectively for larger projects limit the supplies you leave out to the project at hand keep an updated list of all of the necessary supplies and the quantities of each break down bigger works into more easily completed parts  _END_\n",
      "\n",
      "\n"
     ]
    }
   ],
   "source": [
    "for i in range(5):\n",
    "    print(\"Review:\",wiki_edited['cleaned_text'][i])\n",
    "    print(\"Summary:\",wiki_edited['cleaned_headline'][i])\n",
    "    print(\"\\n\")"
   ]
  },
  {
   "cell_type": "code",
   "execution_count": 34,
   "metadata": {},
   "outputs": [],
   "source": [
    "# Some exploratory work: \n",
    "\n",
    "import matplotlib.pyplot as plt \n",
    "\n",
    "wordcount_intext = []\n",
    "wordcount_inheadline = []\n",
    "\n",
    "for i in wiki_edited['cleaned_text']: \n",
    "    wordcount_intext.append(len(i.split()))\n",
    "    \n",
    "for i in wiki_edited['cleaned_headline']: \n",
    "    wordcount_inheadline.append(len(i.split()))"
   ]
  },
  {
   "cell_type": "code",
   "execution_count": 35,
   "metadata": {},
   "outputs": [
    {
     "data": {
      "text/plain": [
       "Text(0.5, 1.0, 'Headline Word Count')"
      ]
     },
     "execution_count": 35,
     "metadata": {},
     "output_type": "execute_result"
    },
    {
     "data": {
      "image/png": "[encoded data removed]",
      "text/plain": [
       "<Figure size 1080x360 with 2 Axes>"
      ]
     },
     "metadata": {
      "needs_background": "light"
     },
     "output_type": "display_data"
    }
   ],
   "source": [
    "# now let's look at the distribution \n",
    "%matplotlib inline \n",
    "import seaborn as sns\n",
    "\n",
    "fig, axes = plt.subplots(1,2, figsize = (15,5)) \n",
    "sns.distplot(wordcount_intext, bins=100, ax=axes[0]).set_title('Text Word Count')\n",
    "sns.distplot(wordcount_inheadline, bins=100, ax=axes[1]).set_title('Headline Word Count')\n",
    "\n",
    "# Clearly pretty big of a difference between text and headline..."
   ]
  },
  {
   "cell_type": "code",
   "execution_count": 36,
   "metadata": {},
   "outputs": [
    {
     "data": {
      "text/plain": [
       "Text(0.5, 1.0, 'Cumulative Freq for Word Count in Text')"
      ]
     },
     "execution_count": 36,
     "metadata": {},
     "output_type": "execute_result"
    },
    {
     "data": {
      "image/png": "[encoded data removed]",
      "text/plain": [
       "<Figure size 720x288 with 1 Axes>"
      ]
     },
     "metadata": {
      "needs_background": "light"
     },
     "output_type": "display_data"
    }
   ],
   "source": [
    "from scipy import stats\n",
    "wordcount_freq = stats.cumfreq(wordcount_intext, numbins=100)\n",
    "x = wordcount_freq.lowerlimit + np.linspace(0, wordcount_freq.binsize*wordcount_freq.cumcount.size, \n",
    "                                            wordcount_freq.cumcount.size)\n",
    "fig = plt.figure(figsize=(10, 4))\n",
    "ax1 = fig.add_subplot(1,1,1)\n",
    "ax1.bar(x, wordcount_freq.cumcount, width = wordcount_freq.binsize)\n",
    "ax1.set_xlim([x.min(), x.max()])\n",
    "ax1.set_title('Cumulative Freq for Word Count in Text')\n",
    "# looks like if we shorten down to just 500 words in text, we'll still get majority "
   ]
  },
  {
   "cell_type": "code",
   "execution_count": 37,
   "metadata": {},
   "outputs": [
    {
     "data": {
      "text/plain": [
       "Text(0.5, 1.0, 'Cumulative Freq for Word Count in Headline')"
      ]
     },
     "execution_count": 37,
     "metadata": {},
     "output_type": "execute_result"
    },
    {
     "data": {
      "image/png": "[encoded data removed]",
      "text/plain": [
       "<Figure size 720x288 with 1 Axes>"
      ]
     },
     "metadata": {
      "needs_background": "light"
     },
     "output_type": "display_data"
    }
   ],
   "source": [
    "wordcount_summary_freq = stats.cumfreq(wordcount_inheadline, numbins=100)\n",
    "x = wordcount_summary_freq.lowerlimit + np.linspace(0, wordcount_summary_freq.binsize*wordcount_summary_freq.cumcount.size, \n",
    "                                            wordcount_summary_freq.cumcount.size)\n",
    "fig = plt.figure(figsize=(10, 4))\n",
    "ax1 = fig.add_subplot(1,1,1)\n",
    "ax1.bar(x, wordcount_summary_freq.cumcount, width = wordcount_summary_freq.binsize)\n",
    "ax1.set_xlim([x.min(), x.max()])\n",
    "ax1.set_title('Cumulative Freq for Word Count in Headline')\n",
    "# Looks like if we shorten down to just 250 words in headline, we'll still be fine for summary "
   ]
  },
  {
   "cell_type": "code",
   "execution_count": 38,
   "metadata": {},
   "outputs": [],
   "source": [
    "max_len_text=500\n",
    "max_len_headline=250"
   ]
  },
  {
   "cell_type": "code",
   "execution_count": 39,
   "metadata": {},
   "outputs": [],
   "source": [
    "########\n",
    "# Split out into train/crossvalidation/test \n",
    "######## "
   ]
  },
  {
   "cell_type": "code",
   "execution_count": 40,
   "metadata": {},
   "outputs": [],
   "source": [
    "# Implement random sort of indexes so we don't have a direct split of data based on topics\n",
    "import random\n",
    "\n",
    "# Set random seed for replication purposes\n",
    "random.seed(30) \n",
    "\n",
    "# sample without replacement: \n",
    "shuffled_indices = random.sample(list(range(0,len(wiki_edited))), len(wiki_edited)) \n",
    "#this will always return the same order "
   ]
  },
  {
   "cell_type": "code",
   "execution_count": 41,
   "metadata": {},
   "outputs": [
    {
     "data": {
      "text/plain": [
       "214294"
      ]
     },
     "execution_count": 41,
     "metadata": {},
     "output_type": "execute_result"
    }
   ],
   "source": [
    "len(shuffled_indices)"
   ]
  },
  {
   "cell_type": "code",
   "execution_count": 42,
   "metadata": {},
   "outputs": [],
   "source": [
    "#### \n",
    "# CHANGE THE NUMBERS TO REFLECT WIKI_EDITED \n",
    "# this might not even matter, but i'm not entirely sure...\n",
    "\n",
    "train_indices = shuffled_indices[:128576]\n",
    "cv_indices = shuffled_indices[128576:171435]\n",
    "test_indices = shuffled_indices[171435:]"
   ]
  },
  {
   "cell_type": "code",
   "execution_count": 43,
   "metadata": {},
   "outputs": [
    {
     "data": {
      "text/plain": [
       "214294"
      ]
     },
     "execution_count": 43,
     "metadata": {},
     "output_type": "execute_result"
    }
   ],
   "source": [
    "len(train_indices)+len(cv_indices)+len(test_indices) #everything is included, check "
   ]
  },
  {
   "cell_type": "code",
   "execution_count": 44,
   "metadata": {},
   "outputs": [],
   "source": [
    "train_df = list(wiki_edited.loc[train_indices,'cleaned_text'].values)\n",
    "cv_df = list(wiki_edited.loc[cv_indices,'cleaned_text'].values)\n",
    "test_df = list(wiki_edited.loc[test_indices,'cleaned_text'].values)"
   ]
  },
  {
   "cell_type": "code",
   "execution_count": 45,
   "metadata": {},
   "outputs": [],
   "source": [
    "y_train = list(wiki_edited.loc[train_indices,'cleaned_headline'].values)\n",
    "y_cv = list(wiki_edited.loc[cv_indices, 'cleaned_headline'].values)\n",
    "y_test = list(wiki_edited.loc[test_indices, 'cleaned_headline'].values)"
   ]
  },
  {
   "cell_type": "code",
   "execution_count": 46,
   "metadata": {},
   "outputs": [
    {
     "data": {
      "text/plain": [
       "'pepsi logo middle scenes actually hurt chances getting film festivals would owe pepsi money film purchased since trademark includes music well meaning cannot use favorite red hot chili peppers song unless pay pinch tape permanent markers great way cover logos objects cannot move like oven fridge long movie could lose weeks work essential cast member ups leaves midway contracts may feel impersonal quite obvious contract allows stay friends always knowing stand much movie set add bickering worrying payment schedules roll generally considered shots spoken lines non essential shots help transition scenes watch movies notice little clips usually scenes note visually move story along think like shots outside car road trip movie sleek shots james bond new car purely visual embellishment scene creative roll chance artful much less stress make sure roll fits tone tenor movie punch drunk love uses bright abstract colors indicate mood swings horror movies use slow dark shots action movies use stark extreme dramatic landscapes etc movies get expensive quickly worst thing happen run essential funds pages left shoot need budget everything considerably finished pre production including cast crew wages food rights music sounds transportation props costumes filming equipment lot people believe director edit work editing ruthlessly cutting movie best parts directors attached material cut objectively course give guidance watch rough cuts provide notes look online another editor help wade hours footage ready watch movie hundreds times help bring trusted friend two well notice things editor might miss depending editor skill set may need sound designer well create sound effects find place music usually costs around full length movie mastering take audio volumes balance cohesive track making sure everything easy jarring transitions color correction simply ensures every shot looks fixing small issues creating eye popping final image color correction simply technical aspect used create whole visual mood motif scene making brighter darker vibrant somber throw wrap party buy coffee donuts every many people never well known putting many backbreaking tiring hours easy remember pamper actors crew important worth attention always one first people set always something sets good example'"
      ]
     },
     "execution_count": 46,
     "metadata": {},
     "output_type": "execute_result"
    }
   ],
   "source": [
    "train_df[1]"
   ]
  },
  {
   "cell_type": "code",
   "execution_count": 47,
   "metadata": {},
   "outputs": [
    {
     "data": {
      "text/plain": [
       "'_START_ avoid the use of patented logos trademarks and copyrights as possible write contracts even if you are just filming with friends set aside time to pick up roll the connective footage that fills in between scenes make and keep track of budget secure an editor for your film have the film professionally mastered and color corrected treat your crew the unspoken soldiers of the film with love and respect  _END_'"
      ]
     },
     "execution_count": 47,
     "metadata": {},
     "output_type": "execute_result"
    }
   ],
   "source": [
    "y_train[1]"
   ]
  },
  {
   "cell_type": "code",
   "execution_count": 48,
   "metadata": {},
   "outputs": [],
   "source": [
    "######\n",
    "# Tokenize! \n",
    "###### \n",
    "\n",
    "x_tokenizer = Tokenizer()\n",
    "x_tokenizer.fit_on_texts(list(train_df))\n",
    "\n",
    "#convert text sequences into integer sequences\n",
    "x_tr    =   x_tokenizer.texts_to_sequences(train_df) \n",
    "x_val   =   x_tokenizer.texts_to_sequences(cv_df)"
   ]
  },
  {
   "cell_type": "code",
   "execution_count": 49,
   "metadata": {},
   "outputs": [],
   "source": [
    "x_tr    =   pad_sequences(x_tr,  maxlen=max_len_text, padding='post') \n",
    "x_val   =   pad_sequences(x_val, maxlen=max_len_text, padding='post')"
   ]
  },
  {
   "cell_type": "code",
   "execution_count": 50,
   "metadata": {},
   "outputs": [],
   "source": [
    "x_voc_size   =  len(x_tokenizer.word_index) +1"
   ]
  },
  {
   "cell_type": "code",
   "execution_count": 51,
   "metadata": {},
   "outputs": [
    {
     "data": {
      "text/plain": [
       "124065"
      ]
     },
     "execution_count": 51,
     "metadata": {},
     "output_type": "execute_result"
    }
   ],
   "source": [
    "x_voc_size"
   ]
  },
  {
   "cell_type": "code",
   "execution_count": 52,
   "metadata": {},
   "outputs": [],
   "source": [
    "#preparing a tokenizer for summary on training data \n",
    "y_tokenizer = Tokenizer()\n",
    "y_tokenizer.fit_on_texts(list(y_train))\n",
    "\n",
    "#convert summary sequences into integer sequences\n",
    "y_tr    =   y_tokenizer.texts_to_sequences(y_train) \n",
    "y_val   =   y_tokenizer.texts_to_sequences(y_cv) \n",
    "\n",
    "#padding zero upto maximum length\n",
    "y_tr    =   pad_sequences(y_tr, maxlen=max_len_headline, padding='post')\n",
    "y_val   =   pad_sequences(y_val, maxlen=max_len_headline, padding='post')\n",
    "\n",
    "y_voc_size  =   len(y_tokenizer.word_index) +1\n"
   ]
  },
  {
   "cell_type": "code",
   "execution_count": 53,
   "metadata": {},
   "outputs": [
    {
     "data": {
      "text/plain": [
       "array([    6,    25,   155,   125,     8,   953,   493,    30,     5,\n",
       "           2,   479,   208,    44,     1,  4714,     4,  1449,    23,\n",
       "           1,   452,  5155, 12684,  4823,  5156,  2015,   669,    16,\n",
       "         214,    70,    29,  3573,  8924,   424,     4,  1894,    70,\n",
       "          44,     5,     1, 12684,     9,     1,  2218,    70,     1,\n",
       "        5156,  4823,  2015,  7923,  4035,  2454,  4035,     4,   230,\n",
       "           5,    15,   754,    23,  3398,     3,    52,     2,   784,\n",
       "         479,  4405,    70,     1,   887,   139,     8,   108,    11,\n",
       "           1,   479,     9,     1,  4653,    16,     8,    25,    26,\n",
       "         784,   479,    12,  4653,    13,     9,  3600,  2304,    11,\n",
       "           1,   479,    16,     8,    35,    33,    25,   266,     9,\n",
       "           1,  4653,    13,    25,   282,  4653,    35,     1,   252,\n",
       "          12,   112,  1588,    14,   193,     4, 41414,    14,     7,\n",
       "           0,     0,     0,     0,     0,     0,     0,     0,     0,\n",
       "           0,     0,     0,     0,     0,     0,     0,     0,     0,\n",
       "           0,     0,     0,     0,     0,     0,     0,     0,     0,\n",
       "           0,     0,     0,     0,     0,     0,     0,     0,     0,\n",
       "           0,     0,     0,     0,     0,     0,     0,     0,     0,\n",
       "           0,     0,     0,     0,     0,     0,     0,     0,     0,\n",
       "           0,     0,     0,     0,     0,     0,     0,     0,     0,\n",
       "           0,     0,     0,     0,     0,     0,     0,     0,     0,\n",
       "           0,     0,     0,     0,     0,     0,     0,     0,     0,\n",
       "           0,     0,     0,     0,     0,     0,     0,     0,     0,\n",
       "           0,     0,     0,     0,     0,     0,     0,     0,     0,\n",
       "           0,     0,     0,     0,     0,     0,     0,     0,     0,\n",
       "           0,     0,     0,     0,     0,     0,     0,     0,     0,\n",
       "           0,     0,     0,     0,     0,     0,     0,     0,     0,\n",
       "           0,     0,     0,     0,     0,     0,     0], dtype=int32)"
      ]
     },
     "execution_count": 53,
     "metadata": {},
     "output_type": "execute_result"
    }
   ],
   "source": [
    "y_tr[14] #looks as expected..."
   ]
  },
  {
   "cell_type": "code",
   "execution_count": 54,
   "metadata": {
    "scrolled": true
   },
   "outputs": [
    {
     "data": {
      "text/plain": [
       "array([  728,  1313,   562,     7,   611,   562,  2841,   138,  5276,\n",
       "          62,    86,  1313,   123,   226,   211,  3125,  4146,  1731,\n",
       "           5,    26,   554,  2872,  1652,  4749,  2558,  5889,    53,\n",
       "         489,   467,   611,  3395,    23,   225,   376,   117,   611,\n",
       "          51,    50,   114,  5296,   611,  3149,   288,    14,    16,\n",
       "        1083, 13237,   120,   467,   611,     4,    24,  2390,    62,\n",
       "          51,  4276,   142,    21,   164,  2223,    51,    62,   611,\n",
       "          62,     0,     0,     0,     0,     0,     0,     0,     0,\n",
       "           0,     0,     0,     0,     0,     0,     0,     0,     0,\n",
       "           0,     0,     0,     0,     0,     0,     0,     0,     0,\n",
       "           0,     0,     0,     0,     0,     0,     0,     0,     0,\n",
       "           0,     0,     0,     0,     0,     0,     0,     0,     0,\n",
       "           0,     0,     0,     0,     0,     0,     0,     0,     0,\n",
       "           0,     0,     0,     0,     0,     0,     0,     0,     0,\n",
       "           0,     0,     0,     0,     0,     0,     0,     0,     0,\n",
       "           0,     0,     0,     0,     0,     0,     0,     0,     0,\n",
       "           0,     0,     0,     0,     0,     0,     0,     0,     0,\n",
       "           0,     0,     0,     0,     0,     0,     0,     0,     0,\n",
       "           0,     0,     0,     0,     0,     0,     0,     0,     0,\n",
       "           0,     0,     0,     0,     0,     0,     0,     0,     0,\n",
       "           0,     0,     0,     0,     0,     0,     0,     0,     0,\n",
       "           0,     0,     0,     0,     0,     0,     0,     0,     0,\n",
       "           0,     0,     0,     0,     0,     0,     0,     0,     0,\n",
       "           0,     0,     0,     0,     0,     0,     0,     0,     0,\n",
       "           0,     0,     0,     0,     0,     0,     0,     0,     0,\n",
       "           0,     0,     0,     0,     0,     0,     0,     0,     0,\n",
       "           0,     0,     0,     0,     0,     0,     0,     0,     0,\n",
       "           0,     0,     0,     0,     0,     0,     0,     0,     0,\n",
       "           0,     0,     0,     0,     0,     0,     0,     0,     0,\n",
       "           0,     0,     0,     0,     0,     0,     0,     0,     0,\n",
       "           0,     0,     0,     0,     0,     0,     0,     0,     0,\n",
       "           0,     0,     0,     0,     0,     0,     0,     0,     0,\n",
       "           0,     0,     0,     0,     0,     0,     0,     0,     0,\n",
       "           0,     0,     0,     0,     0,     0,     0,     0,     0,\n",
       "           0,     0,     0,     0,     0,     0,     0,     0,     0,\n",
       "           0,     0,     0,     0,     0,     0,     0,     0,     0,\n",
       "           0,     0,     0,     0,     0,     0,     0,     0,     0,\n",
       "           0,     0,     0,     0,     0,     0,     0,     0,     0,\n",
       "           0,     0,     0,     0,     0,     0,     0,     0,     0,\n",
       "           0,     0,     0,     0,     0,     0,     0,     0,     0,\n",
       "           0,     0,     0,     0,     0,     0,     0,     0,     0,\n",
       "           0,     0,     0,     0,     0,     0,     0,     0,     0,\n",
       "           0,     0,     0,     0,     0,     0,     0,     0,     0,\n",
       "           0,     0,     0,     0,     0,     0,     0,     0,     0,\n",
       "           0,     0,     0,     0,     0,     0,     0,     0,     0,\n",
       "           0,     0,     0,     0,     0,     0,     0,     0,     0,\n",
       "           0,     0,     0,     0,     0,     0,     0,     0,     0,\n",
       "           0,     0,     0,     0,     0,     0,     0,     0,     0,\n",
       "           0,     0,     0,     0,     0,     0,     0,     0,     0,\n",
       "           0,     0,     0,     0,     0,     0,     0,     0,     0,\n",
       "           0,     0,     0,     0,     0,     0,     0,     0,     0,\n",
       "           0,     0,     0,     0,     0,     0,     0,     0,     0,\n",
       "           0,     0,     0,     0,     0,     0,     0,     0,     0,\n",
       "           0,     0,     0,     0,     0,     0,     0,     0,     0,\n",
       "           0,     0,     0,     0,     0,     0,     0,     0,     0,\n",
       "           0,     0,     0,     0,     0], dtype=int32)"
      ]
     },
     "execution_count": 54,
     "metadata": {},
     "output_type": "execute_result"
    }
   ],
   "source": [
    "x_tr[14]"
   ]
  },
  {
   "cell_type": "code",
   "execution_count": 55,
   "metadata": {},
   "outputs": [
    {
     "data": {
      "text/plain": [
       "62412"
      ]
     },
     "execution_count": 55,
     "metadata": {},
     "output_type": "execute_result"
    }
   ],
   "source": [
    "y_voc_size"
   ]
  },
  {
   "cell_type": "code",
   "execution_count": 56,
   "metadata": {},
   "outputs": [],
   "source": [
    "# MODELING :D \n",
    "# (I'm so scared....)\n",
    "\n",
    "# Drawn excessively from \n",
    "# https://www.analyticsvidhya.com/blog/2019/06/comprehensive-guide-text-summarization-using-deep-learning-python/\n",
    "\n",
    "from tensorflow.keras.layers import Input, LSTM, Embedding, Dense, Concatenate, TimeDistributed, Bidirectional, Attention\n",
    "from tensorflow.keras.models import Model\n",
    "from tensorflow.keras.callbacks import EarlyStopping\n",
    "\n",
    "from tensorflow.keras import backend as K \n",
    "K.clear_session() \n",
    "#latent_dim = 300 \n",
    "#Changing DIM to 100 just to make it run\n",
    "latent_dim = 100 \n"
   ]
  },
  {
   "cell_type": "code",
   "execution_count": 57,
   "metadata": {},
   "outputs": [
    {
     "data": {
      "text/plain": [
       "(128576, 500)"
      ]
     },
     "execution_count": 57,
     "metadata": {},
     "output_type": "execute_result"
    }
   ],
   "source": [
    "x_tr.shape # Not how this is length = number of examples we have and they are in 500 lengths! \n",
    "# 500 is our max length that we determined "
   ]
  },
  {
   "cell_type": "code",
   "execution_count": 58,
   "metadata": {},
   "outputs": [],
   "source": [
    "from attention_keras.layers.attention import AttentionLayer\n",
    "# this was downloaded from https://github.com/thushv89/attention_keras\n",
    "# help here: https://towardsdatascience.com/light-on-math-ml-attention-with-keras-dc8dbc1fad39"
   ]
  },
  {
   "cell_type": "code",
   "execution_count": 59,
   "metadata": {},
   "outputs": [
    {
     "name": "stderr",
     "output_type": "stream",
     "text": [
      "WARNING: Logging before flag parsing goes to stderr.\n",
      "W1029 06:25:50.001085 4684598592 deprecation.py:506] From /usr/local/lib/python3.7/site-packages/tensorflow/python/keras/initializers.py:119: calling RandomUniform.__init__ (from tensorflow.python.ops.init_ops) with dtype is deprecated and will be removed in a future version.\n",
      "Instructions for updating:\n",
      "Call initializer instance with the dtype argument instead of passing it to the constructor\n",
      "W1029 06:25:50.035197 4684598592 deprecation.py:506] From /usr/local/lib/python3.7/site-packages/tensorflow/python/ops/init_ops.py:1251: calling VarianceScaling.__init__ (from tensorflow.python.ops.init_ops) with dtype is deprecated and will be removed in a future version.\n",
      "Instructions for updating:\n",
      "Call initializer instance with the dtype argument instead of passing it to the constructor\n"
     ]
    }
   ],
   "source": [
    "# For encoder-decoder architecture, we'll have 2 input layers. \n",
    "# One for Encoder, one for Decoder \n",
    "\n",
    "###########\n",
    "# Encoder \n",
    "########### \n",
    "\n",
    "# Encoder input \n",
    "# 2D (sequence_length, None), where sequence length is the MAX_LEN unified by padding in preprocessing\n",
    "encoder_inputs = Input(shape=(max_len_text,)) \n",
    "enc_emb = Embedding(x_voc_size, latent_dim,trainable=True)(encoder_inputs) \n",
    "\n",
    "# Note to self: Dimensions fo embedding layer \n",
    "#embedding_layer = Embedding(input_dim = vocab_size,\n",
    "#                            output_dim = embedding_dimension, \n",
    "#                            input_length = sequence_length)\n",
    "# For us: we have inputtied in x_voc_size for input_dim \n",
    "# latent_dim takes care of our embeddings \n",
    "# because we're dumping in encoder_inputs as our input into enc_emb, it takes care of input_length \n",
    "\n",
    "# FOR LSTMS \n",
    "# Layer Dimension: 3D (hidden_units, sequence_length, embedding_dims)\n",
    "\n",
    "#LSTM 1 \n",
    "encoder_lstm1 = LSTM(latent_dim,return_sequences=True,return_state=True) \n",
    "encoder_output1, state_h1, state_c1 = encoder_lstm1(enc_emb) \n",
    "\n",
    "#LSTM 2 \n",
    "encoder_lstm2 = LSTM(latent_dim,return_sequences=True,return_state=True) \n",
    "encoder_output2, state_h2, state_c2 = encoder_lstm2(encoder_output1) \n",
    "\n",
    "#LSTM 3 \n",
    "encoder_lstm3=LSTM(latent_dim, return_state=True, return_sequences=True) \n",
    "encoder_outputs, state_h, state_c= encoder_lstm3(encoder_output2) "
   ]
  },
  {
   "cell_type": "code",
   "execution_count": 60,
   "metadata": {},
   "outputs": [],
   "source": [
    "#########\n",
    "# Decoder \n",
    "#########\n",
    "\n",
    "decoder_inputs = Input(shape=(None,)) \n",
    "dec_emb_layer = Embedding(y_voc_size, latent_dim,trainable=True) \n",
    "dec_emb = dec_emb_layer(decoder_inputs) \n",
    "\n",
    "#LSTM using encoder_states as initial state\n",
    "decoder_lstm = LSTM(latent_dim, return_sequences=True, return_state=True) \n",
    "decoder_outputs,decoder_fwd_state, decoder_back_state = decoder_lstm(dec_emb,initial_state=[state_h, state_c]) \n",
    "\n",
    "#Attention Layer\n",
    "attn_layer = AttentionLayer(name='attention_layer') \n",
    "attn_out, attn_states = attn_layer([encoder_outputs, decoder_outputs]) \n",
    "\n",
    "# Concat attention output and decoder LSTM output \n",
    "decoder_concat_input = Concatenate(axis=-1, name='concat_layer')([decoder_outputs, attn_out])\n",
    "\n",
    "#Dense layer\n",
    "decoder_dense = TimeDistributed(Dense(y_voc_size, activation='softmax')) \n",
    "decoder_outputs = decoder_dense(decoder_concat_input) \n"
   ]
  },
  {
   "cell_type": "code",
   "execution_count": 61,
   "metadata": {},
   "outputs": [
    {
     "name": "stdout",
     "output_type": "stream",
     "text": [
      "Model: \"model\"\n",
      "__________________________________________________________________________________________________\n",
      "Layer (type)                    Output Shape         Param #     Connected to                     \n",
      "==================================================================================================\n",
      "input_1 (InputLayer)            [(None, 500)]        0                                            \n",
      "__________________________________________________________________________________________________\n",
      "embedding (Embedding)           (None, 500, 100)     12406500    input_1[0][0]                    \n",
      "__________________________________________________________________________________________________\n",
      "lstm (LSTM)                     [(None, 500, 100), ( 80400       embedding[0][0]                  \n",
      "__________________________________________________________________________________________________\n",
      "input_2 (InputLayer)            [(None, None)]       0                                            \n",
      "__________________________________________________________________________________________________\n",
      "lstm_1 (LSTM)                   [(None, 500, 100), ( 80400       lstm[0][0]                       \n",
      "__________________________________________________________________________________________________\n",
      "embedding_1 (Embedding)         (None, None, 100)    6241200     input_2[0][0]                    \n",
      "__________________________________________________________________________________________________\n",
      "lstm_2 (LSTM)                   [(None, 500, 100), ( 80400       lstm_1[0][0]                     \n",
      "__________________________________________________________________________________________________\n",
      "lstm_3 (LSTM)                   [(None, None, 100),  80400       embedding_1[0][0]                \n",
      "                                                                 lstm_2[0][1]                     \n",
      "                                                                 lstm_2[0][2]                     \n",
      "__________________________________________________________________________________________________\n",
      "attention_layer (AttentionLayer ((None, None, 100),  20100       lstm_2[0][0]                     \n",
      "                                                                 lstm_3[0][0]                     \n",
      "__________________________________________________________________________________________________\n",
      "concat_layer (Concatenate)      (None, None, 200)    0           lstm_3[0][0]                     \n",
      "                                                                 attention_layer[0][0]            \n",
      "__________________________________________________________________________________________________\n",
      "time_distributed (TimeDistribut (None, None, 62412)  12544812    concat_layer[0][0]               \n",
      "==================================================================================================\n",
      "Total params: 31,534,212\n",
      "Trainable params: 31,534,212\n",
      "Non-trainable params: 0\n",
      "__________________________________________________________________________________________________\n"
     ]
    }
   ],
   "source": [
    "# Define the model\n",
    "model = Model([encoder_inputs, decoder_inputs], decoder_outputs) \n",
    "model.summary()"
   ]
  },
  {
   "cell_type": "code",
   "execution_count": 62,
   "metadata": {},
   "outputs": [],
   "source": [
    "model.compile(optimizer='rmsprop', loss='sparse_categorical_crossentropy')"
   ]
  },
  {
   "cell_type": "code",
   "execution_count": 63,
   "metadata": {},
   "outputs": [],
   "source": [
    "es = EarlyStopping(monitor='val_loss', mode='min', verbose=1)"
   ]
  },
  {
   "cell_type": "code",
   "execution_count": 64,
   "metadata": {},
   "outputs": [],
   "source": [
    "# because this is done locally for me, I'm going to give this a tiny TINY set \n",
    "# 100 samples for training \n",
    "# 20 samples for cross validation "
   ]
  },
  {
   "cell_type": "code",
   "execution_count": 65,
   "metadata": {},
   "outputs": [
    {
     "data": {
      "text/plain": [
       "array([[  878,   626,   586, ...,     0,     0,     0],\n",
       "       [23546,  2967,   480, ...,     0,     0,     0],\n",
       "       [53824,  1080,   186, ...,    99,   501,   813],\n",
       "       ...,\n",
       "       [  466,  1379,   198, ...,     0,     0,     0],\n",
       "       [  635,  1860,  2988, ...,     0,     0,     0],\n",
       "       [ 1765,    92,  1518, ...,   816,  1963,  6174]], dtype=int32)"
      ]
     },
     "execution_count": 65,
     "metadata": {},
     "output_type": "execute_result"
    }
   ],
   "source": [
    "x_tr[:100]"
   ]
  },
  {
   "cell_type": "code",
   "execution_count": 66,
   "metadata": {},
   "outputs": [],
   "source": [
    "sample_x_tr = x_tr[:1000]\n",
    "sample_y_tr = y_tr[:1000]\n",
    "\n",
    "sample_x_val = x_val[:50]\n",
    "sample_y_val = y_val[:50]"
   ]
  },
  {
   "cell_type": "code",
   "execution_count": 67,
   "metadata": {},
   "outputs": [
    {
     "data": {
      "text/plain": [
       "array([[  878,   626,   586, ...,     0,     0,     0],\n",
       "       [23546,  2967,   480, ...,     0,     0,     0],\n",
       "       [53824,  1080,   186, ...,    99,   501,   813],\n",
       "       ...,\n",
       "       [   78,   113,     3, ...,     0,     0,     0],\n",
       "       [  307,  1299,  5434, ...,     0,     0,     0],\n",
       "       [  136,   742,  3573, ...,     0,     0,     0]], dtype=int32)"
      ]
     },
     "execution_count": 67,
     "metadata": {},
     "output_type": "execute_result"
    }
   ],
   "source": [
    "sample_x_tr"
   ]
  },
  {
   "cell_type": "code",
   "execution_count": 68,
   "metadata": {},
   "outputs": [
    {
     "data": {
      "text/plain": [
       "'\\nhistory=model.fit([sample_x_tr,sample_y_tr[:,:-1]], \\n                  sample_y_tr.reshape(sample_y_tr.shape[0],sample_y_tr.shape[1], 1)[:,1:],\\n                  epochs=50,\\n                  callbacks=[es],\\n                  batch_size=10, \\n                  validation_data=([sample_x_val,sample_y_val[:,:-1]], sample_y_val.reshape(sample_y_val.shape[0],sample_y_val.shape[1], 1)[:,1:]))\\n# using embedding = 500 \\n'"
      ]
     },
     "execution_count": 68,
     "metadata": {},
     "output_type": "execute_result"
    }
   ],
   "source": [
    "'''\n",
    "history=model.fit([sample_x_tr,sample_y_tr[:,:-1]], \n",
    "                  sample_y_tr.reshape(sample_y_tr.shape[0],sample_y_tr.shape[1], 1)[:,1:],\n",
    "                  epochs=50,\n",
    "                  callbacks=[es],\n",
    "                  batch_size=10, \n",
    "                  validation_data=([sample_x_val,sample_y_val[:,:-1]], sample_y_val.reshape(sample_y_val.shape[0],sample_y_val.shape[1], 1)[:,1:]))\n",
    "# using embedding = 500 \n",
    "'''"
   ]
  },
  {
   "cell_type": "code",
   "execution_count": null,
   "metadata": {},
   "outputs": [
    {
     "name": "stdout",
     "output_type": "stream",
     "text": [
      "Train on 1000 samples, validate on 50 samples\n"
     ]
    },
    {
     "name": "stderr",
     "output_type": "stream",
     "text": [
      "W1029 06:25:51.474266 4684598592 deprecation.py:323] From /usr/local/lib/python3.7/site-packages/tensorflow/python/ops/math_grad.py:1250: add_dispatch_support.<locals>.wrapper (from tensorflow.python.ops.array_ops) is deprecated and will be removed in a future version.\n",
      "Instructions for updating:\n",
      "Use tf.where in 2.0, which has the same broadcast rule as np.where\n"
     ]
    },
    {
     "name": "stdout",
     "output_type": "stream",
     "text": [
      "Epoch 1/10\n"
     ]
    }
   ],
   "source": [
    "history=model.fit([sample_x_tr,sample_y_tr[:,:-1]], \n",
    "                  sample_y_tr.reshape(sample_y_tr.shape[0],sample_y_tr.shape[1], 1)[:,1:],\n",
    "                  epochs=10,\n",
    "                  callbacks=[es],\n",
    "                  batch_size=500, \n",
    "                  validation_data=([sample_x_val,sample_y_val[:,:-1]], sample_y_val.reshape(sample_y_val.shape[0],sample_y_val.shape[1], 1)[:,1:]))\n",
    "\n",
    "# embedding lower is quicker per epoch (i tried 300)....I got all 'the' predictions. "
   ]
  },
  {
   "cell_type": "code",
   "execution_count": null,
   "metadata": {},
   "outputs": [],
   "source": [
    "# NOTE: TimeDistributedDenselayer allows us to apply a layer to every temporal slice of an input"
   ]
  },
  {
   "cell_type": "code",
   "execution_count": null,
   "metadata": {},
   "outputs": [],
   "source": [
    "from matplotlib import pyplot \n",
    "pyplot.plot(history.history['loss'], label='train') \n",
    "pyplot.plot(history.history['val_loss'], label='test') \n",
    "pyplot.legend() \n",
    "pyplot.show()"
   ]
  },
  {
   "cell_type": "code",
   "execution_count": null,
   "metadata": {},
   "outputs": [],
   "source": [
    "# Build the dictionary \n",
    "reverse_target_word_index=y_tokenizer.index_word \n",
    "reverse_source_word_index=x_tokenizer.index_word \n",
    "target_word_index=y_tokenizer.word_index"
   ]
  },
  {
   "cell_type": "code",
   "execution_count": null,
   "metadata": {},
   "outputs": [],
   "source": [
    "reverse_target_word_index"
   ]
  },
  {
   "cell_type": "code",
   "execution_count": null,
   "metadata": {},
   "outputs": [],
   "source": [
    "target_word_index"
   ]
  },
  {
   "cell_type": "code",
   "execution_count": null,
   "metadata": {},
   "outputs": [],
   "source": [
    "# encoder inference\n",
    "encoder_model = Model(inputs=encoder_inputs,outputs=[encoder_outputs, state_h, state_c])\n",
    "\n",
    "# decoder inference\n",
    "# Below tensors will hold the states of the previous time step\n",
    "decoder_state_input_h = Input(shape=(latent_dim,))\n",
    "decoder_state_input_c = Input(shape=(latent_dim,))\n",
    "decoder_hidden_state_input = Input(shape=(max_len_text,latent_dim))\n",
    "\n",
    "# Get the embeddings of the decoder sequence\n",
    "dec_emb2= dec_emb_layer(decoder_inputs)\n",
    "\n",
    "# To predict the next word in the sequence, set the initial states to the states from the previous time step\n",
    "decoder_outputs2, state_h2, state_c2 = decoder_lstm(dec_emb2, initial_state=[decoder_state_input_h, decoder_state_input_c])\n",
    "\n",
    "#attention inference\n",
    "attn_out_inf, attn_states_inf = attn_layer([decoder_hidden_state_input, decoder_outputs2])\n",
    "decoder_inf_concat = Concatenate(axis=-1, name='concat')([decoder_outputs2, attn_out_inf])\n",
    "\n",
    "# A dense softmax layer to generate prob dist. over the target vocabulary\n",
    "decoder_outputs2 = decoder_dense(decoder_inf_concat)\n",
    "\n",
    "# Final decoder model\n",
    "decoder_model = Model(\n",
    "[decoder_inputs] + [decoder_hidden_state_input,decoder_state_input_h, decoder_state_input_c],\n",
    "[decoder_outputs2] + [state_h2, state_c2])"
   ]
  },
  {
   "cell_type": "code",
   "execution_count": null,
   "metadata": {},
   "outputs": [],
   "source": [
    "def decode_sequence(input_seq):\n",
    "    # Encode the input as state vectors.\n",
    "    e_out, e_h, e_c = encoder_model.predict(input_seq)\n",
    "\n",
    "    # Generate empty target sequence of length 1.\n",
    "    target_seq = np.zeros((1,1))\n",
    "\n",
    "    # Chose the 'start' word as the first word of the target sequence\n",
    "    target_seq[0, 0] = target_word_index['start']\n",
    "\n",
    "    stop_condition = False\n",
    "    decoded_sentence = ''\n",
    "    while not stop_condition:\n",
    "        output_tokens, h, c = decoder_model.predict([target_seq] + [e_out, e_h, e_c])\n",
    "        print(output_tokens)\n",
    "        print(h)\n",
    "        print(c)\n",
    "\n",
    "        # Sample a token\n",
    "        sampled_token_index = np.argmax(output_tokens[0, -1, :])\n",
    "        print(sampled_token_index)\n",
    "        sampled_token = reverse_target_word_index[sampled_token_index]\n",
    "\n",
    "        if(sampled_token!='end'):\n",
    "            decoded_sentence += ' '+sampled_token\n",
    "\n",
    "            # Exit condition: either hit max length or find stop word.\n",
    "            if (sampled_token == 'end' or len(decoded_sentence.split()) >= (max_len_headline-1)):\n",
    "                stop_condition = True\n",
    "\n",
    "        # Update the target sequence (of length 1).\n",
    "        target_seq = np.zeros((1,1))\n",
    "        target_seq[0, 0] = sampled_token_index\n",
    "\n",
    "        # Update internal states\n",
    "        e_h, e_c = h, c\n",
    "\n",
    "    return decoded_sentence"
   ]
  },
  {
   "cell_type": "code",
   "execution_count": null,
   "metadata": {},
   "outputs": [],
   "source": [
    "def seq2summary(input_seq):\n",
    "    newString=''\n",
    "    for i in input_seq:\n",
    "        if((i!=0 and i!=target_word_index['start']) and i!=target_word_index['end']):\n",
    "            newString=newString+reverse_target_word_index[i]+' '\n",
    "    return newString\n",
    "\n",
    "def seq2text(input_seq):\n",
    "    newString=''\n",
    "    for i in input_seq:\n",
    "        if(i!=0):\n",
    "            newString=newString+reverse_source_word_index[i]+' '\n",
    "    return newString"
   ]
  },
  {
   "cell_type": "code",
   "execution_count": null,
   "metadata": {},
   "outputs": [],
   "source": [
    "seq2text(sample_x_tr[0])"
   ]
  },
  {
   "cell_type": "code",
   "execution_count": null,
   "metadata": {},
   "outputs": [],
   "source": [
    "len(sample_x_val)"
   ]
  },
  {
   "cell_type": "code",
   "execution_count": null,
   "metadata": {},
   "outputs": [],
   "source": [
    "for i in range(len(sample_x_val)):\n",
    "    print(\"Review:\",seq2text(sample_x_val[i]))\n",
    "    print(\"Original summary:\",seq2summary(sample_y_val[i]))\n",
    "    print(\"Predicted summary:\",decode_sequence(sample_x_val[i].reshape(1,max_len_text)))\n",
    "    print(\"\\n\")"
   ]
  },
  {
   "cell_type": "code",
   "execution_count": null,
   "metadata": {},
   "outputs": [],
   "source": [
    "decode_sequence(sample_x_val[0].reshape(1,max_len_text))"
   ]
  },
  {
   "cell_type": "code",
   "execution_count": null,
   "metadata": {},
   "outputs": [],
   "source": []
  }
 ],
 "metadata": {
  "kernelspec": {
   "display_name": "Python 3",
   "language": "python",
   "name": "python3"
  },
  "language_info": {
   "codemirror_mode": {
    "name": "ipython",
    "version": 3
   },
   "file_extension": ".py",
   "mimetype": "text/x-python",
   "name": "python",
   "nbconvert_exporter": "python",
   "pygments_lexer": "ipython3",
   "version": "3.7.4"
  }
 },
 "nbformat": 4,
 "nbformat_minor": 2
}
