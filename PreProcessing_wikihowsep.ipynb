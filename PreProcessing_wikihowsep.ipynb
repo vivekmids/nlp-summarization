{
 "cells": [
  {
   "cell_type": "code",
   "execution_count": 1,
   "metadata": {
    "scrolled": true
   },
   "outputs": [
    {
     "name": "stderr",
     "output_type": "stream",
     "text": [
      "/anaconda3/envs/tensorflow_1_14/lib/python3.6/site-packages/tensorflow/python/framework/dtypes.py:516: FutureWarning: Passing (type, 1) or '1type' as a synonym of type is deprecated; in a future version of numpy, it will be understood as (type, (1,)) / '(1,)type'.\n",
      "  _np_qint8 = np.dtype([(\"qint8\", np.int8, 1)])\n",
      "/anaconda3/envs/tensorflow_1_14/lib/python3.6/site-packages/tensorflow/python/framework/dtypes.py:517: FutureWarning: Passing (type, 1) or '1type' as a synonym of type is deprecated; in a future version of numpy, it will be understood as (type, (1,)) / '(1,)type'.\n",
      "  _np_quint8 = np.dtype([(\"quint8\", np.uint8, 1)])\n",
      "/anaconda3/envs/tensorflow_1_14/lib/python3.6/site-packages/tensorflow/python/framework/dtypes.py:518: FutureWarning: Passing (type, 1) or '1type' as a synonym of type is deprecated; in a future version of numpy, it will be understood as (type, (1,)) / '(1,)type'.\n",
      "  _np_qint16 = np.dtype([(\"qint16\", np.int16, 1)])\n",
      "/anaconda3/envs/tensorflow_1_14/lib/python3.6/site-packages/tensorflow/python/framework/dtypes.py:519: FutureWarning: Passing (type, 1) or '1type' as a synonym of type is deprecated; in a future version of numpy, it will be understood as (type, (1,)) / '(1,)type'.\n",
      "  _np_quint16 = np.dtype([(\"quint16\", np.uint16, 1)])\n",
      "/anaconda3/envs/tensorflow_1_14/lib/python3.6/site-packages/tensorflow/python/framework/dtypes.py:520: FutureWarning: Passing (type, 1) or '1type' as a synonym of type is deprecated; in a future version of numpy, it will be understood as (type, (1,)) / '(1,)type'.\n",
      "  _np_qint32 = np.dtype([(\"qint32\", np.int32, 1)])\n",
      "/anaconda3/envs/tensorflow_1_14/lib/python3.6/site-packages/tensorflow/python/framework/dtypes.py:525: FutureWarning: Passing (type, 1) or '1type' as a synonym of type is deprecated; in a future version of numpy, it will be understood as (type, (1,)) / '(1,)type'.\n",
      "  np_resource = np.dtype([(\"resource\", np.ubyte, 1)])\n",
      "/anaconda3/envs/tensorflow_1_14/lib/python3.6/site-packages/tensorboard/compat/tensorflow_stub/dtypes.py:541: FutureWarning: Passing (type, 1) or '1type' as a synonym of type is deprecated; in a future version of numpy, it will be understood as (type, (1,)) / '(1,)type'.\n",
      "  _np_qint8 = np.dtype([(\"qint8\", np.int8, 1)])\n",
      "/anaconda3/envs/tensorflow_1_14/lib/python3.6/site-packages/tensorboard/compat/tensorflow_stub/dtypes.py:542: FutureWarning: Passing (type, 1) or '1type' as a synonym of type is deprecated; in a future version of numpy, it will be understood as (type, (1,)) / '(1,)type'.\n",
      "  _np_quint8 = np.dtype([(\"quint8\", np.uint8, 1)])\n",
      "/anaconda3/envs/tensorflow_1_14/lib/python3.6/site-packages/tensorboard/compat/tensorflow_stub/dtypes.py:543: FutureWarning: Passing (type, 1) or '1type' as a synonym of type is deprecated; in a future version of numpy, it will be understood as (type, (1,)) / '(1,)type'.\n",
      "  _np_qint16 = np.dtype([(\"qint16\", np.int16, 1)])\n",
      "/anaconda3/envs/tensorflow_1_14/lib/python3.6/site-packages/tensorboard/compat/tensorflow_stub/dtypes.py:544: FutureWarning: Passing (type, 1) or '1type' as a synonym of type is deprecated; in a future version of numpy, it will be understood as (type, (1,)) / '(1,)type'.\n",
      "  _np_quint16 = np.dtype([(\"quint16\", np.uint16, 1)])\n",
      "/anaconda3/envs/tensorflow_1_14/lib/python3.6/site-packages/tensorboard/compat/tensorflow_stub/dtypes.py:545: FutureWarning: Passing (type, 1) or '1type' as a synonym of type is deprecated; in a future version of numpy, it will be understood as (type, (1,)) / '(1,)type'.\n",
      "  _np_qint32 = np.dtype([(\"qint32\", np.int32, 1)])\n",
      "/anaconda3/envs/tensorflow_1_14/lib/python3.6/site-packages/tensorboard/compat/tensorflow_stub/dtypes.py:550: FutureWarning: Passing (type, 1) or '1type' as a synonym of type is deprecated; in a future version of numpy, it will be understood as (type, (1,)) / '(1,)type'.\n",
      "  np_resource = np.dtype([(\"resource\", np.ubyte, 1)])\n"
     ]
    }
   ],
   "source": [
    "#####\n",
    "# Packages\n",
    "##### \n",
    "\n",
    "import numpy as np\n",
    "import pandas as pd \n",
    "import tensorflow as tf\n",
    "from tensorflow import keras"
   ]
  },
  {
   "cell_type": "code",
   "execution_count": 2,
   "metadata": {},
   "outputs": [
    {
     "name": "stdout",
     "output_type": "stream",
     "text": [
      "1.14.0\n"
     ]
    }
   ],
   "source": [
    "print(tf.__version__)"
   ]
  },
  {
   "cell_type": "markdown",
   "metadata": {},
   "source": [
    "## Goal of this notebook:\n",
    "* Remove N/A, stop words, punctuation, lower case everything in paragraph + summary \n",
    "* Determine appropriate length of sequences for padding \n",
    "* Build the datasets for a train+cv vs. test "
   ]
  },
  {
   "cell_type": "markdown",
   "metadata": {},
   "source": [
    "## I. Read in dataset "
   ]
  },
  {
   "cell_type": "code",
   "execution_count": 3,
   "metadata": {},
   "outputs": [],
   "source": [
    "sepdata = pd.read_csv('wikihowSep.csv')"
   ]
  },
  {
   "cell_type": "markdown",
   "metadata": {},
   "source": [
    "### Examine for NAs "
   ]
  },
  {
   "cell_type": "code",
   "execution_count": 4,
   "metadata": {},
   "outputs": [
    {
     "data": {
      "text/html": [
       "<div>\n",
       "<style scoped>\n",
       "    .dataframe tbody tr th:only-of-type {\n",
       "        vertical-align: middle;\n",
       "    }\n",
       "\n",
       "    .dataframe tbody tr th {\n",
       "        vertical-align: top;\n",
       "    }\n",
       "\n",
       "    .dataframe thead th {\n",
       "        text-align: right;\n",
       "    }\n",
       "</style>\n",
       "<table border=\"1\" class=\"dataframe\">\n",
       "  <thead>\n",
       "    <tr style=\"text-align: right;\">\n",
       "      <th></th>\n",
       "      <th>overview</th>\n",
       "      <th>headline</th>\n",
       "      <th>text</th>\n",
       "      <th>sectionLabel</th>\n",
       "      <th>title</th>\n",
       "    </tr>\n",
       "  </thead>\n",
       "  <tbody>\n",
       "    <tr>\n",
       "      <td>0</td>\n",
       "      <td>So you're a new or aspiring artist and your c...</td>\n",
       "      <td>\\nSell yourself first.</td>\n",
       "      <td>Before doing anything else, stop and sum up y...</td>\n",
       "      <td>Steps</td>\n",
       "      <td>How to Sell Fine Art Online</td>\n",
       "    </tr>\n",
       "    <tr>\n",
       "      <td>1</td>\n",
       "      <td>If you want to be well-read, then, in the wor...</td>\n",
       "      <td>\\nRead the classics before 1600.</td>\n",
       "      <td>Reading the classics is the very first thing ...</td>\n",
       "      <td>Reading the Classics</td>\n",
       "      <td>How to Be Well Read</td>\n",
       "    </tr>\n",
       "    <tr>\n",
       "      <td>2</td>\n",
       "      <td>So you're a new or aspiring artist and your c...</td>\n",
       "      <td>\\nJoin online artist communities.</td>\n",
       "      <td>Depending on what scale you intend to sell yo...</td>\n",
       "      <td>Steps</td>\n",
       "      <td>How to Sell Fine Art Online</td>\n",
       "    </tr>\n",
       "    <tr>\n",
       "      <td>3</td>\n",
       "      <td>So you're a new or aspiring artist and your c...</td>\n",
       "      <td>\\nMake yourself public.</td>\n",
       "      <td>Get yourself out there as best as you can by ...</td>\n",
       "      <td>Steps</td>\n",
       "      <td>How to Sell Fine Art Online</td>\n",
       "    </tr>\n",
       "    <tr>\n",
       "      <td>4</td>\n",
       "      <td>So you're a new or aspiring artist and your c...</td>\n",
       "      <td>\\nBlog about your artwork.</td>\n",
       "      <td>Given the hundreds of free blogging websites,...</td>\n",
       "      <td>Steps</td>\n",
       "      <td>How to Sell Fine Art Online</td>\n",
       "    </tr>\n",
       "  </tbody>\n",
       "</table>\n",
       "</div>"
      ],
      "text/plain": [
       "                                            overview  \\\n",
       "0   So you're a new or aspiring artist and your c...   \n",
       "1   If you want to be well-read, then, in the wor...   \n",
       "2   So you're a new or aspiring artist and your c...   \n",
       "3   So you're a new or aspiring artist and your c...   \n",
       "4   So you're a new or aspiring artist and your c...   \n",
       "\n",
       "                            headline  \\\n",
       "0             \\nSell yourself first.   \n",
       "1   \\nRead the classics before 1600.   \n",
       "2  \\nJoin online artist communities.   \n",
       "3            \\nMake yourself public.   \n",
       "4         \\nBlog about your artwork.   \n",
       "\n",
       "                                                text          sectionLabel  \\\n",
       "0   Before doing anything else, stop and sum up y...                 Steps   \n",
       "1   Reading the classics is the very first thing ...  Reading the Classics   \n",
       "2   Depending on what scale you intend to sell yo...                 Steps   \n",
       "3   Get yourself out there as best as you can by ...                 Steps   \n",
       "4   Given the hundreds of free blogging websites,...                 Steps   \n",
       "\n",
       "                         title  \n",
       "0  How to Sell Fine Art Online  \n",
       "1          How to Be Well Read  \n",
       "2  How to Sell Fine Art Online  \n",
       "3  How to Sell Fine Art Online  \n",
       "4  How to Sell Fine Art Online  "
      ]
     },
     "execution_count": 4,
     "metadata": {},
     "output_type": "execute_result"
    }
   ],
   "source": [
    "sepdata.head(5)\n",
    "# Notice how we have 4 columns: \n",
    "# 'overview': the full summary based on the wikihow article \n",
    "# 'headline': the \"summary\" for the paragraph in 'text' column \n",
    "# 'text': the actual text of the paragraph \n",
    "# 'sectionLabel': section label of the paragraph \n",
    "# 'title': the title of which the paragraph belongs to. \n",
    "\n",
    "# wikihowSep (downloaded here: https://github.com/mahnazkoupaee/WikiHow-Dataset) is the same file as \n",
    "# wikihowAll, except separated by paragraph. \n",
    "\n",
    "# Given the length of the documents under wikihowAll, we opted for a shorter summary model to work with where we can \n",
    "# take paragraphs, and attempt to generate the headline for the paragraph instead. "
   ]
  },
  {
   "cell_type": "code",
   "execution_count": 5,
   "metadata": {},
   "outputs": [
    {
     "data": {
      "text/plain": [
       "214614"
      ]
     },
     "execution_count": 5,
     "metadata": {},
     "output_type": "execute_result"
    }
   ],
   "source": [
    "# Exploratory part first: \n",
    "\n",
    "# How many titles are there: \n",
    "len(sepdata['title'].unique()) "
   ]
  },
  {
   "cell_type": "code",
   "execution_count": 6,
   "metadata": {},
   "outputs": [
    {
     "data": {
      "text/plain": [
       "1585695"
      ]
     },
     "execution_count": 6,
     "metadata": {},
     "output_type": "execute_result"
    }
   ],
   "source": [
    "# Full dataset: how many labelled paragraphs do we have? \n",
    "len(sepdata)"
   ]
  },
  {
   "cell_type": "code",
   "execution_count": 35,
   "metadata": {},
   "outputs": [
    {
     "data": {
      "text/plain": [
       "1387289"
      ]
     },
     "execution_count": 35,
     "metadata": {},
     "output_type": "execute_result"
    }
   ],
   "source": [
    "# are there any NA's that we should drop? \n",
    "# Note here that we are only concerned about the 3 columns: headline, text, and title \n",
    "\n",
    "sepdata_v1 = sepdata.dropna(subset=['headline','text','title'], axis=0).reset_index(drop=True) \n",
    "len(sepdata_v1) #yes, we see some NA rows "
   ]
  },
  {
   "cell_type": "code",
   "execution_count": 36,
   "metadata": {},
   "outputs": [
    {
     "data": {
      "text/plain": [
       "211825"
      ]
     },
     "execution_count": 36,
     "metadata": {},
     "output_type": "execute_result"
    }
   ],
   "source": [
    "# Therefore, how many true titles do we have? \n",
    "len(sepdata_v1['title'].unique()) #only 211,825 "
   ]
  },
  {
   "cell_type": "code",
   "execution_count": 37,
   "metadata": {},
   "outputs": [
    {
     "data": {
      "text/plain": [
       "6.5492222353357725"
      ]
     },
     "execution_count": 37,
     "metadata": {},
     "output_type": "execute_result"
    }
   ],
   "source": [
    "# It doesn't quite matter for us since we are trying to predict headline and not the title, \n",
    "# but out of curiosity, how many paragraphs on average belong to each title? \n",
    "np.nanmean(sepdata_v1[['title','text']].groupby('title').agg('count')['text'].values) \n",
    "# Roughly 6-7 paragraphs per title "
   ]
  },
  {
   "cell_type": "code",
   "execution_count": 38,
   "metadata": {},
   "outputs": [
    {
     "data": {
      "text/plain": [
       "Text(0.5, 1.0, 'Paragraphs per Article (title)')"
      ]
     },
     "execution_count": 38,
     "metadata": {},
     "output_type": "execute_result"
    },
    {
     "data": {
      "image/png": "[encoded data removed]",
      "text/plain": [
       "<Figure size 720x432 with 1 Axes>"
      ]
     },
     "metadata": {
      "needs_background": "light"
     },
     "output_type": "display_data"
    }
   ],
   "source": [
    "%matplotlib inline \n",
    "import seaborn as sns\n",
    "import matplotlib.pyplot as plt \n",
    "\n",
    "fig, axes = plt.subplots(1,1, figsize = (10,6)) \n",
    "sns.distplot(sepdata_v1[['title','text']].groupby('title').agg('count')['text'].values, \n",
    "            ax=axes, axlabel = '# Paragraphs').set_title('Paragraphs per Article (title)')\n",
    "# majority of our paragarphsgenerally "
   ]
  },
  {
   "cell_type": "markdown",
   "metadata": {},
   "source": [
    "## II. Begin cleaning text of paragraphs "
   ]
  },
  {
   "cell_type": "code",
   "execution_count": null,
   "metadata": {},
   "outputs": [],
   "source": [
    "# Define a text cleaner \n",
    "# Drawn heavily with reference from here \n",
    "# https://www.analyticsvidhya.com/blog/2019/06/comprehensive-guide-text-summarization-using-deep-learning-python/"
   ]
  },
  {
   "cell_type": "code",
   "execution_count": 40,
   "metadata": {},
   "outputs": [],
   "source": [
    "import re #for regex search purposes          \n",
    "from nltk.corpus import stopwords #stopwords that are provided to us via nltk \n",
    "from tensorflow.keras.preprocessing.text import Tokenizer \n",
    "from tensorflow.keras.preprocessing.sequence import pad_sequences\n",
    "import math"
   ]
  },
  {
   "cell_type": "code",
   "execution_count": 41,
   "metadata": {},
   "outputs": [],
   "source": [
    "# List of contractions that we will map to \n",
    "\n",
    "contraction_mapping = {\"ain't\": \"is not\", \"aren't\": \"are not\",\"can't\": \"cannot\", \"'cause\": \"because\", \"could've\": \"could have\", \"couldn't\": \"could not\",\n",
    "\n",
    "                           \"didn't\": \"did not\", \"doesn't\": \"does not\", \"don't\": \"do not\", \"hadn't\": \"had not\", \"hasn't\": \"has not\", \"haven't\": \"have not\",\n",
    "\n",
    "                           \"he'd\": \"he would\",\"he'll\": \"he will\", \"he's\": \"he is\", \"how'd\": \"how did\", \"how'd'y\": \"how do you\", \"how'll\": \"how will\", \"how's\": \"how is\",\n",
    "\n",
    "                           \"I'd\": \"I would\", \"I'd've\": \"I would have\", \"I'll\": \"I will\", \"I'll've\": \"I will have\",\"I'm\": \"I am\", \"I've\": \"I have\", \"i'd\": \"i would\",\n",
    "\n",
    "                           \"i'd've\": \"i would have\", \"i'll\": \"i will\",  \"i'll've\": \"i will have\",\"i'm\": \"i am\", \"i've\": \"i have\", \"isn't\": \"is not\", \"it'd\": \"it would\",\n",
    "\n",
    "                           \"it'd've\": \"it would have\", \"it'll\": \"it will\", \"it'll've\": \"it will have\",\"it's\": \"it is\", \"let's\": \"let us\", \"ma'am\": \"madam\",\n",
    "\n",
    "                           \"mayn't\": \"may not\", \"might've\": \"might have\",\"mightn't\": \"might not\",\"mightn't've\": \"might not have\", \"must've\": \"must have\",\n",
    "\n",
    "                           \"mustn't\": \"must not\", \"mustn't've\": \"must not have\", \"needn't\": \"need not\", \"needn't've\": \"need not have\",\"o'clock\": \"of the clock\",\n",
    "\n",
    "                           \"oughtn't\": \"ought not\", \"oughtn't've\": \"ought not have\", \"shan't\": \"shall not\", \"sha'n't\": \"shall not\", \"shan't've\": \"shall not have\",\n",
    "\n",
    "                           \"she'd\": \"she would\", \"she'd've\": \"she would have\", \"she'll\": \"she will\", \"she'll've\": \"she will have\", \"she's\": \"she is\",\n",
    "\n",
    "                           \"should've\": \"should have\", \"shouldn't\": \"should not\", \"shouldn't've\": \"should not have\", \"so've\": \"so have\",\"so's\": \"so as\",\n",
    "\n",
    "                           \"this's\": \"this is\",\"that'd\": \"that would\", \"that'd've\": \"that would have\", \"that's\": \"that is\", \"there'd\": \"there would\",\n",
    "\n",
    "                           \"there'd've\": \"there would have\", \"there's\": \"there is\", \"here's\": \"here is\",\"they'd\": \"they would\", \"they'd've\": \"they would have\",\n",
    "\n",
    "                           \"they'll\": \"they will\", \"they'll've\": \"they will have\", \"they're\": \"they are\", \"they've\": \"they have\", \"to've\": \"to have\",\n",
    "\n",
    "                           \"wasn't\": \"was not\", \"we'd\": \"we would\", \"we'd've\": \"we would have\", \"we'll\": \"we will\", \"we'll've\": \"we will have\", \"we're\": \"we are\",\n",
    "\n",
    "                           \"we've\": \"we have\", \"weren't\": \"were not\", \"what'll\": \"what will\", \"what'll've\": \"what will have\", \"what're\": \"what are\",\n",
    "\n",
    "                           \"what's\": \"what is\", \"what've\": \"what have\", \"when's\": \"when is\", \"when've\": \"when have\", \"where'd\": \"where did\", \"where's\": \"where is\",\n",
    "\n",
    "                           \"where've\": \"where have\", \"who'll\": \"who will\", \"who'll've\": \"who will have\", \"who's\": \"who is\", \"who've\": \"who have\",\n",
    "\n",
    "                           \"why's\": \"why is\", \"why've\": \"why have\", \"will've\": \"will have\", \"won't\": \"will not\", \"won't've\": \"will not have\",\n",
    "\n",
    "                           \"would've\": \"would have\", \"wouldn't\": \"would not\", \"wouldn't've\": \"would not have\", \"y'all\": \"you all\",\n",
    "\n",
    "                           \"y'all'd\": \"you all would\",\"y'all'd've\": \"you all would have\",\"y'all're\": \"you all are\",\"y'all've\": \"you all have\",\n",
    "\n",
    "                           \"you'd\": \"you would\", \"you'd've\": \"you would have\", \"you'll\": \"you will\", \"you'll've\": \"you will have\",\n",
    "\n",
    "                           \"you're\": \"you are\", \"you've\": \"you have\"}"
   ]
  },
  {
   "cell_type": "code",
   "execution_count": 43,
   "metadata": {
    "scrolled": true
   },
   "outputs": [
    {
     "data": {
      "text/plain": [
       "array([\" Before doing anything else, stop and sum up yourself as an artist. Now, think about how to translate that to an online profile. Be it the few words, Twitter allows you or an entire page of indulgence that your own website would allow you. Bring out the most salient features of your creativity, your experience, your passion, and your reasons for painting. Make it clear to readers why you are an artist who loves art, produces high quality art, and is a true champion of art. If you're not great with words, find a friend who can help you with this really important aspect of selling online – the establishment of your credibility and reliability.;\\n\",\n",
       "       ' Reading the classics is the very first thing you have to do to be well-read. If you want to build a solid foundation for your understanding of the books you read, then you can\\'t avoid some of the earliest plays, poems, and oral tales ever written down. Remember that the novel didn\\'t really get popular until the 18th century, so you won\\'t find novels on this list. Without reading the poetry of Homer or the plays of Sophocles, you won\\'t be able to call yourself well-read. Here\\'s a list to get you started:\\n\\n\\n\\nThe Epic of Gilgamesh (Unknown author) (18th – 17th century BCE)\\n\\nThe Iliad and The Odyssey by Homer (850–750 BCE, 8th century BCE)\\n\"The Oresteia\" by Aeschylus (458 BCE)\\n\\nOedipus the King by Sophocles (430 BCE)\\n\\nMedea by Euripides (431 BCE)\\n\\nAeneid by Virgil (29–19 BCE)\\n\\nOne Thousand and One Nights (Unknown author) (700–1500)\\n\\nBeowulf (Unknown author) (975-1025)\\n\\nThe Tale of Genji by Murasaki Shikibu (11th century)\\n\\nThe Divine Comedy by Dante (1265–1321)\\n\\nThe Decameron by Boccaccio (1349–53)\\n\\nThe Canterbury Tales by Chaucer (14th century);\\n',\n",
       "       ' Depending on what scale you intend to sell your art pieces, you may want to get an account on an online art community or store, like Deviant Art. With 15% -20\\xa0% brokerage, you can also find many online art galleries like Art Brokerage, Diva Art Group, or Saatchi Art that will show your artwork online and sell them to the buyer in completely secured transaction. There are also many other possible sites, such as Etsy (heavier on the crafts but still arty), eBay (auction site), an Amazon store (an online store platform), CafePress (for printing your artwork onto stuff like mugs), Craigslist (general classifieds), and quite a lot of other artwork based sales sites (do a general search).\\n\\n\\nRead the terms and conditions of every site very carefully. Know what commission or percentage the site takes, know what protections (or lack of them) that the site offers, know what clientele generally peruse the site, know the general sales brought in by the site, know everything you can that is relevant to your sales.\\nIf your goal is to turn your art into an investment property, then selling online is likely to be a much longer path to this end. This is largely because it is generally more difficult for unknown artists to secure higher priced sales with serious collectors online than it is through a traditional gallery where such concrete decisions can be made safely. It is best to see selling art online as an adjunct to your usual methods of selling art, not your only means.\\n\\n',\n",
       "       ' Get yourself out there as best as you can by advertising yourself. Publish some \"example\" pieces around the web to show what you can do and to demonstrate your style. Be sure to add a watermark to your digital version to protect your artwork from art thieves.\\n\\n\\nSpend a little time researching online the ways in which other artists are promoting themselves. What works for them and what doesn\\'t? What do you like about their promotional strategies and what do you want to avoid? This type of research can give you a lot of ideas and also alert you to potential pitfalls for the ways in which you will promote your own artwork. Bookmark the sites of artists selling online that really inspire you, so that you can come back to them regularly to see how they\\'re evolving and succeeding.\\nSeize the power of Twitter and Facebook to increase people\\'s knowledge of you. Tweet updates about your new paintings, your thoughts about art, and news items about art in general. On Facebook, place photos of your artwork, (digitally watermarked), photos of you receiving awards, and information about your art, artwork in general, and perhaps even some critiques of artwork.\\n\\n',\n",
       "       ' Given the hundreds of free blogging websites, you have a lot of choice in keeping a blog. Most importantly, it\\'s extremely useful to keep it updated regularly - this gives people something \"pretty to look at\", and a story to follow as your reputation increases and your sales story grows. A blog can pick up a lot of hits from search engines if you utilize the keywords feature accurately; use it to your advantage. Be sure to name your blog something simple but memorable – you\\'ll want people to be able to find you with ease.\\n\\n\\nRead How to start a blog and How to increase website traffic for free for assistance.\\nA good way to test keywords for very little cost is through using an auction site. Play around with the words you use to title your art sales, as well as the words used within the body of the text. Keep changing the words until you find the sweet spot – words that really do seem to attract the most views.\\n\\n',\n",
       "       \" This could be your most effective tool if managed well. For every sale you make, every person who sends you an email that might be interested, get all of their email addresses in digital database ready for mass emailing. At designated intervals (once a month, every other week, whenever you start a new series) send them all nice, grammatically correct, friendly emails, complete with a neatly set-out portfolio of the pictures of your recent work (a PDF can work well for this purpose). This keeps you on the radar of past customers, which is important. And if it's a really wonderful newsletter, you might get lucky and they might send it to all of their friends as well – then even more eyes are seeing your work!\\n\\n\\nEvery thoughtful mailing list includes an opt-out option. Don't be threatened by this; see it as good housekeeping and as retaining the clients who really do want to see your items. You're not online to hassle people who aren't interested!\\n\\n\",\n",
       "       ' Like they say, \"a picture\\'s worth a thousand words\" and you\\'ll want your impression on potential customers to be good. Show detail, right down to paint strokes and paint type. Be willing to show potential buyers multiple shots of your work under different light, hung on a wall, etc. This may be the only way to alleviate the justifiable fear many people have of buying a work of art that they have never seen in person.\\n\\n\\nBear in mind that not everyone has a good internet connection. Balance great photos with ease of downloading time. Talk to a web specialist if you\\'re not sure what to do.\\nFor more photography tips of relevance, read How to take better product photographs for free and How to take catalog photos.\\n\\n',\n",
       "       ' Licensing art is a way of proving what belongs to whom. It is a necessary bookkeeping in the arts department and will help you if there is a dispute about originality, ownership, or moral rights.\\n\\n',\n",
       "       \" Having your own site means that you can optimize every page for search engines and it sets you apart from the many artists who only use general art sales sites. Having your own website means that the viewer is not distracted by other artists and their work whilst browsing your art and your own name is likely to gain in reputation faster. You can sell directly from your site via email correspondence with potential buyers (ask them to contact you for prices, to make a purchase etc.).\\n\\n\\nIf you're serious about selling your art online with your own site, then it's essential with a domain name that is either your own name or the name that you want people to associate you with your art. For example, you could use a domain made up of your first and last name such as firstnamelastname.com or if you work under a pseudonym then you could use a domain name using that i.e. pseudonym.com.\\nGive serious consideration to making your website as much like a virtual art gallery as possible. Encourage potential clients to wander through and see your paintings in a leisurely, gallery-like manner to increase their viewing enjoyment.\\nAdd prices and contact details. People want to see the price, so don't hide it or expect the customer to come up with one for you. And be available to answer their questions in a timely fashion.\\nWhen creating your own website, you need to find a secure method for accepting payment and you might even consider implementing an escrow system. The more expensive your artwork is, the more careful you will need to be about money handling, including acceptance of returns and refunds. There are various methods in existence online for the safe transference of money; do your research to find out what works best for your local needs and for your global market.\\n\\n\",\n",
       "       \" An online art business needs to be built up little by little. It's much the same as putting together a company (indeed, you should treat your online art sales as a business) – you will try to make your name known, or at least give people a hint on who you are as an artist, develop your services as you grow, and gain in reputation as time goes on. It may feel like a long time at the beginning but solid and patient foundations will set you up for a good future, as well as maintaining a positive attitude about what you're doing.\\n\\n\\nAttend as many relevant art shows to show your work as you can. If the shows are juried, display the awards your art has won as part of your profiles or website backgrounds.\\n\\n\",\n",
       "       ' A stage name can help you accomplish a number of things, which all can influence how you decide on your name.\\n\\n\\n\\nBranding: A stage name can help you brand your performance persona, giving you a separate identity to develop as a brand.\\n\\nSeparation of personal and professional life: A stage name will be a very public name, possibly a household name. While some people might still know your real name, keeping your real name separate from your stage name can afford you some level of privacy.\\n\\nDifferentiation: If your real name is very common, a stage name can help you stand out and be more memorable.\\n\\nPrejudice considerations: Some people have used stage names in the past in order to decrease immediate reactions of racism, anti-Semitism or other forms of prejudice. Luckily, this is less often the case today. Similarly, some women may have avoided a hyphenated name because it might indicate they’re married, which unfortunately some consider to be detrimental to their careers.;\\n'],\n",
       "      dtype=object)"
      ]
     },
     "execution_count": 43,
     "metadata": {},
     "output_type": "execute_result"
    }
   ],
   "source": [
    "sepdata_v1['text'].loc[:10].values"
   ]
  },
  {
   "cell_type": "code",
   "execution_count": 44,
   "metadata": {},
   "outputs": [],
   "source": [
    "stop_words = set(stopwords.words('english')) \n",
    "def text_cleaner(text):\n",
    "    # Step 1: Lower case the text \n",
    "    newString = text.lower()\n",
    "    # Step 2: Get rid of commas\n",
    "    newString = re.sub(r'\\([^)]*\\)', '', newString)\n",
    "    # Step 3: Get rid of quotations \n",
    "    newString = re.sub('\"','', newString)\n",
    "    # Step 4: get rid of contractions with our contraction mapping \n",
    "    newString = ' '.join([contraction_mapping[t] if t in contraction_mapping else t for t in newString.split(\" \")])  \n",
    "    # Step 5: get rid of the \\n stuff \n",
    "    newString = re.sub(r\"'s\\n\",\"\",newString)\n",
    "    # Step 6: anything that is a number, get rid of it \n",
    "    newString = re.sub(\"[^a-zA-Z]\", \" \", newString) \n",
    "    # Step 7: Tokenize everything first and keep the words that are not stop words \n",
    "    # Also keep only words that are greater than or equal to 3 characters long \n",
    "    tokens = [w for w in newString.split() if not w in stop_words]\n",
    "    long_words=[]\n",
    "    for i in tokens:\n",
    "        if len(i)>=3: #removing short words\n",
    "            long_words.append(i)   \n",
    "    return (\" \".join(long_words)).strip()"
   ]
  },
  {
   "cell_type": "code",
   "execution_count": 46,
   "metadata": {},
   "outputs": [],
   "source": [
    "cleaned_text = []\n",
    "index_blah = list(range(0,len(sepdata_v1)))\n",
    "for i in index_blah: \n",
    "    cleaned_text.append(text_cleaner(sepdata_v1.loc[i,'text']))"
   ]
  },
  {
   "cell_type": "code",
   "execution_count": 47,
   "metadata": {
    "scrolled": true
   },
   "outputs": [
    {
     "data": {
      "text/plain": [
       "['anything else stop sum artist think translate online profile words twitter allows entire page indulgence website would allow bring salient features creativity experience passion reasons painting make clear readers artist loves art produces high quality art true champion art great words find friend help really important aspect selling online establishment credibility reliability',\n",
       " 'reading classics first thing well read want build solid foundation understanding books read cannot avoid earliest plays poems oral tales ever written remember novel really get popular century find novels list without reading poetry homer plays sophocles able call well read list get started epic gilgamesh iliad odyssey homer oresteia aeschylus oedipus king sophocles medea euripides aeneid virgil one thousand one nights beowulf tale genji murasaki shikibu divine comedy dante decameron boccaccio canterbury tales chaucer',\n",
       " 'depending scale intend sell art pieces may want get account online art community store like deviant art brokerage also find many online art galleries like art brokerage diva art group saatchi art show artwork online sell buyer completely secured transaction also many possible sites etsy ebay amazon store cafepress craigslist quite lot artwork based sales sites read terms conditions every site carefully know commission percentage site takes know protections site offers know clientele generally peruse site know general sales brought site know everything relevant sales goal turn art investment property selling online likely much longer path end largely generally difficult unknown artists secure higher priced sales serious collectors online traditional gallery concrete decisions made safely best see selling art online adjunct usual methods selling art means',\n",
       " 'get best advertising publish example pieces around web show demonstrate style sure add watermark digital version protect artwork art thieves spend little time researching online ways artists promoting works like promotional strategies want avoid type research give lot ideas also alert potential pitfalls ways promote artwork bookmark sites artists selling online really inspire come back regularly see evolving succeeding seize power twitter facebook increase people knowledge tweet updates new paintings thoughts art news items art general facebook place photos artwork photos receiving awards information art artwork general perhaps even critiques artwork',\n",
       " 'given hundreds free blogging websites lot choice keeping blog importantly extremely useful keep updated regularly gives people something pretty look story follow reputation increases sales story grows blog pick lot hits search engines utilize keywords feature accurately use advantage sure name blog something simple memorable want people able find ease read start blog increase website traffic free assistance good way test keywords little cost using auction site play around words use title art sales well words used within body text keep changing words find sweet spot words really seem attract views',\n",
       " 'could effective tool managed well every sale make every person sends email might interested get email addresses digital database ready mass emailing designated intervals send nice grammatically correct friendly emails complete neatly set portfolio pictures recent work keeps radar past customers important really wonderful newsletter might get lucky might send friends well even eyes seeing work every thoughtful mailing list includes opt option threatened see good housekeeping retaining clients really want see items online hassle people interested',\n",
       " 'like say picture worth thousand words want impression potential customers good show detail right paint strokes paint type willing show potential buyers multiple shots work different light hung wall etc may way alleviate justifiable fear many people buying work art never seen person bear mind everyone good internet connection balance great photos ease downloading time talk web specialist sure photography tips relevance read take better product photographs free take catalog photos',\n",
       " 'licensing art way proving belongs necessary bookkeeping arts department help dispute originality ownership moral rights',\n",
       " 'site means optimize every page search engines sets apart many artists use general art sales sites website means viewer distracted artists work whilst browsing art name likely gain reputation faster sell directly site via email correspondence potential buyers serious selling art online site essential domain name either name name want people associate art example could use domain made first last name firstnamelastname com work pseudonym could use domain name using pseudonym com give serious consideration making website much like virtual art gallery possible encourage potential clients wander see paintings leisurely gallery like manner increase viewing enjoyment add prices contact details people want see price hide expect customer come one available answer questions timely fashion creating website need find secure method accepting payment might even consider implementing escrow system expensive artwork careful need money handling including acceptance returns refunds various methods existence online safe transference money research find works best local needs global market',\n",
       " 'online art business needs built little little much putting together company try make name known least give people hint artist develop services grow gain reputation time goes may feel like long time beginning solid patient foundations set good future well maintaining positive attitude attend many relevant art shows show work shows juried display awards art part profiles website backgrounds']"
      ]
     },
     "execution_count": 47,
     "metadata": {},
     "output_type": "execute_result"
    }
   ],
   "source": [
    "cleaned_text[0:10]"
   ]
  },
  {
   "cell_type": "code",
   "execution_count": 49,
   "metadata": {},
   "outputs": [
    {
     "data": {
      "text/plain": [
       "0                               \\nSell yourself first.\n",
       "1                     \\nRead the classics before 1600.\n",
       "2                    \\nJoin online artist communities.\n",
       "3                              \\nMake yourself public.\n",
       "4                           \\nBlog about your artwork.\n",
       "5                             \\nCreate a mailing list.\n",
       "6                                \\nTake good pictures.\n",
       "7              \\nBe sure to properly license your art.\n",
       "8     \\nConsider the option of creating your own site.\n",
       "9    \\nExpect this to be a gradual process and don'...\n",
       "Name: headline, dtype: object"
      ]
     },
     "execution_count": 49,
     "metadata": {},
     "output_type": "execute_result"
    }
   ],
   "source": [
    "sepdata_v1['headline'][0:10]"
   ]
  },
  {
   "cell_type": "code",
   "execution_count": 81,
   "metadata": {},
   "outputs": [],
   "source": [
    "# repeat the same step for the headlines, but with some variation on cleaning \n",
    "\n",
    "def headline_cleaner(text):\n",
    "    # Step 1: remove quotations \n",
    "    newString = re.sub('\"','', text)\n",
    "    # Step 2: look up contractions \n",
    "    newString = ' '.join([contraction_mapping[t] if t in contraction_mapping else t for t in newString.split(\" \")]) \n",
    "    # Step 3: Get rid of the \\n stuff \n",
    "    newString = re.sub(r\"'s\\n\",\"\",newString)\n",
    "    # Step 4: Get rid of numbers or anything not in the alphabet\n",
    "    newString = re.sub(\"[^a-zA-Z]\", \" \", newString)\n",
    "    # Step 5: Lower case \n",
    "    newString = newString.lower()\n",
    "    tokens=newString.split()\n",
    "    # Step 6: keep words that are greater than 1 character long \n",
    "    remaining=[]\n",
    "    for i in tokens:\n",
    "        if len(i)>1:                                 \n",
    "            remaining.append(i) \n",
    "    return (\" \".join(remaining)).strip()"
   ]
  },
  {
   "cell_type": "code",
   "execution_count": 82,
   "metadata": {},
   "outputs": [],
   "source": [
    "cleaned_headline = []\n",
    "index_blah = list(range(0,len(sepdata_v1)))\n",
    "for i in index_blah: \n",
    "    cleaned_headline.append(headline_cleaner(sepdata_v1.loc[i,'headline']))"
   ]
  },
  {
   "cell_type": "code",
   "execution_count": 83,
   "metadata": {},
   "outputs": [
    {
     "data": {
      "text/plain": [
       "['sell yourself first',\n",
       " 'read the classics before',\n",
       " 'join online artist communities',\n",
       " 'make yourself public',\n",
       " 'blog about your artwork',\n",
       " 'create mailing list',\n",
       " 'take good pictures',\n",
       " 'be sure to properly license your art',\n",
       " 'consider the option of creating your own site',\n",
       " 'expect this to be gradual process and do not expect to sell lot right away']"
      ]
     },
     "execution_count": 83,
     "metadata": {},
     "output_type": "execute_result"
    }
   ],
   "source": [
    "cleaned_headline[:10]"
   ]
  },
  {
   "cell_type": "code",
   "execution_count": null,
   "metadata": {},
   "outputs": [],
   "source": [
    "##### \n",
    "# This is the final edited dataframe before we start implementing \n",
    "# start/end tokens, padding, embeddings, etc. \n",
    "###### "
   ]
  },
  {
   "cell_type": "code",
   "execution_count": 89,
   "metadata": {},
   "outputs": [
    {
     "data": {
      "text/html": [
       "<div>\n",
       "<style scoped>\n",
       "    .dataframe tbody tr th:only-of-type {\n",
       "        vertical-align: middle;\n",
       "    }\n",
       "\n",
       "    .dataframe tbody tr th {\n",
       "        vertical-align: top;\n",
       "    }\n",
       "\n",
       "    .dataframe thead th {\n",
       "        text-align: right;\n",
       "    }\n",
       "</style>\n",
       "<table border=\"1\" class=\"dataframe\">\n",
       "  <thead>\n",
       "    <tr style=\"text-align: right;\">\n",
       "      <th></th>\n",
       "      <th>text</th>\n",
       "      <th>headline</th>\n",
       "      <th>title</th>\n",
       "    </tr>\n",
       "  </thead>\n",
       "  <tbody>\n",
       "    <tr>\n",
       "      <td>0</td>\n",
       "      <td>anything else stop sum artist think translate ...</td>\n",
       "      <td>sell yourself first</td>\n",
       "      <td>How to Sell Fine Art Online</td>\n",
       "    </tr>\n",
       "    <tr>\n",
       "      <td>1</td>\n",
       "      <td>reading classics first thing well read want bu...</td>\n",
       "      <td>read the classics before</td>\n",
       "      <td>How to Be Well Read</td>\n",
       "    </tr>\n",
       "    <tr>\n",
       "      <td>2</td>\n",
       "      <td>depending scale intend sell art pieces may wan...</td>\n",
       "      <td>join online artist communities</td>\n",
       "      <td>How to Sell Fine Art Online</td>\n",
       "    </tr>\n",
       "    <tr>\n",
       "      <td>3</td>\n",
       "      <td>get best advertising publish example pieces ar...</td>\n",
       "      <td>make yourself public</td>\n",
       "      <td>How to Sell Fine Art Online</td>\n",
       "    </tr>\n",
       "    <tr>\n",
       "      <td>4</td>\n",
       "      <td>given hundreds free blogging websites lot choi...</td>\n",
       "      <td>blog about your artwork</td>\n",
       "      <td>How to Sell Fine Art Online</td>\n",
       "    </tr>\n",
       "  </tbody>\n",
       "</table>\n",
       "</div>"
      ],
      "text/plain": [
       "                                                text  \\\n",
       "0  anything else stop sum artist think translate ...   \n",
       "1  reading classics first thing well read want bu...   \n",
       "2  depending scale intend sell art pieces may wan...   \n",
       "3  get best advertising publish example pieces ar...   \n",
       "4  given hundreds free blogging websites lot choi...   \n",
       "\n",
       "                         headline                        title  \n",
       "0             sell yourself first  How to Sell Fine Art Online  \n",
       "1        read the classics before          How to Be Well Read  \n",
       "2  join online artist communities  How to Sell Fine Art Online  \n",
       "3            make yourself public  How to Sell Fine Art Online  \n",
       "4         blog about your artwork  How to Sell Fine Art Online  "
      ]
     },
     "execution_count": 89,
     "metadata": {},
     "output_type": "execute_result"
    }
   ],
   "source": [
    "#pd.DataFrame([cleaned_text, cleaned_headline, sepdata_v1['title']]).T\n",
    "processed_sepdata = pd.concat([pd.Series(cleaned_text),pd.Series(cleaned_headline)], axis=1)\n",
    "processed_sepdata.columns = ['text','headline']\n",
    "processed_sepdata['title']=sepdata_v1['title']\n",
    "processed_sepdata.head()"
   ]
  },
  {
   "cell_type": "code",
   "execution_count": 90,
   "metadata": {},
   "outputs": [
    {
     "data": {
      "text/plain": [
       "0          anything else stop sum artist think translate ...\n",
       "1          reading classics first thing well read want bu...\n",
       "2          depending scale intend sell art pieces may wan...\n",
       "3          get best advertising publish example pieces ar...\n",
       "4          given hundreds free blogging websites lot choi...\n",
       "                                 ...                        \n",
       "1387284    unlike varieties pre photographic print identi...\n",
       "1387285    find plate marks always dealing relief likely ...\n",
       "1387286    upon close examination notice difference depth...\n",
       "1387287    since planographic surface holds repels ink le...\n",
       "1387288    typically fine details somewhat blurrier trans...\n",
       "Name: text, Length: 1387289, dtype: object"
      ]
     },
     "execution_count": 90,
     "metadata": {},
     "output_type": "execute_result"
    }
   ],
   "source": [
    "processed_sepdata['text']"
   ]
  },
  {
   "cell_type": "code",
   "execution_count": 91,
   "metadata": {},
   "outputs": [
    {
     "data": {
      "text/plain": [
       "0                                        sell yourself first\n",
       "1                                   read the classics before\n",
       "2                             join online artist communities\n",
       "3                                       make yourself public\n",
       "4                                    blog about your artwork\n",
       "                                 ...                        \n",
       "1387284                                    magnify the image\n",
       "1387285                  look for the absence of plate marks\n",
       "1387286                     look for the flatness of the ink\n",
       "1387287    look for the illusion of shade created by mult...\n",
       "1387288                                  look for blurriness\n",
       "Name: headline, Length: 1387289, dtype: object"
      ]
     },
     "execution_count": 91,
     "metadata": {},
     "output_type": "execute_result"
    }
   ],
   "source": [
    "processed_sepdata['headline']"
   ]
  },
  {
   "cell_type": "code",
   "execution_count": 92,
   "metadata": {},
   "outputs": [
    {
     "data": {
      "text/plain": [
       "0          How to Sell Fine Art Online\n",
       "1                  How to Be Well Read\n",
       "2          How to Sell Fine Art Online\n",
       "3          How to Sell Fine Art Online\n",
       "4          How to Sell Fine Art Online\n",
       "                      ...             \n",
       "1387284        How to Identify Prints3\n",
       "1387285        How to Identify Prints3\n",
       "1387286        How to Identify Prints3\n",
       "1387287        How to Identify Prints3\n",
       "1387288        How to Identify Prints3\n",
       "Name: title, Length: 1387289, dtype: object"
      ]
     },
     "execution_count": 92,
     "metadata": {},
     "output_type": "execute_result"
    }
   ],
   "source": [
    "processed_sepdata['title']"
   ]
  },
  {
   "cell_type": "code",
   "execution_count": 93,
   "metadata": {},
   "outputs": [],
   "source": [
    "processed_sepdata.to_csv('processed_wikihowSep.csv', index=False)"
   ]
  },
  {
   "cell_type": "code",
   "execution_count": null,
   "metadata": {},
   "outputs": [],
   "source": [
    "# Therefore, processed_wikihowSep.csv is going to be the file we read in \n",
    "# for other preprocessing steps "
   ]
  },
  {
   "cell_type": "code",
   "execution_count": 126,
   "metadata": {},
   "outputs": [],
   "source": [
    "# For easier separation and consistency, let's shuffle and get 3 sets out: train, CV, test \n",
    "# let's make it such that our test = 5% of our sample \n",
    "# 0.05*1387289 =69,364\n",
    "\n",
    "# Implement random sort of indexes so we don't have a direct split of data based on topics\n",
    "import random\n",
    "\n",
    "# Set random seed for replication purposes\n",
    "random.seed(30) \n",
    "\n",
    "# sample without replacement: \n",
    "shuffled_indices = random.sample(list(range(0,len(processed_sepdata))), len(processed_sepdata)) "
   ]
  },
  {
   "cell_type": "code",
   "execution_count": 127,
   "metadata": {
    "scrolled": true
   },
   "outputs": [
    {
     "data": {
      "text/plain": [
       "[1130535,\n",
       " 606488,\n",
       " 1281366,\n",
       " 62991,\n",
       " 1304168,\n",
       " 1370773,\n",
       " 440420,\n",
       " 539548,\n",
       " 101661,\n",
       " 832985,\n",
       " 788904,\n",
       " 1345486,\n",
       " 281167,\n",
       " 170535,\n",
       " 967904,\n",
       " 15952,\n",
       " 1095465,\n",
       " 508927,\n",
       " 54212,\n",
       " 152347,\n",
       " 335336,\n",
       " 1257357,\n",
       " 1113218,\n",
       " 842591,\n",
       " 1372426,\n",
       " 730648,\n",
       " 1122405,\n",
       " 141832,\n",
       " 841820,\n",
       " 49304,\n",
       " 521389,\n",
       " 1180314,\n",
       " 586783,\n",
       " 899307,\n",
       " 1186259,\n",
       " 200250,\n",
       " 583909,\n",
       " 1339498,\n",
       " 1179195,\n",
       " 234356,\n",
       " 1286526,\n",
       " 1036937,\n",
       " 648426,\n",
       " 271256,\n",
       " 647228,\n",
       " 653733,\n",
       " 528545,\n",
       " 1063250,\n",
       " 168490,\n",
       " 290116,\n",
       " 510076,\n",
       " 659795,\n",
       " 248562,\n",
       " 60281,\n",
       " 859258,\n",
       " 1060705,\n",
       " 631147,\n",
       " 375580,\n",
       " 1098367,\n",
       " 1348600,\n",
       " 390843,\n",
       " 989906,\n",
       " 1353468,\n",
       " 694667,\n",
       " 1076058,\n",
       " 946370,\n",
       " 1377832,\n",
       " 696781,\n",
       " 1090557,\n",
       " 708108,\n",
       " 143142,\n",
       " 42426,\n",
       " 1375894,\n",
       " 215424,\n",
       " 994582,\n",
       " 1018483,\n",
       " 548480,\n",
       " 1004229,\n",
       " 531981,\n",
       " 1217600,\n",
       " 536029,\n",
       " 356478,\n",
       " 388438,\n",
       " 392047,\n",
       " 1074620,\n",
       " 597316,\n",
       " 881105,\n",
       " 472922,\n",
       " 447396,\n",
       " 1000222,\n",
       " 775638,\n",
       " 905419,\n",
       " 1300298,\n",
       " 627980,\n",
       " 1071087,\n",
       " 797250,\n",
       " 1311657,\n",
       " 801697,\n",
       " 632106,\n",
       " 1350171,\n",
       " 988513,\n",
       " 782703,\n",
       " 650819,\n",
       " 1086109,\n",
       " 290776,\n",
       " 332725,\n",
       " 620628,\n",
       " 1108913,\n",
       " 672735,\n",
       " 42909,\n",
       " 395966,\n",
       " 250690,\n",
       " 701730,\n",
       " 1179146,\n",
       " 68576,\n",
       " 1219610,\n",
       " 1159304,\n",
       " 532328,\n",
       " 821577,\n",
       " 1332534,\n",
       " 1115045,\n",
       " 77534,\n",
       " 928509,\n",
       " 1380118,\n",
       " 14065,\n",
       " 302363,\n",
       " 1247877,\n",
       " 1041210,\n",
       " 1283168,\n",
       " 782089,\n",
       " 555001,\n",
       " 918680,\n",
       " 1083544,\n",
       " 290645,\n",
       " 279653,\n",
       " 817245,\n",
       " 1106109,\n",
       " 153623,\n",
       " 696951,\n",
       " 54681,\n",
       " 406059,\n",
       " 854619,\n",
       " 1210999,\n",
       " 998776,\n",
       " 6777,\n",
       " 299372,\n",
       " 891936,\n",
       " 134415,\n",
       " 798348,\n",
       " 522978,\n",
       " 613612,\n",
       " 626884,\n",
       " 1283966,\n",
       " 29150,\n",
       " 659882,\n",
       " 717592,\n",
       " 5484,\n",
       " 1003738,\n",
       " 938541,\n",
       " 1364031,\n",
       " 211621,\n",
       " 746919,\n",
       " 1025687,\n",
       " 1000812,\n",
       " 1204045,\n",
       " 371990,\n",
       " 248096,\n",
       " 508973,\n",
       " 697404,\n",
       " 1015165,\n",
       " 818803,\n",
       " 221698,\n",
       " 407814,\n",
       " 420823,\n",
       " 999510,\n",
       " 198479,\n",
       " 223435,\n",
       " 828738,\n",
       " 239859,\n",
       " 361228,\n",
       " 332829,\n",
       " 1085726,\n",
       " 721212,\n",
       " 44715,\n",
       " 1187691,\n",
       " 347499,\n",
       " 781759,\n",
       " 1085197,\n",
       " 1116096,\n",
       " 637684,\n",
       " 399393,\n",
       " 1253616,\n",
       " 735354,\n",
       " 313862,\n",
       " 1210324,\n",
       " 479122,\n",
       " 404378,\n",
       " 1308444,\n",
       " 1253397,\n",
       " 288526,\n",
       " 300358,\n",
       " 929043,\n",
       " 256757,\n",
       " 1255147,\n",
       " 466784,\n",
       " 674322,\n",
       " 1361272,\n",
       " 1052237,\n",
       " 300597,\n",
       " 397954,\n",
       " 345267,\n",
       " 631909,\n",
       " 870340,\n",
       " 422784,\n",
       " 603673,\n",
       " 52933,\n",
       " 869146,\n",
       " 607180,\n",
       " 8738,\n",
       " 838081,\n",
       " 576908,\n",
       " 252183,\n",
       " 1006916,\n",
       " 570381,\n",
       " 205730,\n",
       " 876735,\n",
       " 972619,\n",
       " 1166574,\n",
       " 194869,\n",
       " 983406,\n",
       " 158804,\n",
       " 500231,\n",
       " 94196,\n",
       " 1176259,\n",
       " 1317330,\n",
       " 949666,\n",
       " 1309137,\n",
       " 436013,\n",
       " 1234011,\n",
       " 3,\n",
       " 286314,\n",
       " 238647,\n",
       " 1008883,\n",
       " 1307481,\n",
       " 537662,\n",
       " 36734,\n",
       " 1162182,\n",
       " 154102,\n",
       " 735174,\n",
       " 384270,\n",
       " 1076976,\n",
       " 925547,\n",
       " 673514,\n",
       " 1014268,\n",
       " 1317531,\n",
       " 947302,\n",
       " 853491,\n",
       " 131961,\n",
       " 400834,\n",
       " 139444,\n",
       " 363581,\n",
       " 50186,\n",
       " 1266720,\n",
       " 1303963,\n",
       " 10526,\n",
       " 151912,\n",
       " 226587,\n",
       " 659914,\n",
       " 1315655,\n",
       " 365563,\n",
       " 594261,\n",
       " 60797,\n",
       " 1250052,\n",
       " 940760,\n",
       " 742857,\n",
       " 1118978,\n",
       " 816860,\n",
       " 399555,\n",
       " 91622,\n",
       " 1145427,\n",
       " 1112831,\n",
       " 22931,\n",
       " 1341331,\n",
       " 1322085,\n",
       " 233252,\n",
       " 1302102,\n",
       " 904221,\n",
       " 620900,\n",
       " 580199,\n",
       " 236637,\n",
       " 826287,\n",
       " 376065,\n",
       " 558023,\n",
       " 147026,\n",
       " 237709,\n",
       " 1385050,\n",
       " 813578,\n",
       " 890865,\n",
       " 267999,\n",
       " 1096201,\n",
       " 1188230,\n",
       " 767248,\n",
       " 747902,\n",
       " 860496,\n",
       " 163395,\n",
       " 93267,\n",
       " 1302254,\n",
       " 1288579,\n",
       " 381595,\n",
       " 1005380,\n",
       " 10347,\n",
       " 781929,\n",
       " 334689,\n",
       " 979665,\n",
       " 1373851,\n",
       " 718943,\n",
       " 822744,\n",
       " 1377413,\n",
       " 379411,\n",
       " 1081788,\n",
       " 373971,\n",
       " 1080193,\n",
       " 783754,\n",
       " 1370604,\n",
       " 489853,\n",
       " 700596,\n",
       " 531690,\n",
       " 40680,\n",
       " 43690,\n",
       " 1362349,\n",
       " 190607,\n",
       " 302614,\n",
       " 45710,\n",
       " 1050812,\n",
       " 662325,\n",
       " 1296271,\n",
       " 1031172,\n",
       " 1320830,\n",
       " 521101,\n",
       " 1278850,\n",
       " 276682,\n",
       " 318936,\n",
       " 1281065,\n",
       " 319220,\n",
       " 473995,\n",
       " 147463,\n",
       " 1338132,\n",
       " 237174,\n",
       " 681704,\n",
       " 1115983,\n",
       " 78137,\n",
       " 468652,\n",
       " 98965,\n",
       " 1101927,\n",
       " 66328,\n",
       " 690500,\n",
       " 1093602,\n",
       " 876656,\n",
       " 207804,\n",
       " 1064287,\n",
       " 467181,\n",
       " 535203,\n",
       " 347158,\n",
       " 589125,\n",
       " 228741,\n",
       " 694412,\n",
       " 382022,\n",
       " 36699,\n",
       " 435696,\n",
       " 727181,\n",
       " 1039308,\n",
       " 386774,\n",
       " 105382,\n",
       " 479100,\n",
       " 472742,\n",
       " 1286006,\n",
       " 1299129,\n",
       " 314834,\n",
       " 444707,\n",
       " 775085,\n",
       " 1165740,\n",
       " 1251403,\n",
       " 415578,\n",
       " 698363,\n",
       " 1191032,\n",
       " 1067110,\n",
       " 1197474,\n",
       " 1155729,\n",
       " 148266,\n",
       " 518816,\n",
       " 1001753,\n",
       " 430879,\n",
       " 1261398,\n",
       " 617781,\n",
       " 835804,\n",
       " 1197405,\n",
       " 1045187,\n",
       " 677843,\n",
       " 1363684,\n",
       " 54515,\n",
       " 247333,\n",
       " 970678,\n",
       " 81219,\n",
       " 522217,\n",
       " 1026633,\n",
       " 994761,\n",
       " 1020753,\n",
       " 1283992,\n",
       " 339404,\n",
       " 1204260,\n",
       " 1202909,\n",
       " 647002,\n",
       " 211812,\n",
       " 1003726,\n",
       " 1328528,\n",
       " 879000,\n",
       " 376337,\n",
       " 289404,\n",
       " 362688,\n",
       " 181264,\n",
       " 7977,\n",
       " 620852,\n",
       " 888862,\n",
       " 819991,\n",
       " 519992,\n",
       " 1117935,\n",
       " 457984,\n",
       " 130534,\n",
       " 295384,\n",
       " 1102115,\n",
       " 76756,\n",
       " 251079,\n",
       " 997675,\n",
       " 339897,\n",
       " 950204,\n",
       " 223527,\n",
       " 38260,\n",
       " 1297569,\n",
       " 667795,\n",
       " 1300099,\n",
       " 535061,\n",
       " 780652,\n",
       " 349443,\n",
       " 888813,\n",
       " 169055,\n",
       " 335397,\n",
       " 906976,\n",
       " 556060,\n",
       " 811279,\n",
       " 630392,\n",
       " 602779,\n",
       " 942206,\n",
       " 717341,\n",
       " 759489,\n",
       " 280935,\n",
       " 166529,\n",
       " 638512,\n",
       " 869030,\n",
       " 495213,\n",
       " 264946,\n",
       " 100957,\n",
       " 1368574,\n",
       " 237563,\n",
       " 892436,\n",
       " 664896,\n",
       " 1349077,\n",
       " 791327,\n",
       " 718247,\n",
       " 388451,\n",
       " 950016,\n",
       " 839245,\n",
       " 1178667,\n",
       " 1329856,\n",
       " 1354033,\n",
       " 226516,\n",
       " 854283,\n",
       " 891084,\n",
       " 1021522,\n",
       " 142646,\n",
       " 830150,\n",
       " 843427,\n",
       " 1046493,\n",
       " 569437,\n",
       " 869638,\n",
       " 742629,\n",
       " 809464,\n",
       " 473823,\n",
       " 654572,\n",
       " 659657,\n",
       " 250759,\n",
       " 223915,\n",
       " 1106574,\n",
       " 816532,\n",
       " 902660,\n",
       " 31742,\n",
       " 21962,\n",
       " 1156292,\n",
       " 1025909,\n",
       " 153287,\n",
       " 1071263,\n",
       " 911147,\n",
       " 383932,\n",
       " 96402,\n",
       " 845284,\n",
       " 429710,\n",
       " 257325,\n",
       " 117448,\n",
       " 736636,\n",
       " 352827,\n",
       " 1037601,\n",
       " 720259,\n",
       " 1110163,\n",
       " 1251537,\n",
       " 688463,\n",
       " 906120,\n",
       " 50797,\n",
       " 811490,\n",
       " 684479,\n",
       " 988439,\n",
       " 995678,\n",
       " 894229,\n",
       " 179564,\n",
       " 293062,\n",
       " 298256,\n",
       " 1290972,\n",
       " 179070,\n",
       " 1356539,\n",
       " 93500,\n",
       " 1322970,\n",
       " 160549,\n",
       " 464089,\n",
       " 452662,\n",
       " 1216468,\n",
       " 202805,\n",
       " 20678,\n",
       " 917106,\n",
       " 1045442,\n",
       " 689217,\n",
       " 1158102,\n",
       " 1381967,\n",
       " 460833,\n",
       " 174411,\n",
       " 710047,\n",
       " 1058833,\n",
       " 1367102,\n",
       " 211907,\n",
       " 771782,\n",
       " 799789,\n",
       " 471287,\n",
       " 1072776,\n",
       " 930820,\n",
       " 410512,\n",
       " 473970,\n",
       " 470768,\n",
       " 798934,\n",
       " 736265,\n",
       " 744689,\n",
       " 554354,\n",
       " 197198,\n",
       " 244311,\n",
       " 120889,\n",
       " 834914,\n",
       " 198927,\n",
       " 1349673,\n",
       " 212039,\n",
       " 1114058,\n",
       " 577873,\n",
       " 858364,\n",
       " 124836,\n",
       " 874257,\n",
       " 131787,\n",
       " 647751,\n",
       " 52751,\n",
       " 144833,\n",
       " 924459,\n",
       " 1184996,\n",
       " 950947,\n",
       " 1130943,\n",
       " 1289456,\n",
       " 593295,\n",
       " 63317,\n",
       " 1002240,\n",
       " 174841,\n",
       " 1366909,\n",
       " 263849,\n",
       " 625793,\n",
       " 1165585,\n",
       " 11278,\n",
       " 58877,\n",
       " 1369132,\n",
       " 602522,\n",
       " 933905,\n",
       " 156945,\n",
       " 1357999,\n",
       " 189068,\n",
       " 427593,\n",
       " 309296,\n",
       " 241218,\n",
       " 1287747,\n",
       " 1235194,\n",
       " 1038585,\n",
       " 650657,\n",
       " 767503,\n",
       " 526795,\n",
       " 1307302,\n",
       " 892163,\n",
       " 241111,\n",
       " 899830,\n",
       " 1208147,\n",
       " 950600,\n",
       " 1024241,\n",
       " 292555,\n",
       " 886495,\n",
       " 844556,\n",
       " 654523,\n",
       " 195387,\n",
       " 416026,\n",
       " 1155925,\n",
       " 1031519,\n",
       " 549913,\n",
       " 683672,\n",
       " 795419,\n",
       " 512188,\n",
       " 619890,\n",
       " 1265709,\n",
       " 696200,\n",
       " 37544,\n",
       " 436111,\n",
       " 600329,\n",
       " 1267212,\n",
       " 98087,\n",
       " 10924,\n",
       " 856189,\n",
       " 774196,\n",
       " 312634,\n",
       " 671124,\n",
       " 969327,\n",
       " 209521,\n",
       " 1377435,\n",
       " 533612,\n",
       " 1319441,\n",
       " 1374246,\n",
       " 571900,\n",
       " 1074391,\n",
       " 1377787,\n",
       " 341818,\n",
       " 762949,\n",
       " 161739,\n",
       " 389934,\n",
       " 389220,\n",
       " 1323430,\n",
       " 800600,\n",
       " 684220,\n",
       " 1309453,\n",
       " 1343144,\n",
       " 620313,\n",
       " 732539,\n",
       " 555384,\n",
       " 177628,\n",
       " 1273432,\n",
       " 3547,\n",
       " 457527,\n",
       " 948711,\n",
       " 1370998,\n",
       " 1333602,\n",
       " 475069,\n",
       " 530248,\n",
       " 42567,\n",
       " 700710,\n",
       " 1312498,\n",
       " 564375,\n",
       " 988775,\n",
       " 524391,\n",
       " 1275217,\n",
       " 1326442,\n",
       " 47443,\n",
       " 46859,\n",
       " 244246,\n",
       " 1040350,\n",
       " 793186,\n",
       " 1151729,\n",
       " 314367,\n",
       " 1216462,\n",
       " 332859,\n",
       " 262484,\n",
       " 1112390,\n",
       " 1241632,\n",
       " 1130529,\n",
       " 109487,\n",
       " 568876,\n",
       " 332792,\n",
       " 880377,\n",
       " 1013764,\n",
       " 64593,\n",
       " 752735,\n",
       " 96330,\n",
       " 944564,\n",
       " 230708,\n",
       " 589602,\n",
       " 118001,\n",
       " 408953,\n",
       " 563048,\n",
       " 244250,\n",
       " 964580,\n",
       " 1063247,\n",
       " 83968,\n",
       " 874703,\n",
       " 924631,\n",
       " 27935,\n",
       " 714840,\n",
       " 1322971,\n",
       " 917688,\n",
       " 176810,\n",
       " 678183,\n",
       " 1191079,\n",
       " 264991,\n",
       " 372026,\n",
       " 193068,\n",
       " 211865,\n",
       " 419816,\n",
       " 259495,\n",
       " 51535,\n",
       " 413820,\n",
       " 1292866,\n",
       " 566258,\n",
       " 59402,\n",
       " 1253506,\n",
       " 1385511,\n",
       " 460525,\n",
       " 141899,\n",
       " 194944,\n",
       " 1346318,\n",
       " 484638,\n",
       " 632059,\n",
       " 69181,\n",
       " 814026,\n",
       " 939025,\n",
       " 1317425,\n",
       " 1062213,\n",
       " 1036969,\n",
       " 742082,\n",
       " 949282,\n",
       " 1112680,\n",
       " 493060,\n",
       " 995051,\n",
       " 76265,\n",
       " 859903,\n",
       " 291025,\n",
       " 717775,\n",
       " 544580,\n",
       " 919224,\n",
       " 200152,\n",
       " 407777,\n",
       " 632216,\n",
       " 394434,\n",
       " 218315,\n",
       " 198397,\n",
       " 350572,\n",
       " 409931,\n",
       " 1053742,\n",
       " 1277392,\n",
       " 1004190,\n",
       " 290059,\n",
       " 492067,\n",
       " 876133,\n",
       " 816750,\n",
       " 835536,\n",
       " 1126356,\n",
       " 41570,\n",
       " 1197353,\n",
       " 1094179,\n",
       " 973498,\n",
       " 362283,\n",
       " 873156,\n",
       " 72269,\n",
       " 702648,\n",
       " 1200868,\n",
       " 196278,\n",
       " 865242,\n",
       " 287589,\n",
       " 85175,\n",
       " 642436,\n",
       " 1327898,\n",
       " 979781,\n",
       " 1316431,\n",
       " 231222,\n",
       " 1228411,\n",
       " 845861,\n",
       " 90636,\n",
       " 129745,\n",
       " 1081323,\n",
       " 1178679,\n",
       " 362414,\n",
       " 1214016,\n",
       " 1315545,\n",
       " 312736,\n",
       " 1304452,\n",
       " 351356,\n",
       " 651748,\n",
       " 575927,\n",
       " 317206,\n",
       " 24597,\n",
       " 717204,\n",
       " 1355443,\n",
       " 46894,\n",
       " 1163672,\n",
       " 289640,\n",
       " 711569,\n",
       " 405145,\n",
       " 139095,\n",
       " 1228032,\n",
       " 786112,\n",
       " 478801,\n",
       " 929079,\n",
       " 1385728,\n",
       " 1121488,\n",
       " 1224032,\n",
       " 437102,\n",
       " 796944,\n",
       " 348529,\n",
       " 990982,\n",
       " 724490,\n",
       " 1344904,\n",
       " 637015,\n",
       " 1174547,\n",
       " 595078,\n",
       " 59175,\n",
       " 5411,\n",
       " 709447,\n",
       " 1007088,\n",
       " 1351094,\n",
       " 220308,\n",
       " 667921,\n",
       " 645166,\n",
       " 227085,\n",
       " 473373,\n",
       " 503679,\n",
       " 844567,\n",
       " 201315,\n",
       " 692618,\n",
       " 1102795,\n",
       " 828405,\n",
       " 571682,\n",
       " 886502,\n",
       " 815470,\n",
       " 1043711,\n",
       " 1185534,\n",
       " 732665,\n",
       " 600005,\n",
       " 997182,\n",
       " 196857,\n",
       " 1188636,\n",
       " 1053290,\n",
       " 275135,\n",
       " 155596,\n",
       " 177430,\n",
       " 1346971,\n",
       " 532090,\n",
       " 380240,\n",
       " 409858,\n",
       " 31345,\n",
       " 1104049,\n",
       " 1040979,\n",
       " 827732,\n",
       " 247159,\n",
       " 667387,\n",
       " 1259603,\n",
       " 1036318,\n",
       " 14415,\n",
       " 898398,\n",
       " 63400,\n",
       " 644027,\n",
       " 484513,\n",
       " 1251879,\n",
       " 705694,\n",
       " 1087431,\n",
       " 884828,\n",
       " 1230226,\n",
       " 1069452,\n",
       " 398538,\n",
       " 1153020,\n",
       " 818909,\n",
       " 1363632,\n",
       " 764501,\n",
       " 573106,\n",
       " 333653,\n",
       " 80780,\n",
       " 1037816,\n",
       " 826689,\n",
       " 1209998,\n",
       " 1033615,\n",
       " 723663,\n",
       " 1120562,\n",
       " 877385,\n",
       " 487018,\n",
       " 782687,\n",
       " 646743,\n",
       " 206392,\n",
       " 29699,\n",
       " 1020946,\n",
       " 235458,\n",
       " 52514,\n",
       " 1206216,\n",
       " 653366,\n",
       " 1184953,\n",
       " 763116,\n",
       " 553187,\n",
       " 871245,\n",
       " 229178,\n",
       " 679492,\n",
       " 1365390,\n",
       " 1139642,\n",
       " 383863,\n",
       " 722703,\n",
       " 58279,\n",
       " 482433,\n",
       " 221416,\n",
       " 688467,\n",
       " 424303,\n",
       " 1342838,\n",
       " 1273404,\n",
       " 292476,\n",
       " 42089,\n",
       " 813347,\n",
       " 452067,\n",
       " 1071793,\n",
       " 1234551,\n",
       " 609582,\n",
       " 587132,\n",
       " 101294,\n",
       " 241818,\n",
       " 91727,\n",
       " 971486,\n",
       " 829823,\n",
       " 776531,\n",
       " 1187549,\n",
       " 110777,\n",
       " 714442,\n",
       " 331077,\n",
       " 298084,\n",
       " 315339,\n",
       " 191740,\n",
       " 537384,\n",
       " 586033,\n",
       " 1112154,\n",
       " 732394,\n",
       " 404003,\n",
       " 658972,\n",
       " 1011790,\n",
       " 77115,\n",
       " 1248548,\n",
       " 378889,\n",
       " 36019,\n",
       " 783146,\n",
       " 671146,\n",
       " 1045068,\n",
       " 627488,\n",
       " 410992,\n",
       " 262318,\n",
       " 31377,\n",
       " 1284370,\n",
       " 568406,\n",
       " 432173,\n",
       " 128308,\n",
       " 1233754,\n",
       " 1255779,\n",
       " 1291122,\n",
       " 285816,\n",
       " 1203908,\n",
       " 143382,\n",
       " 1097330,\n",
       " 272563,\n",
       " 359959,\n",
       " 472008,\n",
       " 618840,\n",
       " 929410,\n",
       " 539041,\n",
       " 492401,\n",
       " 594491,\n",
       " 590079,\n",
       " 542729,\n",
       " 183488,\n",
       " 942297,\n",
       " 792799,\n",
       " 1063721,\n",
       " 961610,\n",
       " 919241,\n",
       " 153702,\n",
       " 859308,\n",
       " 208750,\n",
       " 263235,\n",
       " 1017215,\n",
       " 286176,\n",
       " 879420,\n",
       " 1231151,\n",
       " 283458,\n",
       " 178867,\n",
       " 170624,\n",
       " 779293,\n",
       " 673815,\n",
       " ...]"
      ]
     },
     "execution_count": 127,
     "metadata": {},
     "output_type": "execute_result"
    }
   ],
   "source": [
    "shuffled_indices"
   ]
  },
  {
   "cell_type": "code",
   "execution_count": 98,
   "metadata": {},
   "outputs": [
    {
     "data": {
      "text/plain": [
       "1387289"
      ]
     },
     "execution_count": 98,
     "metadata": {},
     "output_type": "execute_result"
    }
   ],
   "source": [
    "len(shuffled_indices)"
   ]
  },
  {
   "cell_type": "code",
   "execution_count": 102,
   "metadata": {},
   "outputs": [
    {
     "data": {
      "text/plain": [
       "1387289"
      ]
     },
     "execution_count": 102,
     "metadata": {},
     "output_type": "execute_result"
    }
   ],
   "source": [
    "len(np.unique(np.array(shuffled_indices))) #nothing repeated "
   ]
  },
  {
   "cell_type": "code",
   "execution_count": 103,
   "metadata": {},
   "outputs": [
    {
     "data": {
      "text/plain": [
       "832373.4"
      ]
     },
     "execution_count": 103,
     "metadata": {},
     "output_type": "execute_result"
    }
   ],
   "source": [
    "0.6*len(shuffled_indices)"
   ]
  },
  {
   "cell_type": "code",
   "execution_count": 104,
   "metadata": {},
   "outputs": [],
   "source": [
    "train_index = shuffled_indices[:832373] #60% for training\n",
    "cv_index = shuffled_indices[832373:len(shuffled_indices)-69364] #35% for CV \n",
    "test_index = shuffled_indices[len(shuffled_indices)-69364:] #last 5% for testing "
   ]
  },
  {
   "cell_type": "code",
   "execution_count": 106,
   "metadata": {},
   "outputs": [
    {
     "data": {
      "text/plain": [
       "0.5999997116678645"
      ]
     },
     "execution_count": 106,
     "metadata": {},
     "output_type": "execute_result"
    }
   ],
   "source": [
    "len(train_index)/len(shuffled_indices)"
   ]
  },
  {
   "cell_type": "code",
   "execution_count": 107,
   "metadata": {},
   "outputs": [
    {
     "data": {
      "text/plain": [
       "0.35000061270578803"
      ]
     },
     "execution_count": 107,
     "metadata": {},
     "output_type": "execute_result"
    }
   ],
   "source": [
    "len(cv_index)/len(shuffled_indices)"
   ]
  },
  {
   "cell_type": "code",
   "execution_count": 108,
   "metadata": {},
   "outputs": [
    {
     "data": {
      "text/plain": [
       "0.0499996756263475"
      ]
     },
     "execution_count": 108,
     "metadata": {},
     "output_type": "execute_result"
    }
   ],
   "source": [
    "len(test_index)/len(shuffled_indices)"
   ]
  },
  {
   "cell_type": "code",
   "execution_count": 116,
   "metadata": {},
   "outputs": [],
   "source": [
    "# Checking to make sure we have no overlaps..."
   ]
  },
  {
   "cell_type": "code",
   "execution_count": 110,
   "metadata": {},
   "outputs": [
    {
     "data": {
      "text/plain": [
       "1265981"
      ]
     },
     "execution_count": 110,
     "metadata": {},
     "output_type": "execute_result"
    }
   ],
   "source": [
    "train_index[-1]"
   ]
  },
  {
   "cell_type": "code",
   "execution_count": 111,
   "metadata": {},
   "outputs": [
    {
     "data": {
      "text/plain": [
       "1306644"
      ]
     },
     "execution_count": 111,
     "metadata": {},
     "output_type": "execute_result"
    }
   ],
   "source": [
    "cv_index[0]"
   ]
  },
  {
   "cell_type": "code",
   "execution_count": 112,
   "metadata": {},
   "outputs": [
    {
     "data": {
      "text/plain": [
       "418054"
      ]
     },
     "execution_count": 112,
     "metadata": {},
     "output_type": "execute_result"
    }
   ],
   "source": [
    "cv_index[-1]"
   ]
  },
  {
   "cell_type": "code",
   "execution_count": 113,
   "metadata": {},
   "outputs": [
    {
     "data": {
      "text/plain": [
       "244949"
      ]
     },
     "execution_count": 113,
     "metadata": {},
     "output_type": "execute_result"
    }
   ],
   "source": [
    "test_index[0]"
   ]
  },
  {
   "cell_type": "code",
   "execution_count": 120,
   "metadata": {},
   "outputs": [
    {
     "data": {
      "text/plain": [
       "1130535"
      ]
     },
     "execution_count": 120,
     "metadata": {},
     "output_type": "execute_result"
    }
   ],
   "source": [
    "train_index[0]"
   ]
  },
  {
   "cell_type": "code",
   "execution_count": 128,
   "metadata": {},
   "outputs": [],
   "source": [
    "# make our files: \n",
    "\n",
    "# NOT HERE: I chose to drop the index here primarily to prevent reading in files and having a random Unnamed column \n",
    "# however, the random sequence above will always repeat the same indices above as long as we keep same seed. \n",
    "train_df = processed_sepdata[processed_sepdata.index.isin(train_index)].reset_index(drop=True)\n",
    "cv_df = processed_sepdata[processed_sepdata.index.isin(cv_index)].reset_index(drop=True)\n",
    "test_df = processed_sepdata[processed_sepdata.index.isin(test_index)].reset_index(drop=True)"
   ]
  },
  {
   "cell_type": "code",
   "execution_count": 129,
   "metadata": {},
   "outputs": [],
   "source": [
    "train_df.to_csv('TRAIN_processed_wikihowSep.csv', index=False) \n",
    "cv_df.to_csv('CV_processed_wikihowSep.csv', index=False)\n",
    "test_df.to_csv('TEST_processed_wikihowSep.csv', index=False)"
   ]
  },
  {
   "cell_type": "code",
   "execution_count": null,
   "metadata": {},
   "outputs": [],
   "source": [
    "##### \n",
    "#Final bit of exploration: \n",
    "#### "
   ]
  },
  {
   "cell_type": "code",
   "execution_count": null,
   "metadata": {},
   "outputs": [],
   "source": [
    "# Get a sense of our max input and output lengths "
   ]
  },
  {
   "cell_type": "code",
   "execution_count": 131,
   "metadata": {},
   "outputs": [],
   "source": [
    "wordcount_intext = []\n",
    "wordcount_inheadline = []\n",
    "\n",
    "for i in processed_sepdata['text']: \n",
    "    wordcount_intext.append(len(i.split()))\n",
    "    \n",
    "for i in processed_sepdata['headline']: \n",
    "    wordcount_inheadline.append(len(i.split()))"
   ]
  },
  {
   "cell_type": "code",
   "execution_count": 134,
   "metadata": {},
   "outputs": [
    {
     "data": {
      "text/plain": [
       "Text(0.5, 1.0, 'Headline Word Count')"
      ]
     },
     "execution_count": 134,
     "metadata": {},
     "output_type": "execute_result"
    },
    {
     "data": {
      "image/png": "[encoded data removed]",
      "text/plain": [
       "<Figure size 1080x360 with 2 Axes>"
      ]
     },
     "metadata": {
      "needs_background": "light"
     },
     "output_type": "display_data"
    }
   ],
   "source": [
    "# Generally, what's the average word count in our headline and paragraph text? \n",
    "\n",
    "fig, axes = plt.subplots(1,2, figsize = (15,5)) \n",
    "sns.distplot(wordcount_intext, bins=100, ax=axes[0], axlabel = 'Paragraph word count').set_title('Text Word Count')\n",
    "sns.distplot(wordcount_inheadline, bins=100, ax=axes[1], axlabel = 'Title word count').set_title('Headline Word Count')\n",
    "# so it looks like title word count is muuuuch lower "
   ]
  },
  {
   "cell_type": "code",
   "execution_count": 139,
   "metadata": {},
   "outputs": [
    {
     "name": "stdout",
     "output_type": "stream",
     "text": [
      "mean count of words in paragraphs: 33.98637918991645\n",
      "standard deviation of words in paragraphs: 27.23508579516612\n"
     ]
    }
   ],
   "source": [
    "# rough statistics \n",
    "print('mean count of words in paragraphs: ' + str(np.nanmean(wordcount_intext)))\n",
    "print('standard deviation of words in paragraphs: '+str(np.nanstd(wordcount_intext)))"
   ]
  },
  {
   "cell_type": "code",
   "execution_count": 140,
   "metadata": {},
   "outputs": [
    {
     "name": "stdout",
     "output_type": "stream",
     "text": [
      "mean count of words in headlines: 7.112406283045566\n",
      "standard deviation of words in headliness: 5.661153457812979\n"
     ]
    }
   ],
   "source": [
    "# rough statistics \n",
    "print('mean count of words in headlines: ' + str(np.nanmean(wordcount_inheadline)))\n",
    "print('standard deviation of words in headliness: '+str(np.nanstd(wordcount_inheadline)))"
   ]
  },
  {
   "cell_type": "code",
   "execution_count": 143,
   "metadata": {},
   "outputs": [
    {
     "data": {
      "text/plain": [
       "Text(0.5, 1.0, 'Cumulative Freq for Word Count in Text')"
      ]
     },
     "execution_count": 143,
     "metadata": {},
     "output_type": "execute_result"
    },
    {
     "data": {
      "image/png": "[encoded data removed]",
      "text/plain": [
       "<Figure size 720x288 with 1 Axes>"
      ]
     },
     "metadata": {
      "needs_background": "light"
     },
     "output_type": "display_data"
    }
   ],
   "source": [
    "# cumulative distribution for better understanding of where we can cut off: \n",
    "from scipy import stats\n",
    "wordcount_freq = stats.cumfreq(wordcount_intext, numbins=100)\n",
    "x = wordcount_freq.lowerlimit + np.linspace(0, wordcount_freq.binsize*wordcount_freq.cumcount.size, \n",
    "                                            wordcount_freq.cumcount.size)\n",
    "fig = plt.figure(figsize=(10, 4))\n",
    "ax1 = fig.add_subplot(1,1,1)\n",
    "ax1.bar(x, wordcount_freq.cumcount, width = wordcount_freq.binsize)\n",
    "ax1.set_xlim([0, 200])\n",
    "ax1.set_title('Cumulative Freq for Word Count in Text')\n",
    "# looks like if we shorten down to just 200 words in text, we'll still get majority "
   ]
  },
  {
   "cell_type": "code",
   "execution_count": 145,
   "metadata": {},
   "outputs": [
    {
     "data": {
      "text/plain": [
       "Text(0.5, 1.0, 'Cumulative Freq for Word Count in Headline')"
      ]
     },
     "execution_count": 145,
     "metadata": {},
     "output_type": "execute_result"
    },
    {
     "data": {
      "image/png": "[encoded data removed]",
      "text/plain": [
       "<Figure size 720x288 with 1 Axes>"
      ]
     },
     "metadata": {
      "needs_background": "light"
     },
     "output_type": "display_data"
    }
   ],
   "source": [
    "wordcount_summary_freq = stats.cumfreq(wordcount_inheadline, numbins=100)\n",
    "x = wordcount_summary_freq.lowerlimit + np.linspace(0, wordcount_summary_freq.binsize*wordcount_summary_freq.cumcount.size, \n",
    "                                            wordcount_summary_freq.cumcount.size)\n",
    "fig = plt.figure(figsize=(10, 4))\n",
    "ax1 = fig.add_subplot(1,1,1)\n",
    "ax1.bar(x, wordcount_summary_freq.cumcount, width = wordcount_summary_freq.binsize)\n",
    "ax1.set_xlim([0,10])\n",
    "ax1.set_title('Cumulative Freq for Word Count in Headline')\n",
    "# Looks like if we shorten down to just 10 words in headline, we'll still be fine for summary \n",
    "\n",
    "\n"
   ]
  },
  {
   "cell_type": "code",
   "execution_count": null,
   "metadata": {},
   "outputs": [],
   "source": []
  }
 ],
 "metadata": {
  "kernelspec": {
   "display_name": "tensorflow1_14",
   "language": "python",
   "name": "tensorflow_1_14"
  },
  "language_info": {
   "codemirror_mode": {
    "name": "ipython",
    "version": 3
   },
   "file_extension": ".py",
   "mimetype": "text/x-python",
   "name": "python",
   "nbconvert_exporter": "python",
   "pygments_lexer": "ipython3",
   "version": "3.6.9"
  }
 },
 "nbformat": 4,
 "nbformat_minor": 2
}
